{
 "cells": [
  {
   "cell_type": "code",
   "execution_count": 1,
   "metadata": {},
   "outputs": [],
   "source": [
    "import json\n",
    "import pandas as pd\n",
    "import matplotlib.pyplot as plt\n",
    "plt.style.use('fivethirtyeight')"
   ]
  },
  {
   "cell_type": "markdown",
   "metadata": {},
   "source": [
    "## Create Shortened DataFrame"
   ]
  },
  {
   "cell_type": "code",
   "execution_count": 2,
   "metadata": {},
   "outputs": [
    {
     "name": "stdout",
     "output_type": "stream",
     "text": [
      "Used Columns Are Present: True\n"
     ]
    }
   ],
   "source": [
    "# Load Data...\n",
    "data = [json.loads(line) for line in open(\"./data/data.jsonl\", 'r', encoding='utf-8')]\n",
    "df = pd.DataFrame(data)\n",
    "\n",
    "\n",
    "### Create Summary DataFrame for Reference\n",
    "# Create list for columns used, 1 for used feature, 0 for not used feature\n",
    "use = [1      # created_at\n",
    "       , 0    # id\n",
    "       , 1    # id_str\n",
    "       , 1    # full_text\n",
    "       , 0    # truncated\n",
    "       , 1    # display_text_range\n",
    "       , 1    # entities\n",
    "       , 1    # source\n",
    "       , 0    # in_reply_to_status_id\n",
    "       , 0    # in_reply_to_status_id_str\n",
    "       , 0    # in_reply_to_user_id\n",
    "       , 0    # in_reply_to_user_id_str\n",
    "       , 0    # in_reply_to_screen_name\n",
    "       , 1    # user\n",
    "       , 0    # geo \n",
    "       , 0    # coordinates\n",
    "       , 0    # place (maybe)\n",
    "       , 0    # contributors\n",
    "       , 1    # is_quote_status\n",
    "       , 0    # quoted_status_id \n",
    "       , 0    # quoted_status_id_str \n",
    "       , 0    # quoted_status_permalink\n",
    "       , 0    # quoted_status (maybe)\n",
    "       , 1    # retweet_count \n",
    "       , 1    # favorite_count\n",
    "       , 0    # favorited\n",
    "       , 0    # retweeted\n",
    "       , 1    # possibly_sensitive \n",
    "       , 1    # lang\n",
    "       , 1    # retweeted_status\n",
    "       , 0    # extended_entities (maybe)\n",
    "       , 0    # withheld_in_countries\n",
    "       ]\n",
    "\n",
    "# Create a dictionary with summary information\n",
    "dict_ = {'feature': list(df.columns)\n",
    "         , 'nulls': df.isna().sum().values\n",
    "         , 'non_nulls': df.notnull().sum().values\n",
    "         , 'use': use\n",
    "        }\n",
    "summary_df = pd.DataFrame(dict_)\n",
    "\n",
    "\n",
    "### Shorten Columns\n",
    "# create a list of dropped column names\n",
    "drop_col = list(summary_df.feature[summary_df.use !=1])\n",
    "\n",
    "# create a df_short dataframe with only the columns we need\n",
    "df = df.drop(columns = drop_col)\n",
    "\n",
    "# create a list of kept column names\n",
    "use_col = list(summary_df.feature[summary_df.use==1])\n",
    "\n",
    "# verify used columns are present\n",
    "print(f'Used Columns Are Present: {use_col == list(df.columns)}')\n",
    "\n",
    "# create datetime column\n",
    "df['datetime'] = pd.to_datetime(df.created_at)\n",
    "\n",
    "# drop created_at\n",
    "df.drop('created_at'\n",
    "        , axis=1\n",
    "        , inplace=True\n",
    "       )"
   ]
  },
  {
   "cell_type": "code",
   "execution_count": 3,
   "metadata": {},
   "outputs": [
    {
     "data": {
      "text/html": [
       "<div>\n",
       "<style scoped>\n",
       "    .dataframe tbody tr th:only-of-type {\n",
       "        vertical-align: middle;\n",
       "    }\n",
       "\n",
       "    .dataframe tbody tr th {\n",
       "        vertical-align: top;\n",
       "    }\n",
       "\n",
       "    .dataframe thead th {\n",
       "        text-align: right;\n",
       "    }\n",
       "</style>\n",
       "<table border=\"1\" class=\"dataframe\">\n",
       "  <thead>\n",
       "    <tr style=\"text-align: right;\">\n",
       "      <th></th>\n",
       "      <th>id_str</th>\n",
       "      <th>full_text</th>\n",
       "      <th>display_text_range</th>\n",
       "      <th>entities</th>\n",
       "      <th>source</th>\n",
       "      <th>user</th>\n",
       "      <th>is_quote_status</th>\n",
       "      <th>retweet_count</th>\n",
       "      <th>favorite_count</th>\n",
       "      <th>possibly_sensitive</th>\n",
       "      <th>lang</th>\n",
       "      <th>retweeted_status</th>\n",
       "      <th>datetime</th>\n",
       "    </tr>\n",
       "  </thead>\n",
       "  <tbody>\n",
       "    <tr>\n",
       "      <th>0</th>\n",
       "      <td>1311093385688735744</td>\n",
       "      <td>Biden a professional debater??  Hardly!! More ...</td>\n",
       "      <td>[0, 71]</td>\n",
       "      <td>{'hashtags': [], 'symbols': [], 'user_mentions...</td>\n",
       "      <td>&lt;a href=\"https://mobile.twitter.com\" rel=\"nofo...</td>\n",
       "      <td>{'id': 117904481, 'id_str': '117904481', 'name...</td>\n",
       "      <td>True</td>\n",
       "      <td>0</td>\n",
       "      <td>0</td>\n",
       "      <td>False</td>\n",
       "      <td>en</td>\n",
       "      <td>NaN</td>\n",
       "      <td>2020-09-29 23:59:56+00:00</td>\n",
       "    </tr>\n",
       "    <tr>\n",
       "      <th>1</th>\n",
       "      <td>1311093394400333824</td>\n",
       "      <td>RT @DarDar458: #PresidentialDebate #Debates202...</td>\n",
       "      <td>[0, 73]</td>\n",
       "      <td>{'hashtags': [{'text': 'PresidentialDebate', '...</td>\n",
       "      <td>&lt;a href=\"http://twitter.com/download/iphone\" r...</td>\n",
       "      <td>{'id': 30140760, 'id_str': '30140760', 'name':...</td>\n",
       "      <td>True</td>\n",
       "      <td>1</td>\n",
       "      <td>0</td>\n",
       "      <td>NaN</td>\n",
       "      <td>und</td>\n",
       "      <td>{'created_at': 'Tue Sep 29 23:55:42 +0000 2020...</td>\n",
       "      <td>2020-09-29 23:59:58+00:00</td>\n",
       "    </tr>\n",
       "    <tr>\n",
       "      <th>2</th>\n",
       "      <td>1311093401652277252</td>\n",
       "      <td>How can Biden stand a chance against Trump in ...</td>\n",
       "      <td>[0, 280]</td>\n",
       "      <td>{'hashtags': [{'text': 'VarneyCo', 'indices': ...</td>\n",
       "      <td>&lt;a href=\"https://studio.twitter.com\" rel=\"nofo...</td>\n",
       "      <td>{'id': 281610530, 'id_str': '281610530', 'name...</td>\n",
       "      <td>False</td>\n",
       "      <td>25</td>\n",
       "      <td>100</td>\n",
       "      <td>False</td>\n",
       "      <td>en</td>\n",
       "      <td>NaN</td>\n",
       "      <td>2020-09-30 00:00:00+00:00</td>\n",
       "    </tr>\n",
       "    <tr>\n",
       "      <th>3</th>\n",
       "      <td>1311093410737070086</td>\n",
       "      <td>RT @abbydphillip: Very reminiscent of pre-2018...</td>\n",
       "      <td>[0, 108]</td>\n",
       "      <td>{'hashtags': [], 'symbols': [], 'user_mentions...</td>\n",
       "      <td>&lt;a href=\"http://twitter.com/download/iphone\" r...</td>\n",
       "      <td>{'id': 88223320, 'id_str': '88223320', 'name':...</td>\n",
       "      <td>True</td>\n",
       "      <td>351</td>\n",
       "      <td>0</td>\n",
       "      <td>NaN</td>\n",
       "      <td>en</td>\n",
       "      <td>{'created_at': 'Tue Sep 29 23:00:28 +0000 2020...</td>\n",
       "      <td>2020-09-30 00:00:02+00:00</td>\n",
       "    </tr>\n",
       "    <tr>\n",
       "      <th>4</th>\n",
       "      <td>1311093419100561408</td>\n",
       "      <td>RT @RudyGiuliani: Why was Corrupt Biden’s son ...</td>\n",
       "      <td>[0, 110]</td>\n",
       "      <td>{'hashtags': [], 'symbols': [], 'user_mentions...</td>\n",
       "      <td>&lt;a href=\"http://twitter.com/download/iphone\" r...</td>\n",
       "      <td>{'id': 44295160, 'id_str': '44295160', 'name':...</td>\n",
       "      <td>False</td>\n",
       "      <td>15672</td>\n",
       "      <td>0</td>\n",
       "      <td>NaN</td>\n",
       "      <td>en</td>\n",
       "      <td>{'created_at': 'Tue Sep 29 19:07:59 +0000 2020...</td>\n",
       "      <td>2020-09-30 00:00:04+00:00</td>\n",
       "    </tr>\n",
       "  </tbody>\n",
       "</table>\n",
       "</div>"
      ],
      "text/plain": [
       "                id_str                                          full_text  \\\n",
       "0  1311093385688735744  Biden a professional debater??  Hardly!! More ...   \n",
       "1  1311093394400333824  RT @DarDar458: #PresidentialDebate #Debates202...   \n",
       "2  1311093401652277252  How can Biden stand a chance against Trump in ...   \n",
       "3  1311093410737070086  RT @abbydphillip: Very reminiscent of pre-2018...   \n",
       "4  1311093419100561408  RT @RudyGiuliani: Why was Corrupt Biden’s son ...   \n",
       "\n",
       "  display_text_range                                           entities  \\\n",
       "0            [0, 71]  {'hashtags': [], 'symbols': [], 'user_mentions...   \n",
       "1            [0, 73]  {'hashtags': [{'text': 'PresidentialDebate', '...   \n",
       "2           [0, 280]  {'hashtags': [{'text': 'VarneyCo', 'indices': ...   \n",
       "3           [0, 108]  {'hashtags': [], 'symbols': [], 'user_mentions...   \n",
       "4           [0, 110]  {'hashtags': [], 'symbols': [], 'user_mentions...   \n",
       "\n",
       "                                              source  \\\n",
       "0  <a href=\"https://mobile.twitter.com\" rel=\"nofo...   \n",
       "1  <a href=\"http://twitter.com/download/iphone\" r...   \n",
       "2  <a href=\"https://studio.twitter.com\" rel=\"nofo...   \n",
       "3  <a href=\"http://twitter.com/download/iphone\" r...   \n",
       "4  <a href=\"http://twitter.com/download/iphone\" r...   \n",
       "\n",
       "                                                user  is_quote_status  \\\n",
       "0  {'id': 117904481, 'id_str': '117904481', 'name...             True   \n",
       "1  {'id': 30140760, 'id_str': '30140760', 'name':...             True   \n",
       "2  {'id': 281610530, 'id_str': '281610530', 'name...            False   \n",
       "3  {'id': 88223320, 'id_str': '88223320', 'name':...             True   \n",
       "4  {'id': 44295160, 'id_str': '44295160', 'name':...            False   \n",
       "\n",
       "   retweet_count  favorite_count possibly_sensitive lang  \\\n",
       "0              0               0              False   en   \n",
       "1              1               0                NaN  und   \n",
       "2             25             100              False   en   \n",
       "3            351               0                NaN   en   \n",
       "4          15672               0                NaN   en   \n",
       "\n",
       "                                    retweeted_status                  datetime  \n",
       "0                                                NaN 2020-09-29 23:59:56+00:00  \n",
       "1  {'created_at': 'Tue Sep 29 23:55:42 +0000 2020... 2020-09-29 23:59:58+00:00  \n",
       "2                                                NaN 2020-09-30 00:00:00+00:00  \n",
       "3  {'created_at': 'Tue Sep 29 23:00:28 +0000 2020... 2020-09-30 00:00:02+00:00  \n",
       "4  {'created_at': 'Tue Sep 29 19:07:59 +0000 2020... 2020-09-30 00:00:04+00:00  "
      ]
     },
     "execution_count": 3,
     "metadata": {},
     "output_type": "execute_result"
    }
   ],
   "source": [
    "df.head()"
   ]
  },
  {
   "cell_type": "code",
   "execution_count": 4,
   "metadata": {},
   "outputs": [
    {
     "data": {
      "text/plain": [
       "Index(['id_str', 'full_text', 'display_text_range', 'entities', 'source',\n",
       "       'user', 'is_quote_status', 'retweet_count', 'favorite_count',\n",
       "       'possibly_sensitive', 'lang', 'retweeted_status', 'datetime'],\n",
       "      dtype='object')"
      ]
     },
     "execution_count": 4,
     "metadata": {},
     "output_type": "execute_result"
    }
   ],
   "source": [
    "df.columns"
   ]
  },
  {
   "cell_type": "code",
   "execution_count": 5,
   "metadata": {},
   "outputs": [
    {
     "name": "stdout",
     "output_type": "stream",
     "text": [
      "<class 'pandas.core.frame.DataFrame'>\n",
      "RangeIndex: 140337 entries, 0 to 140336\n",
      "Data columns (total 13 columns):\n",
      " #   Column              Non-Null Count   Dtype              \n",
      "---  ------              --------------   -----              \n",
      " 0   id_str              140337 non-null  object             \n",
      " 1   full_text           140337 non-null  object             \n",
      " 2   display_text_range  140337 non-null  object             \n",
      " 3   entities            140337 non-null  object             \n",
      " 4   source              140337 non-null  object             \n",
      " 5   user                140337 non-null  object             \n",
      " 6   is_quote_status     140337 non-null  bool               \n",
      " 7   retweet_count       140337 non-null  int64              \n",
      " 8   favorite_count      140337 non-null  int64              \n",
      " 9   possibly_sensitive  32333 non-null   object             \n",
      " 10  lang                140337 non-null  object             \n",
      " 11  retweeted_status    106900 non-null  object             \n",
      " 12  datetime            140337 non-null  datetime64[ns, UTC]\n",
      "dtypes: bool(1), datetime64[ns, UTC](1), int64(2), object(9)\n",
      "memory usage: 13.0+ MB\n"
     ]
    }
   ],
   "source": [
    "df.info()"
   ]
  },
  {
   "cell_type": "markdown",
   "metadata": {},
   "source": [
    "## Min and Max Dates"
   ]
  },
  {
   "cell_type": "code",
   "execution_count": 24,
   "metadata": {},
   "outputs": [
    {
     "name": "stdout",
     "output_type": "stream",
     "text": [
      "Earliest date: 2020-09-29 23:59:56+00:00\n",
      "Latest date: 2020-10-02 23:59:54+00:00\n"
     ]
    }
   ],
   "source": [
    "print(f'Earliest date: {df.datetime.min()}')\n",
    "print(f'Latest date: {df.datetime.max()}')"
   ]
  },
  {
   "cell_type": "markdown",
   "metadata": {},
   "source": [
    "## Create columns with numbers"
   ]
  },
  {
   "cell_type": "markdown",
   "metadata": {},
   "source": [
    "### display_text_range column to int()"
   ]
  },
  {
   "cell_type": "code",
   "execution_count": 6,
   "metadata": {},
   "outputs": [
    {
     "data": {
      "text/plain": [
       "list"
      ]
     },
     "execution_count": 6,
     "metadata": {},
     "output_type": "execute_result"
    }
   ],
   "source": [
    "type(df.display_text_range.iloc[0])"
   ]
  },
  {
   "cell_type": "code",
   "execution_count": 7,
   "metadata": {},
   "outputs": [
    {
     "data": {
      "text/plain": [
       "71"
      ]
     },
     "execution_count": 7,
     "metadata": {},
     "output_type": "execute_result"
    }
   ],
   "source": [
    "df.display_text_range.iloc[0][-1]"
   ]
  },
  {
   "cell_type": "code",
   "execution_count": 13,
   "metadata": {},
   "outputs": [],
   "source": [
    "def text_length(lst):\n",
    "    \"\"\"\n",
    "    Parses the end of list [0, 15] returns 15\n",
    "    \n",
    "    Input: lst, column entry as from display_text_range\n",
    "    Output: int, length of tweet\n",
    "    \"\"\"\n",
    "    return lst[-1]"
   ]
  },
  {
   "cell_type": "code",
   "execution_count": 17,
   "metadata": {
    "scrolled": true
   },
   "outputs": [],
   "source": [
    "df['text_lengh'] = df.display_text_range.apply(text_length)"
   ]
  },
  {
   "cell_type": "code",
   "execution_count": 18,
   "metadata": {},
   "outputs": [],
   "source": [
    "# Drop display_text_range\n",
    "df.drop('display_text_range'\n",
    "        , axis = 1\n",
    "        , inplace = True\n",
    "       )"
   ]
  },
  {
   "cell_type": "code",
   "execution_count": 20,
   "metadata": {},
   "outputs": [
    {
     "name": "stdout",
     "output_type": "stream",
     "text": [
      "<class 'pandas.core.frame.DataFrame'>\n",
      "RangeIndex: 140337 entries, 0 to 140336\n",
      "Data columns (total 13 columns):\n",
      " #   Column              Non-Null Count   Dtype              \n",
      "---  ------              --------------   -----              \n",
      " 0   id_str              140337 non-null  object             \n",
      " 1   full_text           140337 non-null  object             \n",
      " 2   entities            140337 non-null  object             \n",
      " 3   source              140337 non-null  object             \n",
      " 4   user                140337 non-null  object             \n",
      " 5   is_quote_status     140337 non-null  bool               \n",
      " 6   retweet_count       140337 non-null  int64              \n",
      " 7   favorite_count      140337 non-null  int64              \n",
      " 8   possibly_sensitive  32333 non-null   object             \n",
      " 9   lang                140337 non-null  object             \n",
      " 10  retweeted_status    106900 non-null  object             \n",
      " 11  datetime            140337 non-null  datetime64[ns, UTC]\n",
      " 12  text_lengh          140337 non-null  int64              \n",
      "dtypes: bool(1), datetime64[ns, UTC](1), int64(3), object(8)\n",
      "memory usage: 13.0+ MB\n"
     ]
    }
   ],
   "source": [
    "df.info()"
   ]
  },
  {
   "cell_type": "markdown",
   "metadata": {},
   "source": [
    "### entities column (come back to this wtih Julia and Mathias"
   ]
  },
  {
   "cell_type": "code",
   "execution_count": 19,
   "metadata": {},
   "outputs": [
    {
     "data": {
      "text/plain": [
       "{'hashtags': [],\n",
       " 'symbols': [],\n",
       " 'user_mentions': [],\n",
       " 'urls': [{'url': 'https://t.co/cQuxzexXYt',\n",
       "   'expanded_url': 'https://twitter.com/IngrahamAngle/status/1311081374510710784',\n",
       "   'display_url': 'twitter.com/IngrahamAngle/…',\n",
       "   'indices': [72, 95]}]}"
      ]
     },
     "execution_count": 19,
     "metadata": {},
     "output_type": "execute_result"
    }
   ],
   "source": [
    "df.entities.iloc[0]"
   ]
  },
  {
   "cell_type": "code",
   "execution_count": 21,
   "metadata": {},
   "outputs": [
    {
     "data": {
      "text/plain": [
       "{'hashtags': [{'text': 'PresidentialDebate', 'indices': [15, 34]},\n",
       "  {'text': 'Debates2020', 'indices': [35, 47]},\n",
       "  {'text': 'TrumpIsANationalDisgrace', 'indices': [48, 73]}],\n",
       " 'symbols': [],\n",
       " 'user_mentions': [{'screen_name': 'DarDar458',\n",
       "   'name': 'DarDar45 🌊 🆘',\n",
       "   'id': 1084234892840484864,\n",
       "   'id_str': '1084234892840484864',\n",
       "   'indices': [3, 13]}],\n",
       " 'urls': []}"
      ]
     },
     "execution_count": 21,
     "metadata": {},
     "output_type": "execute_result"
    }
   ],
   "source": [
    "df.entities.iloc[1]"
   ]
  },
  {
   "cell_type": "code",
   "execution_count": 22,
   "metadata": {},
   "outputs": [
    {
     "data": {
      "text/plain": [
       "{'hashtags': [],\n",
       " 'symbols': [],\n",
       " 'user_mentions': [{'screen_name': 'HizbkKhan',\n",
       "   'name': 'Hizbullah Khan',\n",
       "   'id': 1015029427284127745,\n",
       "   'id_str': '1015029427284127745',\n",
       "   'indices': [3, 13]}],\n",
       " 'urls': [],\n",
       " 'media': [{'id': 1310731423184191493,\n",
       "   'id_str': '1310731423184191493',\n",
       "   'indices': [93, 116],\n",
       "   'media_url': 'http://pbs.twimg.com/ext_tw_video_thumb/1310731423184191493/pu/img/kXb4Oq2Wb0p8on5F.jpg',\n",
       "   'media_url_https': 'https://pbs.twimg.com/ext_tw_video_thumb/1310731423184191493/pu/img/kXb4Oq2Wb0p8on5F.jpg',\n",
       "   'url': 'https://t.co/XnGBT6jpLl',\n",
       "   'display_url': 'pic.twitter.com/XnGBT6jpLl',\n",
       "   'expanded_url': 'https://twitter.com/HizbkKhan/status/1310731479748669440/video/1',\n",
       "   'type': 'photo',\n",
       "   'sizes': {'thumb': {'w': 150, 'h': 150, 'resize': 'crop'},\n",
       "    'medium': {'w': 628, 'h': 360, 'resize': 'fit'},\n",
       "    'large': {'w': 628, 'h': 360, 'resize': 'fit'},\n",
       "    'small': {'w': 628, 'h': 360, 'resize': 'fit'}},\n",
       "   'source_status_id': 1310731479748669440,\n",
       "   'source_status_id_str': '1310731479748669440',\n",
       "   'source_user_id': 1015029427284127745,\n",
       "   'source_user_id_str': '1015029427284127745'}]}"
      ]
     },
     "execution_count": 22,
     "metadata": {},
     "output_type": "execute_result"
    }
   ],
   "source": [
    "df.entities.iloc[100]"
   ]
  },
  {
   "cell_type": "markdown",
   "metadata": {},
   "source": [
    "### source column"
   ]
  },
  {
   "cell_type": "code",
   "execution_count": 23,
   "metadata": {},
   "outputs": [
    {
     "data": {
      "text/plain": [
       "'<a href=\"https://mobile.twitter.com\" rel=\"nofollow\">Twitter Web App</a>'"
      ]
     },
     "execution_count": 23,
     "metadata": {},
     "output_type": "execute_result"
    }
   ],
   "source": [
    "df.source.iloc[0]"
   ]
  },
  {
   "cell_type": "code",
   "execution_count": 38,
   "metadata": {},
   "outputs": [],
   "source": [
    "# write a function to prase between <a></a>\n",
    "\n",
    "from bs4 import BeautifulSoup\n",
    "\n",
    "def btw_a(txt):\n",
    "    \"\"\"\n",
    "    Returns text between the <a></a>\n",
    "    Input: txt\n",
    "    Output: txt\n",
    "    \"\"\"\n",
    "    soup = BeautifulSoup(txt)\n",
    "    for x in soup.find_all('a'):\n",
    "        return x.get_text()    "
   ]
  },
  {
   "cell_type": "code",
   "execution_count": 40,
   "metadata": {},
   "outputs": [
    {
     "data": {
      "text/plain": [
       "'Twitter Web App'"
      ]
     },
     "execution_count": 40,
     "metadata": {},
     "output_type": "execute_result"
    }
   ],
   "source": [
    "# test the function btw_a\n",
    "txt = '<a href=\"https://mobile.twitter.com\" rel=\"nofollow\">Twitter Web App</a>'\n",
    "btw_a(txt)"
   ]
  },
  {
   "cell_type": "code",
   "execution_count": 41,
   "metadata": {},
   "outputs": [],
   "source": [
    "# apply it to source column\n",
    "df.source = df.source.apply(btw_a)"
   ]
  },
  {
   "cell_type": "code",
   "execution_count": 42,
   "metadata": {},
   "outputs": [
    {
     "data": {
      "text/plain": [
       "0         Twitter Web App\n",
       "1      Twitter for iPhone\n",
       "2    Twitter Media Studio\n",
       "3      Twitter for iPhone\n",
       "4      Twitter for iPhone\n",
       "Name: source, dtype: object"
      ]
     },
     "execution_count": 42,
     "metadata": {},
     "output_type": "execute_result"
    }
   ],
   "source": [
    "# check work\n",
    "df.source.head()"
   ]
  },
  {
   "cell_type": "code",
   "execution_count": 43,
   "metadata": {},
   "outputs": [
    {
     "data": {
      "text/plain": [
       "Twitter for iPhone           62080\n",
       "Twitter for Android          38641\n",
       "Twitter Web App              29655\n",
       "Twitter for iPad              8046\n",
       "TweetDeck                      459\n",
       "                             ...  \n",
       "Merchant Media Bot               1\n",
       "Chirp for Twitter watchOS        1\n",
       "SecDevBot                        1\n",
       "akidthaine-Yugioh                1\n",
       "tbapptwt                         1\n",
       "Name: source, Length: 310, dtype: int64"
      ]
     },
     "execution_count": 43,
     "metadata": {},
     "output_type": "execute_result"
    }
   ],
   "source": [
    "# find the unique values\n",
    "df.source.value_counts()"
   ]
  },
  {
   "cell_type": "code",
   "execution_count": 44,
   "metadata": {},
   "outputs": [
    {
     "data": {
      "text/plain": [
       "310"
      ]
     },
     "execution_count": 44,
     "metadata": {},
     "output_type": "execute_result"
    }
   ],
   "source": [
    "len(df.source.value_counts())"
   ]
  },
  {
   "cell_type": "code",
   "execution_count": 45,
   "metadata": {},
   "outputs": [
    {
     "data": {
      "text/plain": [
       "Index(['Twitter for iPhone', 'Twitter for Android', 'Twitter Web App',\n",
       "       'Twitter for iPad', 'TweetDeck', 'Tweetbot for iΟS', 'WordPress.com',\n",
       "       'dlvr.it', 'IFTTT', 'Twitter for Mac',\n",
       "       ...\n",
       "       'ambul news bot', 'gabge', 'Breaking News & Religion',\n",
       "       'Share_Twitter_Office365', 'resistnews', 'Merchant Media Bot',\n",
       "       'Chirp for Twitter watchOS', 'SecDevBot', 'akidthaine-Yugioh',\n",
       "       'tbapptwt'],\n",
       "      dtype='object', length=310)"
      ]
     },
     "execution_count": 45,
     "metadata": {},
     "output_type": "execute_result"
    }
   ],
   "source": [
    "source_lst = df.source.value_counts().index\n",
    "source_lst"
   ]
  },
  {
   "cell_type": "code",
   "execution_count": null,
   "metadata": {},
   "outputs": [],
   "source": []
  },
  {
   "cell_type": "code",
   "execution_count": null,
   "metadata": {},
   "outputs": [],
   "source": []
  },
  {
   "cell_type": "code",
   "execution_count": null,
   "metadata": {},
   "outputs": [],
   "source": []
  },
  {
   "cell_type": "code",
   "execution_count": null,
   "metadata": {},
   "outputs": [],
   "source": []
  },
  {
   "cell_type": "code",
   "execution_count": null,
   "metadata": {},
   "outputs": [],
   "source": []
  },
  {
   "cell_type": "code",
   "execution_count": null,
   "metadata": {},
   "outputs": [],
   "source": []
  },
  {
   "cell_type": "code",
   "execution_count": null,
   "metadata": {},
   "outputs": [],
   "source": []
  },
  {
   "cell_type": "code",
   "execution_count": null,
   "metadata": {},
   "outputs": [],
   "source": []
  },
  {
   "cell_type": "code",
   "execution_count": null,
   "metadata": {},
   "outputs": [],
   "source": []
  },
  {
   "cell_type": "code",
   "execution_count": null,
   "metadata": {},
   "outputs": [],
   "source": []
  },
  {
   "cell_type": "code",
   "execution_count": null,
   "metadata": {},
   "outputs": [],
   "source": []
  },
  {
   "cell_type": "code",
   "execution_count": null,
   "metadata": {},
   "outputs": [],
   "source": []
  },
  {
   "cell_type": "code",
   "execution_count": null,
   "metadata": {},
   "outputs": [],
   "source": []
  },
  {
   "cell_type": "code",
   "execution_count": null,
   "metadata": {},
   "outputs": [],
   "source": []
  },
  {
   "cell_type": "code",
   "execution_count": null,
   "metadata": {},
   "outputs": [],
   "source": []
  }
 ],
 "metadata": {
  "kernelspec": {
   "display_name": "Python 3",
   "language": "python",
   "name": "python3"
  },
  "language_info": {
   "codemirror_mode": {
    "name": "ipython",
    "version": 3
   },
   "file_extension": ".py",
   "mimetype": "text/x-python",
   "name": "python",
   "nbconvert_exporter": "python",
   "pygments_lexer": "ipython3",
   "version": "3.8.5"
  }
 },
 "nbformat": 4,
 "nbformat_minor": 4
}
