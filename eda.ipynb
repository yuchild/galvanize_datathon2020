{
 "cells": [
  {
   "cell_type": "code",
   "execution_count": 1,
   "metadata": {},
   "outputs": [],
   "source": [
    "import json\n",
    "import pandas as pd\n",
    "import matplotlib.pyplot as plt\n",
    "plt.style.use('fivethirtyeight')"
   ]
  },
  {
   "cell_type": "markdown",
   "metadata": {},
   "source": [
    "## Create Shortened DataFrame for Memory Considerations"
   ]
  },
  {
   "cell_type": "code",
   "execution_count": 8,
   "metadata": {},
   "outputs": [
    {
     "name": "stdout",
     "output_type": "stream",
     "text": [
      "Used Columns Are Present: True\n"
     ]
    }
   ],
   "source": [
    "# Load Data...\n",
    "data = [json.loads(line) for line in open(\"./data/data.jsonl\", 'r', encoding='utf-8')]\n",
    "df = pd.DataFrame(data)\n",
    "\n",
    "\n",
    "### Create Summary DataFrame for Reference\n",
    "# Create list for columns used, 1 for used feature, 0 for not used feature\n",
    "use = [1      # created_at\n",
    "       , 0    # id\n",
    "       , 1    # id_str\n",
    "       , 1    # full_text\n",
    "       , 0    # truncated\n",
    "       , 1    # display_text_range\n",
    "       , 1    # entities\n",
    "       , 1    # source\n",
    "       , 0    # in_reply_to_status_id\n",
    "       , 0    # in_reply_to_status_id_str\n",
    "       , 0    # in_reply_to_user_id\n",
    "       , 0    # in_reply_to_user_id_str\n",
    "       , 0    # in_reply_to_screen_name\n",
    "       , 1    # user\n",
    "       , 0    # geo \n",
    "       , 0    # coordinates\n",
    "       , 0    # place (maybe)\n",
    "       , 0    # contributors\n",
    "       , 1    # is_quote_status\n",
    "       , 0    # quoted_status_id \n",
    "       , 0    # quoted_status_id_str \n",
    "       , 0    # quoted_status_permalink\n",
    "       , 0    # quoted_status (maybe)\n",
    "       , 1    # retweet_count \n",
    "       , 1    # favorite_count\n",
    "       , 0    # favorited\n",
    "       , 0    # retweeted\n",
    "       , 1    # possibly_sensitive \n",
    "       , 1    # lang\n",
    "       , 1    # retweeted_status\n",
    "       , 0    # extended_entities (maybe)\n",
    "       , 0    # withheld_in_countries\n",
    "       ]\n",
    "\n",
    "# Create a dictionary with summary information\n",
    "dict_ = {'feature': list(df.columns)\n",
    "         , 'nulls': df.isna().sum().values\n",
    "         , 'non_nulls': df.notnull().sum().values\n",
    "         , 'use': use\n",
    "        }\n",
    "summary_df = pd.DataFrame(dict_)\n",
    "\n",
    "\n",
    "### Shorten Columns\n",
    "# create a list of dropped column names\n",
    "drop_col = list(summary_df.feature[summary_df.use !=1])\n",
    "\n",
    "# create a df_short dataframe with only the columns we need\n",
    "df = df.drop(columns = drop_col)\n",
    "\n",
    "# create a list of kept column names\n",
    "use_col = list(summary_df.feature[summary_df.use==1])\n",
    "\n",
    "# verify used columns are present\n",
    "print(f'Used Columns Are Present: {use_col == list(df.columns)}')\n",
    "\n",
    "\n",
    "### Save df as .csv to load to readuce memory useage\n",
    "df.to_csv('./data/data_short.csv'\n",
    "          , index=False\n",
    "         )"
   ]
  },
  {
   "cell_type": "code",
   "execution_count": 9,
   "metadata": {},
   "outputs": [
    {
     "data": {
      "text/plain": [
       "(140337, 13)"
      ]
     },
     "execution_count": 9,
     "metadata": {},
     "output_type": "execute_result"
    }
   ],
   "source": [
    "df.shape"
   ]
  },
  {
   "cell_type": "code",
   "execution_count": 10,
   "metadata": {},
   "outputs": [
    {
     "data": {
      "text/plain": [
       "created_at                 0\n",
       "id_str                     0\n",
       "full_text                  0\n",
       "display_text_range         0\n",
       "entities                   0\n",
       "source                     0\n",
       "user                       0\n",
       "is_quote_status            0\n",
       "retweet_count              0\n",
       "favorite_count             0\n",
       "possibly_sensitive    108004\n",
       "lang                       0\n",
       "retweeted_status       33437\n",
       "dtype: int64"
      ]
     },
     "execution_count": 10,
     "metadata": {},
     "output_type": "execute_result"
    }
   ],
   "source": [
    "df.isna().sum()"
   ]
  },
  {
   "cell_type": "markdown",
   "metadata": {},
   "source": [
    "### Load data_short.csv From Now On..."
   ]
  },
  {
   "cell_type": "code",
   "execution_count": 41,
   "metadata": {},
   "outputs": [],
   "source": [
    "df = pd.read_csv('./data/data_short.csv'\n",
    "                 , low_memory=False\n",
    "                )"
   ]
  },
  {
   "cell_type": "code",
   "execution_count": 42,
   "metadata": {},
   "outputs": [
    {
     "data": {
      "text/plain": [
       "(140338, 13)"
      ]
     },
     "execution_count": 42,
     "metadata": {},
     "output_type": "execute_result"
    }
   ],
   "source": [
    "df.shape"
   ]
  },
  {
   "cell_type": "markdown",
   "metadata": {},
   "source": [
    "### A Look at Nulls"
   ]
  },
  {
   "cell_type": "code",
   "execution_count": 43,
   "metadata": {},
   "outputs": [
    {
     "data": {
      "text/html": [
       "<div>\n",
       "<style scoped>\n",
       "    .dataframe tbody tr th:only-of-type {\n",
       "        vertical-align: middle;\n",
       "    }\n",
       "\n",
       "    .dataframe tbody tr th {\n",
       "        vertical-align: top;\n",
       "    }\n",
       "\n",
       "    .dataframe thead th {\n",
       "        text-align: right;\n",
       "    }\n",
       "</style>\n",
       "<table border=\"1\" class=\"dataframe\">\n",
       "  <thead>\n",
       "    <tr style=\"text-align: right;\">\n",
       "      <th></th>\n",
       "      <th>created_at</th>\n",
       "      <th>id_str</th>\n",
       "      <th>full_text</th>\n",
       "      <th>display_text_range</th>\n",
       "      <th>entities</th>\n",
       "      <th>source</th>\n",
       "      <th>user</th>\n",
       "      <th>is_quote_status</th>\n",
       "      <th>retweet_count</th>\n",
       "      <th>favorite_count</th>\n",
       "      <th>possibly_sensitive</th>\n",
       "      <th>lang</th>\n",
       "      <th>retweeted_status</th>\n",
       "    </tr>\n",
       "  </thead>\n",
       "  <tbody>\n",
       "    <tr>\n",
       "      <th>0</th>\n",
       "      <td>Tue Sep 29 23:59:56 +0000 2020</td>\n",
       "      <td>1311093385688735744</td>\n",
       "      <td>Biden a professional debater??  Hardly!! More ...</td>\n",
       "      <td>[0, 71]</td>\n",
       "      <td>{'hashtags': [], 'symbols': [], 'user_mentions...</td>\n",
       "      <td>&lt;a href=\"https://mobile.twitter.com\" rel=\"nofo...</td>\n",
       "      <td>{'id': 117904481, 'id_str': '117904481', 'name...</td>\n",
       "      <td>True</td>\n",
       "      <td>0</td>\n",
       "      <td>0</td>\n",
       "      <td>False</td>\n",
       "      <td>en</td>\n",
       "      <td>NaN</td>\n",
       "    </tr>\n",
       "    <tr>\n",
       "      <th>1</th>\n",
       "      <td>Tue Sep 29 23:59:58 +0000 2020</td>\n",
       "      <td>1311093394400333824</td>\n",
       "      <td>RT @DarDar458: #PresidentialDebate #Debates202...</td>\n",
       "      <td>[0, 73]</td>\n",
       "      <td>{'hashtags': [{'text': 'PresidentialDebate', '...</td>\n",
       "      <td>&lt;a href=\"http://twitter.com/download/iphone\" r...</td>\n",
       "      <td>{'id': 30140760, 'id_str': '30140760', 'name':...</td>\n",
       "      <td>True</td>\n",
       "      <td>1</td>\n",
       "      <td>0</td>\n",
       "      <td>NaN</td>\n",
       "      <td>und</td>\n",
       "      <td>{'created_at': 'Tue Sep 29 23:55:42 +0000 2020...</td>\n",
       "    </tr>\n",
       "    <tr>\n",
       "      <th>2</th>\n",
       "      <td>Wed Sep 30 00:00:00 +0000 2020</td>\n",
       "      <td>1311093401652277252</td>\n",
       "      <td>How can Biden stand a chance against Trump in ...</td>\n",
       "      <td>[0, 280]</td>\n",
       "      <td>{'hashtags': [{'text': 'VarneyCo', 'indices': ...</td>\n",
       "      <td>&lt;a href=\"https://studio.twitter.com\" rel=\"nofo...</td>\n",
       "      <td>{'id': 281610530, 'id_str': '281610530', 'name...</td>\n",
       "      <td>False</td>\n",
       "      <td>25</td>\n",
       "      <td>100</td>\n",
       "      <td>False</td>\n",
       "      <td>en</td>\n",
       "      <td>NaN</td>\n",
       "    </tr>\n",
       "    <tr>\n",
       "      <th>3</th>\n",
       "      <td>Wed Sep 30 00:00:02 +0000 2020</td>\n",
       "      <td>1311093410737070086</td>\n",
       "      <td>RT @abbydphillip: Very reminiscent of pre-2018...</td>\n",
       "      <td>[0, 108]</td>\n",
       "      <td>{'hashtags': [], 'symbols': [], 'user_mentions...</td>\n",
       "      <td>&lt;a href=\"http://twitter.com/download/iphone\" r...</td>\n",
       "      <td>{'id': 88223320, 'id_str': '88223320', 'name':...</td>\n",
       "      <td>True</td>\n",
       "      <td>351</td>\n",
       "      <td>0</td>\n",
       "      <td>NaN</td>\n",
       "      <td>en</td>\n",
       "      <td>{'created_at': 'Tue Sep 29 23:00:28 +0000 2020...</td>\n",
       "    </tr>\n",
       "    <tr>\n",
       "      <th>4</th>\n",
       "      <td>Wed Sep 30 00:00:04 +0000 2020</td>\n",
       "      <td>1311093419100561408</td>\n",
       "      <td>RT @RudyGiuliani: Why was Corrupt Biden’s son ...</td>\n",
       "      <td>[0, 110]</td>\n",
       "      <td>{'hashtags': [], 'symbols': [], 'user_mentions...</td>\n",
       "      <td>&lt;a href=\"http://twitter.com/download/iphone\" r...</td>\n",
       "      <td>{'id': 44295160, 'id_str': '44295160', 'name':...</td>\n",
       "      <td>False</td>\n",
       "      <td>15672</td>\n",
       "      <td>0</td>\n",
       "      <td>NaN</td>\n",
       "      <td>en</td>\n",
       "      <td>{'created_at': 'Tue Sep 29 19:07:59 +0000 2020...</td>\n",
       "    </tr>\n",
       "  </tbody>\n",
       "</table>\n",
       "</div>"
      ],
      "text/plain": [
       "                       created_at               id_str  \\\n",
       "0  Tue Sep 29 23:59:56 +0000 2020  1311093385688735744   \n",
       "1  Tue Sep 29 23:59:58 +0000 2020  1311093394400333824   \n",
       "2  Wed Sep 30 00:00:00 +0000 2020  1311093401652277252   \n",
       "3  Wed Sep 30 00:00:02 +0000 2020  1311093410737070086   \n",
       "4  Wed Sep 30 00:00:04 +0000 2020  1311093419100561408   \n",
       "\n",
       "                                           full_text display_text_range  \\\n",
       "0  Biden a professional debater??  Hardly!! More ...            [0, 71]   \n",
       "1  RT @DarDar458: #PresidentialDebate #Debates202...            [0, 73]   \n",
       "2  How can Biden stand a chance against Trump in ...           [0, 280]   \n",
       "3  RT @abbydphillip: Very reminiscent of pre-2018...           [0, 108]   \n",
       "4  RT @RudyGiuliani: Why was Corrupt Biden’s son ...           [0, 110]   \n",
       "\n",
       "                                            entities  \\\n",
       "0  {'hashtags': [], 'symbols': [], 'user_mentions...   \n",
       "1  {'hashtags': [{'text': 'PresidentialDebate', '...   \n",
       "2  {'hashtags': [{'text': 'VarneyCo', 'indices': ...   \n",
       "3  {'hashtags': [], 'symbols': [], 'user_mentions...   \n",
       "4  {'hashtags': [], 'symbols': [], 'user_mentions...   \n",
       "\n",
       "                                              source  \\\n",
       "0  <a href=\"https://mobile.twitter.com\" rel=\"nofo...   \n",
       "1  <a href=\"http://twitter.com/download/iphone\" r...   \n",
       "2  <a href=\"https://studio.twitter.com\" rel=\"nofo...   \n",
       "3  <a href=\"http://twitter.com/download/iphone\" r...   \n",
       "4  <a href=\"http://twitter.com/download/iphone\" r...   \n",
       "\n",
       "                                                user is_quote_status  \\\n",
       "0  {'id': 117904481, 'id_str': '117904481', 'name...            True   \n",
       "1  {'id': 30140760, 'id_str': '30140760', 'name':...            True   \n",
       "2  {'id': 281610530, 'id_str': '281610530', 'name...           False   \n",
       "3  {'id': 88223320, 'id_str': '88223320', 'name':...            True   \n",
       "4  {'id': 44295160, 'id_str': '44295160', 'name':...           False   \n",
       "\n",
       "  retweet_count favorite_count possibly_sensitive lang  \\\n",
       "0             0              0              False   en   \n",
       "1             1              0                NaN  und   \n",
       "2            25            100              False   en   \n",
       "3           351              0                NaN   en   \n",
       "4         15672              0                NaN   en   \n",
       "\n",
       "                                    retweeted_status  \n",
       "0                                                NaN  \n",
       "1  {'created_at': 'Tue Sep 29 23:55:42 +0000 2020...  \n",
       "2                                                NaN  \n",
       "3  {'created_at': 'Tue Sep 29 23:00:28 +0000 2020...  \n",
       "4  {'created_at': 'Tue Sep 29 19:07:59 +0000 2020...  "
      ]
     },
     "execution_count": 43,
     "metadata": {},
     "output_type": "execute_result"
    }
   ],
   "source": [
    "df.head()"
   ]
  },
  {
   "cell_type": "code",
   "execution_count": 44,
   "metadata": {},
   "outputs": [
    {
     "data": {
      "text/plain": [
       "created_at                 0\n",
       "id_str                     0\n",
       "full_text                  0\n",
       "display_text_range         1\n",
       "entities                   1\n",
       "source                    19\n",
       "user                       1\n",
       "is_quote_status            1\n",
       "retweet_count              1\n",
       "favorite_count             1\n",
       "possibly_sensitive    108006\n",
       "lang                       2\n",
       "retweeted_status       33438\n",
       "dtype: int64"
      ]
     },
     "execution_count": 44,
     "metadata": {},
     "output_type": "execute_result"
    }
   ],
   "source": [
    "df.isna().sum()"
   ]
  },
  {
   "cell_type": "code",
   "execution_count": 45,
   "metadata": {},
   "outputs": [
    {
     "data": {
      "text/html": [
       "<div>\n",
       "<style scoped>\n",
       "    .dataframe tbody tr th:only-of-type {\n",
       "        vertical-align: middle;\n",
       "    }\n",
       "\n",
       "    .dataframe tbody tr th {\n",
       "        vertical-align: top;\n",
       "    }\n",
       "\n",
       "    .dataframe thead th {\n",
       "        text-align: right;\n",
       "    }\n",
       "</style>\n",
       "<table border=\"1\" class=\"dataframe\">\n",
       "  <thead>\n",
       "    <tr style=\"text-align: right;\">\n",
       "      <th></th>\n",
       "      <th>created_at</th>\n",
       "      <th>id_str</th>\n",
       "      <th>full_text</th>\n",
       "      <th>display_text_range</th>\n",
       "      <th>entities</th>\n",
       "      <th>source</th>\n",
       "      <th>user</th>\n",
       "      <th>is_quote_status</th>\n",
       "      <th>retweet_count</th>\n",
       "      <th>favorite_count</th>\n",
       "      <th>possibly_sensitive</th>\n",
       "      <th>lang</th>\n",
       "      <th>retweeted_status</th>\n",
       "    </tr>\n",
       "  </thead>\n",
       "  <tbody>\n",
       "    <tr>\n",
       "      <th>110181</th>\n",
       "      <td>Fri Oct 02 08:23:01 +0000 2020</td>\n",
       "      <td>1311944766872059904</td>\n",
       "      <td>@rudybouma The Cornell University study: '#Cor...</td>\n",
       "      <td>NaN</td>\n",
       "      <td>NaN</td>\n",
       "      <td>NaN</td>\n",
       "      <td>NaN</td>\n",
       "      <td>NaN</td>\n",
       "      <td>NaN</td>\n",
       "      <td>NaN</td>\n",
       "      <td>NaN</td>\n",
       "      <td>NaN</td>\n",
       "      <td>NaN</td>\n",
       "    </tr>\n",
       "  </tbody>\n",
       "</table>\n",
       "</div>"
      ],
      "text/plain": [
       "                            created_at               id_str  \\\n",
       "110181  Fri Oct 02 08:23:01 +0000 2020  1311944766872059904   \n",
       "\n",
       "                                                full_text display_text_range  \\\n",
       "110181  @rudybouma The Cornell University study: '#Cor...                NaN   \n",
       "\n",
       "       entities source user is_quote_status retweet_count favorite_count  \\\n",
       "110181      NaN    NaN  NaN             NaN           NaN            NaN   \n",
       "\n",
       "       possibly_sensitive lang retweeted_status  \n",
       "110181                NaN  NaN              NaN  "
      ]
     },
     "execution_count": 45,
     "metadata": {},
     "output_type": "execute_result"
    }
   ],
   "source": [
    "# Pandas created an extra row\n",
    "df[df.user.isna()]"
   ]
  },
  {
   "cell_type": "code",
   "execution_count": 46,
   "metadata": {},
   "outputs": [
    {
     "ename": "AttributeError",
     "evalue": "'NoneType' object has no attribute 'reset_index'",
     "output_type": "error",
     "traceback": [
      "\u001b[0;31m--------------------------------------------------------\u001b[0m",
      "\u001b[0;31mAttributeError\u001b[0m         Traceback (most recent call last)",
      "\u001b[0;32m<ipython-input-46-9ad94155d588>\u001b[0m in \u001b[0;36m<module>\u001b[0;34m\u001b[0m\n\u001b[0;32m----> 1\u001b[0;31m \u001b[0mdf\u001b[0m\u001b[0;34m.\u001b[0m\u001b[0mdrop\u001b[0m\u001b[0;34m(\u001b[0m\u001b[0;36m110181\u001b[0m\u001b[0;34m,\u001b[0m \u001b[0maxis\u001b[0m\u001b[0;34m=\u001b[0m\u001b[0;36m0\u001b[0m\u001b[0;34m,\u001b[0m \u001b[0minplace\u001b[0m\u001b[0;34m=\u001b[0m\u001b[0;32mTrue\u001b[0m\u001b[0;34m)\u001b[0m\u001b[0;34m.\u001b[0m\u001b[0mreset_index\u001b[0m\u001b[0;34m(\u001b[0m\u001b[0;34m)\u001b[0m\u001b[0;34m\u001b[0m\u001b[0;34m\u001b[0m\u001b[0m\n\u001b[0m\u001b[1;32m      2\u001b[0m \u001b[0mdf\u001b[0m\u001b[0;34m.\u001b[0m\u001b[0mshape\u001b[0m\u001b[0;34m\u001b[0m\u001b[0;34m\u001b[0m\u001b[0m\n",
      "\u001b[0;31mAttributeError\u001b[0m: 'NoneType' object has no attribute 'reset_index'"
     ]
    }
   ],
   "source": [
    "df.drop(110181, axis=0, inplace=True).reset_index()\n",
    "df.shape"
   ]
  },
  {
   "cell_type": "code",
   "execution_count": 40,
   "metadata": {},
   "outputs": [
    {
     "data": {
      "text/html": [
       "<div>\n",
       "<style scoped>\n",
       "    .dataframe tbody tr th:only-of-type {\n",
       "        vertical-align: middle;\n",
       "    }\n",
       "\n",
       "    .dataframe tbody tr th {\n",
       "        vertical-align: top;\n",
       "    }\n",
       "\n",
       "    .dataframe thead th {\n",
       "        text-align: right;\n",
       "    }\n",
       "</style>\n",
       "<table border=\"1\" class=\"dataframe\">\n",
       "  <thead>\n",
       "    <tr style=\"text-align: right;\">\n",
       "      <th></th>\n",
       "      <th>created_at</th>\n",
       "      <th>id_str</th>\n",
       "      <th>full_text</th>\n",
       "      <th>display_text_range</th>\n",
       "      <th>entities</th>\n",
       "      <th>source</th>\n",
       "      <th>user</th>\n",
       "      <th>is_quote_status</th>\n",
       "      <th>retweet_count</th>\n",
       "      <th>favorite_count</th>\n",
       "      <th>possibly_sensitive</th>\n",
       "      <th>lang</th>\n",
       "      <th>retweeted_status</th>\n",
       "    </tr>\n",
       "  </thead>\n",
       "  <tbody>\n",
       "  </tbody>\n",
       "</table>\n",
       "</div>"
      ],
      "text/plain": [
       "Empty DataFrame\n",
       "Columns: [created_at, id_str, full_text, display_text_range, entities, source, user, is_quote_status, retweet_count, favorite_count, possibly_sensitive, lang, retweeted_status]\n",
       "Index: []"
      ]
     },
     "execution_count": 40,
     "metadata": {},
     "output_type": "execute_result"
    }
   ],
   "source": [
    "# Check extra row is gon\n",
    "df[df.user.isna()]"
   ]
  },
  {
   "cell_type": "code",
   "execution_count": null,
   "metadata": {},
   "outputs": [],
   "source": []
  },
  {
   "cell_type": "code",
   "execution_count": null,
   "metadata": {},
   "outputs": [],
   "source": []
  },
  {
   "cell_type": "code",
   "execution_count": null,
   "metadata": {},
   "outputs": [],
   "source": []
  },
  {
   "cell_type": "code",
   "execution_count": null,
   "metadata": {},
   "outputs": [],
   "source": []
  },
  {
   "cell_type": "code",
   "execution_count": null,
   "metadata": {},
   "outputs": [],
   "source": []
  }
 ],
 "metadata": {
  "kernelspec": {
   "display_name": "Python 3",
   "language": "python",
   "name": "python3"
  },
  "language_info": {
   "codemirror_mode": {
    "name": "ipython",
    "version": 3
   },
   "file_extension": ".py",
   "mimetype": "text/x-python",
   "name": "python",
   "nbconvert_exporter": "python",
   "pygments_lexer": "ipython3",
   "version": "3.8.5"
  }
 },
 "nbformat": 4,
 "nbformat_minor": 4
}
