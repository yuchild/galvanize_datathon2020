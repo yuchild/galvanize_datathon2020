{
 "cells": [
  {
   "cell_type": "code",
   "execution_count": 1,
   "metadata": {},
   "outputs": [],
   "source": [
    "import json\n",
    "import pandas as pd\n",
    "import matplotlib.pyplot as plt\n",
    "plt.style.use('fivethirtyeight')"
   ]
  },
  {
   "cell_type": "markdown",
   "metadata": {},
   "source": [
    "## Create Shortened DataFrame"
   ]
  },
  {
   "cell_type": "code",
   "execution_count": 2,
   "metadata": {},
   "outputs": [
    {
     "name": "stdout",
     "output_type": "stream",
     "text": [
      "Used Columns Are Present: True\n"
     ]
    }
   ],
   "source": [
    "# Load Data...\n",
    "data = [json.loads(line) for line in open(\"./data/data.jsonl\", 'r', encoding='utf-8')]\n",
    "df = pd.DataFrame(data)\n",
    "\n",
    "\n",
    "### Create Summary DataFrame for Reference\n",
    "# Create list for columns used, 1 for used feature, 0 for not used feature\n",
    "use = [1      # created_at\n",
    "       , 0    # id\n",
    "       , 1    # id_str\n",
    "       , 1    # full_text\n",
    "       , 0    # truncated\n",
    "       , 1    # display_text_range\n",
    "       , 1    # entities\n",
    "       , 1    # source\n",
    "       , 0    # in_reply_to_status_id\n",
    "       , 0    # in_reply_to_status_id_str\n",
    "       , 0    # in_reply_to_user_id\n",
    "       , 0    # in_reply_to_user_id_str\n",
    "       , 0    # in_reply_to_screen_name\n",
    "       , 1    # user\n",
    "       , 0    # geo \n",
    "       , 0    # coordinates\n",
    "       , 0    # place (maybe)\n",
    "       , 0    # contributors\n",
    "       , 1    # is_quote_status\n",
    "       , 0    # quoted_status_id \n",
    "       , 0    # quoted_status_id_str \n",
    "       , 0    # quoted_status_permalink\n",
    "       , 0    # quoted_status (maybe)\n",
    "       , 1    # retweet_count \n",
    "       , 1    # favorite_count\n",
    "       , 0    # favorited\n",
    "       , 0    # retweeted\n",
    "       , 1    # possibly_sensitive \n",
    "       , 1    # lang\n",
    "       , 1    # retweeted_status\n",
    "       , 0    # extended_entities (maybe)\n",
    "       , 0    # withheld_in_countries\n",
    "       ]\n",
    "\n",
    "# Create a dictionary with summary information\n",
    "dict_ = {'feature': list(df.columns)\n",
    "         , 'nulls': df.isna().sum().values\n",
    "         , 'non_nulls': df.notnull().sum().values\n",
    "         , 'use': use\n",
    "        }\n",
    "summary_df = pd.DataFrame(dict_)\n",
    "\n",
    "\n",
    "### Shorten Columns\n",
    "# create a list of dropped column names\n",
    "drop_col = list(summary_df.feature[summary_df.use !=1])\n",
    "\n",
    "# create a df_short dataframe with only the columns we need\n",
    "df = df.drop(columns = drop_col)\n",
    "\n",
    "# create a list of kept column names\n",
    "use_col = list(summary_df.feature[summary_df.use==1])\n",
    "\n",
    "# verify used columns are present\n",
    "print(f'Used Columns Are Present: {use_col == list(df.columns)}')\n",
    "\n",
    "# create datetime column\n",
    "df['datetime'] = pd.to_datetime(df.created_at)\n",
    "\n",
    "# drop created_at\n",
    "df.drop('created_at'\n",
    "        , axis=1\n",
    "        , inplace=True\n",
    "       )"
   ]
  },
  {
   "cell_type": "code",
   "execution_count": 3,
   "metadata": {},
   "outputs": [
    {
     "data": {
      "text/html": [
       "<div>\n",
       "<style scoped>\n",
       "    .dataframe tbody tr th:only-of-type {\n",
       "        vertical-align: middle;\n",
       "    }\n",
       "\n",
       "    .dataframe tbody tr th {\n",
       "        vertical-align: top;\n",
       "    }\n",
       "\n",
       "    .dataframe thead th {\n",
       "        text-align: right;\n",
       "    }\n",
       "</style>\n",
       "<table border=\"1\" class=\"dataframe\">\n",
       "  <thead>\n",
       "    <tr style=\"text-align: right;\">\n",
       "      <th></th>\n",
       "      <th>id_str</th>\n",
       "      <th>full_text</th>\n",
       "      <th>display_text_range</th>\n",
       "      <th>entities</th>\n",
       "      <th>source</th>\n",
       "      <th>user</th>\n",
       "      <th>is_quote_status</th>\n",
       "      <th>retweet_count</th>\n",
       "      <th>favorite_count</th>\n",
       "      <th>possibly_sensitive</th>\n",
       "      <th>lang</th>\n",
       "      <th>retweeted_status</th>\n",
       "      <th>datetime</th>\n",
       "    </tr>\n",
       "  </thead>\n",
       "  <tbody>\n",
       "    <tr>\n",
       "      <th>0</th>\n",
       "      <td>1311093385688735744</td>\n",
       "      <td>Biden a professional debater??  Hardly!! More ...</td>\n",
       "      <td>[0, 71]</td>\n",
       "      <td>{'hashtags': [], 'symbols': [], 'user_mentions...</td>\n",
       "      <td>&lt;a href=\"https://mobile.twitter.com\" rel=\"nofo...</td>\n",
       "      <td>{'id': 117904481, 'id_str': '117904481', 'name...</td>\n",
       "      <td>True</td>\n",
       "      <td>0</td>\n",
       "      <td>0</td>\n",
       "      <td>False</td>\n",
       "      <td>en</td>\n",
       "      <td>NaN</td>\n",
       "      <td>2020-09-29 23:59:56+00:00</td>\n",
       "    </tr>\n",
       "    <tr>\n",
       "      <th>1</th>\n",
       "      <td>1311093394400333824</td>\n",
       "      <td>RT @DarDar458: #PresidentialDebate #Debates202...</td>\n",
       "      <td>[0, 73]</td>\n",
       "      <td>{'hashtags': [{'text': 'PresidentialDebate', '...</td>\n",
       "      <td>&lt;a href=\"http://twitter.com/download/iphone\" r...</td>\n",
       "      <td>{'id': 30140760, 'id_str': '30140760', 'name':...</td>\n",
       "      <td>True</td>\n",
       "      <td>1</td>\n",
       "      <td>0</td>\n",
       "      <td>NaN</td>\n",
       "      <td>und</td>\n",
       "      <td>{'created_at': 'Tue Sep 29 23:55:42 +0000 2020...</td>\n",
       "      <td>2020-09-29 23:59:58+00:00</td>\n",
       "    </tr>\n",
       "    <tr>\n",
       "      <th>2</th>\n",
       "      <td>1311093401652277252</td>\n",
       "      <td>How can Biden stand a chance against Trump in ...</td>\n",
       "      <td>[0, 280]</td>\n",
       "      <td>{'hashtags': [{'text': 'VarneyCo', 'indices': ...</td>\n",
       "      <td>&lt;a href=\"https://studio.twitter.com\" rel=\"nofo...</td>\n",
       "      <td>{'id': 281610530, 'id_str': '281610530', 'name...</td>\n",
       "      <td>False</td>\n",
       "      <td>25</td>\n",
       "      <td>100</td>\n",
       "      <td>False</td>\n",
       "      <td>en</td>\n",
       "      <td>NaN</td>\n",
       "      <td>2020-09-30 00:00:00+00:00</td>\n",
       "    </tr>\n",
       "    <tr>\n",
       "      <th>3</th>\n",
       "      <td>1311093410737070086</td>\n",
       "      <td>RT @abbydphillip: Very reminiscent of pre-2018...</td>\n",
       "      <td>[0, 108]</td>\n",
       "      <td>{'hashtags': [], 'symbols': [], 'user_mentions...</td>\n",
       "      <td>&lt;a href=\"http://twitter.com/download/iphone\" r...</td>\n",
       "      <td>{'id': 88223320, 'id_str': '88223320', 'name':...</td>\n",
       "      <td>True</td>\n",
       "      <td>351</td>\n",
       "      <td>0</td>\n",
       "      <td>NaN</td>\n",
       "      <td>en</td>\n",
       "      <td>{'created_at': 'Tue Sep 29 23:00:28 +0000 2020...</td>\n",
       "      <td>2020-09-30 00:00:02+00:00</td>\n",
       "    </tr>\n",
       "    <tr>\n",
       "      <th>4</th>\n",
       "      <td>1311093419100561408</td>\n",
       "      <td>RT @RudyGiuliani: Why was Corrupt Biden’s son ...</td>\n",
       "      <td>[0, 110]</td>\n",
       "      <td>{'hashtags': [], 'symbols': [], 'user_mentions...</td>\n",
       "      <td>&lt;a href=\"http://twitter.com/download/iphone\" r...</td>\n",
       "      <td>{'id': 44295160, 'id_str': '44295160', 'name':...</td>\n",
       "      <td>False</td>\n",
       "      <td>15672</td>\n",
       "      <td>0</td>\n",
       "      <td>NaN</td>\n",
       "      <td>en</td>\n",
       "      <td>{'created_at': 'Tue Sep 29 19:07:59 +0000 2020...</td>\n",
       "      <td>2020-09-30 00:00:04+00:00</td>\n",
       "    </tr>\n",
       "  </tbody>\n",
       "</table>\n",
       "</div>"
      ],
      "text/plain": [
       "                id_str                                          full_text  \\\n",
       "0  1311093385688735744  Biden a professional debater??  Hardly!! More ...   \n",
       "1  1311093394400333824  RT @DarDar458: #PresidentialDebate #Debates202...   \n",
       "2  1311093401652277252  How can Biden stand a chance against Trump in ...   \n",
       "3  1311093410737070086  RT @abbydphillip: Very reminiscent of pre-2018...   \n",
       "4  1311093419100561408  RT @RudyGiuliani: Why was Corrupt Biden’s son ...   \n",
       "\n",
       "  display_text_range                                           entities  \\\n",
       "0            [0, 71]  {'hashtags': [], 'symbols': [], 'user_mentions...   \n",
       "1            [0, 73]  {'hashtags': [{'text': 'PresidentialDebate', '...   \n",
       "2           [0, 280]  {'hashtags': [{'text': 'VarneyCo', 'indices': ...   \n",
       "3           [0, 108]  {'hashtags': [], 'symbols': [], 'user_mentions...   \n",
       "4           [0, 110]  {'hashtags': [], 'symbols': [], 'user_mentions...   \n",
       "\n",
       "                                              source  \\\n",
       "0  <a href=\"https://mobile.twitter.com\" rel=\"nofo...   \n",
       "1  <a href=\"http://twitter.com/download/iphone\" r...   \n",
       "2  <a href=\"https://studio.twitter.com\" rel=\"nofo...   \n",
       "3  <a href=\"http://twitter.com/download/iphone\" r...   \n",
       "4  <a href=\"http://twitter.com/download/iphone\" r...   \n",
       "\n",
       "                                                user  is_quote_status  \\\n",
       "0  {'id': 117904481, 'id_str': '117904481', 'name...             True   \n",
       "1  {'id': 30140760, 'id_str': '30140760', 'name':...             True   \n",
       "2  {'id': 281610530, 'id_str': '281610530', 'name...            False   \n",
       "3  {'id': 88223320, 'id_str': '88223320', 'name':...             True   \n",
       "4  {'id': 44295160, 'id_str': '44295160', 'name':...            False   \n",
       "\n",
       "   retweet_count  favorite_count possibly_sensitive lang  \\\n",
       "0              0               0              False   en   \n",
       "1              1               0                NaN  und   \n",
       "2             25             100              False   en   \n",
       "3            351               0                NaN   en   \n",
       "4          15672               0                NaN   en   \n",
       "\n",
       "                                    retweeted_status                  datetime  \n",
       "0                                                NaN 2020-09-29 23:59:56+00:00  \n",
       "1  {'created_at': 'Tue Sep 29 23:55:42 +0000 2020... 2020-09-29 23:59:58+00:00  \n",
       "2                                                NaN 2020-09-30 00:00:00+00:00  \n",
       "3  {'created_at': 'Tue Sep 29 23:00:28 +0000 2020... 2020-09-30 00:00:02+00:00  \n",
       "4  {'created_at': 'Tue Sep 29 19:07:59 +0000 2020... 2020-09-30 00:00:04+00:00  "
      ]
     },
     "execution_count": 3,
     "metadata": {},
     "output_type": "execute_result"
    }
   ],
   "source": [
    "df.head()"
   ]
  },
  {
   "cell_type": "code",
   "execution_count": 4,
   "metadata": {},
   "outputs": [
    {
     "data": {
      "text/plain": [
       "Index(['id_str', 'full_text', 'display_text_range', 'entities', 'source',\n",
       "       'user', 'is_quote_status', 'retweet_count', 'favorite_count',\n",
       "       'possibly_sensitive', 'lang', 'retweeted_status', 'datetime'],\n",
       "      dtype='object')"
      ]
     },
     "execution_count": 4,
     "metadata": {},
     "output_type": "execute_result"
    }
   ],
   "source": [
    "df.columns"
   ]
  },
  {
   "cell_type": "code",
   "execution_count": 5,
   "metadata": {},
   "outputs": [
    {
     "name": "stdout",
     "output_type": "stream",
     "text": [
      "<class 'pandas.core.frame.DataFrame'>\n",
      "RangeIndex: 140337 entries, 0 to 140336\n",
      "Data columns (total 13 columns):\n",
      " #   Column              Non-Null Count   Dtype              \n",
      "---  ------              --------------   -----              \n",
      " 0   id_str              140337 non-null  object             \n",
      " 1   full_text           140337 non-null  object             \n",
      " 2   display_text_range  140337 non-null  object             \n",
      " 3   entities            140337 non-null  object             \n",
      " 4   source              140337 non-null  object             \n",
      " 5   user                140337 non-null  object             \n",
      " 6   is_quote_status     140337 non-null  bool               \n",
      " 7   retweet_count       140337 non-null  int64              \n",
      " 8   favorite_count      140337 non-null  int64              \n",
      " 9   possibly_sensitive  32333 non-null   object             \n",
      " 10  lang                140337 non-null  object             \n",
      " 11  retweeted_status    106900 non-null  object             \n",
      " 12  datetime            140337 non-null  datetime64[ns, UTC]\n",
      "dtypes: bool(1), datetime64[ns, UTC](1), int64(2), object(9)\n",
      "memory usage: 13.0+ MB\n"
     ]
    }
   ],
   "source": [
    "df.info()"
   ]
  },
  {
   "cell_type": "markdown",
   "metadata": {},
   "source": [
    "## Min and Max Dates"
   ]
  },
  {
   "cell_type": "code",
   "execution_count": 6,
   "metadata": {},
   "outputs": [
    {
     "name": "stdout",
     "output_type": "stream",
     "text": [
      "Earliest date: 2020-09-29 23:59:56+00:00\n",
      "Latest date: 2020-10-02 23:59:54+00:00\n"
     ]
    }
   ],
   "source": [
    "print(f'Earliest date: {df.datetime.min()}')\n",
    "print(f'Latest date: {df.datetime.max()}')"
   ]
  },
  {
   "cell_type": "markdown",
   "metadata": {},
   "source": [
    "## Create columns with numbers"
   ]
  },
  {
   "cell_type": "markdown",
   "metadata": {},
   "source": [
    "## id_str column review"
   ]
  },
  {
   "cell_type": "code",
   "execution_count": 7,
   "metadata": {},
   "outputs": [
    {
     "data": {
      "text/plain": [
       "140337"
      ]
     },
     "execution_count": 7,
     "metadata": {},
     "output_type": "execute_result"
    }
   ],
   "source": [
    "# there are 140,337 tweet id's (I think)\n",
    "df.id_str.nunique()"
   ]
  },
  {
   "cell_type": "markdown",
   "metadata": {},
   "source": [
    "### display_text_range column to int()"
   ]
  },
  {
   "cell_type": "code",
   "execution_count": 8,
   "metadata": {},
   "outputs": [
    {
     "data": {
      "text/plain": [
       "list"
      ]
     },
     "execution_count": 8,
     "metadata": {},
     "output_type": "execute_result"
    }
   ],
   "source": [
    "type(df.display_text_range.iloc[0])"
   ]
  },
  {
   "cell_type": "code",
   "execution_count": 9,
   "metadata": {},
   "outputs": [
    {
     "data": {
      "text/plain": [
       "71"
      ]
     },
     "execution_count": 9,
     "metadata": {},
     "output_type": "execute_result"
    }
   ],
   "source": [
    "df.display_text_range.iloc[0][-1]"
   ]
  },
  {
   "cell_type": "code",
   "execution_count": 10,
   "metadata": {},
   "outputs": [],
   "source": [
    "def text_length(lst):\n",
    "    \"\"\"\n",
    "    Parses the end of list [0, 15] returns 15\n",
    "    \n",
    "    Input: lst, column entry as from display_text_range\n",
    "    Output: int, length of tweet\n",
    "    \"\"\"\n",
    "    return lst[-1]"
   ]
  },
  {
   "cell_type": "code",
   "execution_count": 11,
   "metadata": {
    "scrolled": true
   },
   "outputs": [],
   "source": [
    "df['text_length'] = df.display_text_range.apply(text_length)"
   ]
  },
  {
   "cell_type": "code",
   "execution_count": 12,
   "metadata": {},
   "outputs": [],
   "source": [
    "# Drop display_text_range\n",
    "df.drop('display_text_range'\n",
    "        , axis = 1\n",
    "        , inplace = True\n",
    "       )"
   ]
  },
  {
   "cell_type": "code",
   "execution_count": 13,
   "metadata": {},
   "outputs": [
    {
     "name": "stdout",
     "output_type": "stream",
     "text": [
      "<class 'pandas.core.frame.DataFrame'>\n",
      "RangeIndex: 140337 entries, 0 to 140336\n",
      "Data columns (total 13 columns):\n",
      " #   Column              Non-Null Count   Dtype              \n",
      "---  ------              --------------   -----              \n",
      " 0   id_str              140337 non-null  object             \n",
      " 1   full_text           140337 non-null  object             \n",
      " 2   entities            140337 non-null  object             \n",
      " 3   source              140337 non-null  object             \n",
      " 4   user                140337 non-null  object             \n",
      " 5   is_quote_status     140337 non-null  bool               \n",
      " 6   retweet_count       140337 non-null  int64              \n",
      " 7   favorite_count      140337 non-null  int64              \n",
      " 8   possibly_sensitive  32333 non-null   object             \n",
      " 9   lang                140337 non-null  object             \n",
      " 10  retweeted_status    106900 non-null  object             \n",
      " 11  datetime            140337 non-null  datetime64[ns, UTC]\n",
      " 12  text_length         140337 non-null  int64              \n",
      "dtypes: bool(1), datetime64[ns, UTC](1), int64(3), object(8)\n",
      "memory usage: 13.0+ MB\n"
     ]
    }
   ],
   "source": [
    "df.info()"
   ]
  },
  {
   "cell_type": "markdown",
   "metadata": {},
   "source": [
    "### entities column (come back to this wtih Julia and Mathias)"
   ]
  },
  {
   "cell_type": "code",
   "execution_count": 14,
   "metadata": {},
   "outputs": [
    {
     "data": {
      "text/plain": [
       "{'hashtags': [],\n",
       " 'symbols': [],\n",
       " 'user_mentions': [],\n",
       " 'urls': [{'url': 'https://t.co/cQuxzexXYt',\n",
       "   'expanded_url': 'https://twitter.com/IngrahamAngle/status/1311081374510710784',\n",
       "   'display_url': 'twitter.com/IngrahamAngle/…',\n",
       "   'indices': [72, 95]}]}"
      ]
     },
     "execution_count": 14,
     "metadata": {},
     "output_type": "execute_result"
    }
   ],
   "source": [
    "df.entities.iloc[0]"
   ]
  },
  {
   "cell_type": "code",
   "execution_count": 15,
   "metadata": {},
   "outputs": [
    {
     "data": {
      "text/plain": [
       "{'hashtags': [{'text': 'PresidentialDebate', 'indices': [15, 34]},\n",
       "  {'text': 'Debates2020', 'indices': [35, 47]},\n",
       "  {'text': 'TrumpIsANationalDisgrace', 'indices': [48, 73]}],\n",
       " 'symbols': [],\n",
       " 'user_mentions': [{'screen_name': 'DarDar458',\n",
       "   'name': 'DarDar45 🌊 🆘',\n",
       "   'id': 1084234892840484864,\n",
       "   'id_str': '1084234892840484864',\n",
       "   'indices': [3, 13]}],\n",
       " 'urls': []}"
      ]
     },
     "execution_count": 15,
     "metadata": {},
     "output_type": "execute_result"
    }
   ],
   "source": [
    "df.entities.iloc[1]"
   ]
  },
  {
   "cell_type": "code",
   "execution_count": 16,
   "metadata": {},
   "outputs": [
    {
     "data": {
      "text/plain": [
       "{'hashtags': [],\n",
       " 'symbols': [],\n",
       " 'user_mentions': [{'screen_name': 'HizbkKhan',\n",
       "   'name': 'Hizbullah Khan',\n",
       "   'id': 1015029427284127745,\n",
       "   'id_str': '1015029427284127745',\n",
       "   'indices': [3, 13]}],\n",
       " 'urls': [],\n",
       " 'media': [{'id': 1310731423184191493,\n",
       "   'id_str': '1310731423184191493',\n",
       "   'indices': [93, 116],\n",
       "   'media_url': 'http://pbs.twimg.com/ext_tw_video_thumb/1310731423184191493/pu/img/kXb4Oq2Wb0p8on5F.jpg',\n",
       "   'media_url_https': 'https://pbs.twimg.com/ext_tw_video_thumb/1310731423184191493/pu/img/kXb4Oq2Wb0p8on5F.jpg',\n",
       "   'url': 'https://t.co/XnGBT6jpLl',\n",
       "   'display_url': 'pic.twitter.com/XnGBT6jpLl',\n",
       "   'expanded_url': 'https://twitter.com/HizbkKhan/status/1310731479748669440/video/1',\n",
       "   'type': 'photo',\n",
       "   'sizes': {'thumb': {'w': 150, 'h': 150, 'resize': 'crop'},\n",
       "    'medium': {'w': 628, 'h': 360, 'resize': 'fit'},\n",
       "    'large': {'w': 628, 'h': 360, 'resize': 'fit'},\n",
       "    'small': {'w': 628, 'h': 360, 'resize': 'fit'}},\n",
       "   'source_status_id': 1310731479748669440,\n",
       "   'source_status_id_str': '1310731479748669440',\n",
       "   'source_user_id': 1015029427284127745,\n",
       "   'source_user_id_str': '1015029427284127745'}]}"
      ]
     },
     "execution_count": 16,
     "metadata": {},
     "output_type": "execute_result"
    }
   ],
   "source": [
    "df.entities.iloc[100]"
   ]
  },
  {
   "cell_type": "markdown",
   "metadata": {},
   "source": [
    "### source column"
   ]
  },
  {
   "cell_type": "code",
   "execution_count": 17,
   "metadata": {},
   "outputs": [
    {
     "data": {
      "text/plain": [
       "'<a href=\"https://mobile.twitter.com\" rel=\"nofollow\">Twitter Web App</a>'"
      ]
     },
     "execution_count": 17,
     "metadata": {},
     "output_type": "execute_result"
    }
   ],
   "source": [
    "df.source.iloc[0]"
   ]
  },
  {
   "cell_type": "code",
   "execution_count": 18,
   "metadata": {},
   "outputs": [],
   "source": [
    "# write a function to prase between <a></a>\n",
    "\n",
    "from bs4 import BeautifulSoup\n",
    "\n",
    "def btw_a(txt):\n",
    "    \"\"\"\n",
    "    Returns text between the <a></a>\n",
    "    Input: txt\n",
    "    Output: txt\n",
    "    \"\"\"\n",
    "    soup = BeautifulSoup(txt)\n",
    "    for x in soup.find_all('a'):\n",
    "        return x.get_text()    "
   ]
  },
  {
   "cell_type": "code",
   "execution_count": 19,
   "metadata": {},
   "outputs": [
    {
     "data": {
      "text/plain": [
       "'Twitter Web App'"
      ]
     },
     "execution_count": 19,
     "metadata": {},
     "output_type": "execute_result"
    }
   ],
   "source": [
    "# test the function btw_a\n",
    "txt = '<a href=\"https://mobile.twitter.com\" rel=\"nofollow\">Twitter Web App</a>'\n",
    "btw_a(txt)"
   ]
  },
  {
   "cell_type": "code",
   "execution_count": 20,
   "metadata": {},
   "outputs": [],
   "source": [
    "# apply it to source column\n",
    "df.source = df.source.apply(btw_a)"
   ]
  },
  {
   "cell_type": "code",
   "execution_count": 21,
   "metadata": {},
   "outputs": [
    {
     "data": {
      "text/plain": [
       "0         Twitter Web App\n",
       "1      Twitter for iPhone\n",
       "2    Twitter Media Studio\n",
       "3      Twitter for iPhone\n",
       "4      Twitter for iPhone\n",
       "Name: source, dtype: object"
      ]
     },
     "execution_count": 21,
     "metadata": {},
     "output_type": "execute_result"
    }
   ],
   "source": [
    "# check work\n",
    "df.source.head()"
   ]
  },
  {
   "cell_type": "code",
   "execution_count": 22,
   "metadata": {},
   "outputs": [
    {
     "data": {
      "text/plain": [
       "Twitter for iPhone         62080\n",
       "Twitter for Android        38641\n",
       "Twitter Web App            29655\n",
       "Twitter for iPad            8046\n",
       "TweetDeck                    459\n",
       "                           ...  \n",
       "Zla                            1\n",
       "Left-Wing Politics PLOW        1\n",
       "important_trump                1\n",
       "twitcle plus                   1\n",
       "Bad News for Trump             1\n",
       "Name: source, Length: 310, dtype: int64"
      ]
     },
     "execution_count": 22,
     "metadata": {},
     "output_type": "execute_result"
    }
   ],
   "source": [
    "# find the unique values\n",
    "df.source.value_counts()"
   ]
  },
  {
   "cell_type": "code",
   "execution_count": 23,
   "metadata": {},
   "outputs": [
    {
     "data": {
      "text/plain": [
       "310"
      ]
     },
     "execution_count": 23,
     "metadata": {},
     "output_type": "execute_result"
    }
   ],
   "source": [
    "len(df.source.value_counts())"
   ]
  },
  {
   "cell_type": "code",
   "execution_count": 24,
   "metadata": {},
   "outputs": [
    {
     "data": {
      "text/plain": [
       "Index(['Twitter for iPhone', 'Twitter for Android', 'Twitter Web App',\n",
       "       'Twitter for iPad', 'TweetDeck', 'Tweetbot for iΟS', 'WordPress.com',\n",
       "       'dlvr.it', 'IFTTT', 'Twitter for Mac',\n",
       "       ...\n",
       "       'Sam R', 'ecu11', 'mugshout', 'Grassroots DNC', 'twiDAQ', 'Zla',\n",
       "       'Left-Wing Politics PLOW', 'important_trump', 'twitcle plus',\n",
       "       'Bad News for Trump'],\n",
       "      dtype='object', length=310)"
      ]
     },
     "execution_count": 24,
     "metadata": {},
     "output_type": "execute_result"
    }
   ],
   "source": [
    "source_lst = df.source.value_counts().index\n",
    "source_lst"
   ]
  },
  {
   "cell_type": "markdown",
   "metadata": {},
   "source": [
    "### user column"
   ]
  },
  {
   "cell_type": "code",
   "execution_count": 25,
   "metadata": {},
   "outputs": [
    {
     "data": {
      "text/plain": [
       "{'id': 117904481,\n",
       " 'id_str': '117904481',\n",
       " 'name': 'SharonS',\n",
       " 'screen_name': 'sfshores53',\n",
       " 'location': 'America ',\n",
       " 'description': 'Conservative/#MAGA/ #WWG1WGA /MbrNRA/#Trump2020/Pro-Life/Pro-2nd Amend/parler@SharonA53/ NO DMs-/Patriots-will follow all/will unfollow those who do not follow',\n",
       " 'url': None,\n",
       " 'entities': {'description': {'urls': []}},\n",
       " 'protected': False,\n",
       " 'followers_count': 4065,\n",
       " 'friends_count': 4998,\n",
       " 'listed_count': 16,\n",
       " 'created_at': 'Sat Feb 27 00:36:23 +0000 2010',\n",
       " 'favourites_count': 3659,\n",
       " 'utc_offset': None,\n",
       " 'time_zone': None,\n",
       " 'geo_enabled': True,\n",
       " 'verified': False,\n",
       " 'statuses_count': 6156,\n",
       " 'lang': None,\n",
       " 'contributors_enabled': False,\n",
       " 'is_translator': False,\n",
       " 'is_translation_enabled': False,\n",
       " 'profile_background_color': '0099B9',\n",
       " 'profile_background_image_url': 'http://abs.twimg.com/images/themes/theme4/bg.gif',\n",
       " 'profile_background_image_url_https': 'https://abs.twimg.com/images/themes/theme4/bg.gif',\n",
       " 'profile_background_tile': False,\n",
       " 'profile_image_url': 'http://pbs.twimg.com/profile_images/1285573452330610690/ZqF7b43V_normal.jpg',\n",
       " 'profile_image_url_https': 'https://pbs.twimg.com/profile_images/1285573452330610690/ZqF7b43V_normal.jpg',\n",
       " 'profile_banner_url': 'https://pbs.twimg.com/profile_banners/117904481/1595345887',\n",
       " 'profile_image_extensions_alt_text': None,\n",
       " 'profile_banner_extensions_alt_text': None,\n",
       " 'profile_link_color': '003DB8',\n",
       " 'profile_sidebar_border_color': '5ED4DC',\n",
       " 'profile_sidebar_fill_color': '95E8EC',\n",
       " 'profile_text_color': '3C3940',\n",
       " 'profile_use_background_image': True,\n",
       " 'has_extended_profile': False,\n",
       " 'default_profile': False,\n",
       " 'default_profile_image': False,\n",
       " 'following': False,\n",
       " 'follow_request_sent': False,\n",
       " 'notifications': False,\n",
       " 'translator_type': 'none'}"
      ]
     },
     "execution_count": 25,
     "metadata": {},
     "output_type": "execute_result"
    }
   ],
   "source": [
    "df.user.iloc[0]"
   ]
  },
  {
   "cell_type": "code",
   "execution_count": 26,
   "metadata": {},
   "outputs": [
    {
     "data": {
      "text/plain": [
       "dict"
      ]
     },
     "execution_count": 26,
     "metadata": {},
     "output_type": "execute_result"
    }
   ],
   "source": [
    "type(df.user.iloc[0])"
   ]
  },
  {
   "cell_type": "code",
   "execution_count": 27,
   "metadata": {},
   "outputs": [],
   "source": [
    "# create function to pull out user profile value from user dictionary\n",
    "def user_id(dict_):\n",
    "    \"\"\"\n",
    "    Pulls out user id from user dictionary\n",
    "    Input: dict, user dictionary\n",
    "    Output: str, user_id\n",
    "    \"\"\"    \n",
    "    return dict_['id_str']"
   ]
  },
  {
   "cell_type": "code",
   "execution_count": 28,
   "metadata": {},
   "outputs": [],
   "source": [
    "# create user id column\n",
    "df['user_id'] = df.user.apply(user_id)"
   ]
  },
  {
   "cell_type": "code",
   "execution_count": 29,
   "metadata": {},
   "outputs": [
    {
     "data": {
      "text/plain": [
       "121040"
      ]
     },
     "execution_count": 29,
     "metadata": {},
     "output_type": "execute_result"
    }
   ],
   "source": [
    "# there are 121,040 unique user id's\n",
    "df.user_id.nunique()"
   ]
  },
  {
   "cell_type": "code",
   "execution_count": 30,
   "metadata": {},
   "outputs": [
    {
     "data": {
      "text/plain": [
       "4065"
      ]
     },
     "execution_count": 30,
     "metadata": {},
     "output_type": "execute_result"
    }
   ],
   "source": [
    "# user follower_count sample\n",
    "df.user.iloc[0]['followers_count']"
   ]
  },
  {
   "cell_type": "code",
   "execution_count": 31,
   "metadata": {},
   "outputs": [],
   "source": [
    "# create function to pull out user profile value from user dictionary\n",
    "def followers_count(dict_):\n",
    "    \"\"\"\n",
    "    Pulls out user id from user dictionary\n",
    "    Input: dict, user dictionary\n",
    "    Output: int, followers_count\n",
    "    \"\"\"    \n",
    "    return dict_['followers_count']"
   ]
  },
  {
   "cell_type": "code",
   "execution_count": 32,
   "metadata": {},
   "outputs": [],
   "source": [
    "# create followers count column\n",
    "df['followers_count'] = df.user.apply(followers_count)"
   ]
  },
  {
   "cell_type": "code",
   "execution_count": 33,
   "metadata": {},
   "outputs": [
    {
     "data": {
      "text/plain": [
       "numpy.int64"
      ]
     },
     "execution_count": 33,
     "metadata": {},
     "output_type": "execute_result"
    }
   ],
   "source": [
    "# check data type\n",
    "type(df.followers_count.iloc[0])"
   ]
  },
  {
   "cell_type": "code",
   "execution_count": 34,
   "metadata": {},
   "outputs": [
    {
     "data": {
      "text/plain": [
       "4998"
      ]
     },
     "execution_count": 34,
     "metadata": {},
     "output_type": "execute_result"
    }
   ],
   "source": [
    "# user friends__count sample\n",
    "df.user.iloc[0]['friends_count']"
   ]
  },
  {
   "cell_type": "code",
   "execution_count": 35,
   "metadata": {},
   "outputs": [],
   "source": [
    "# create function to pull out user profile value from user dictionary\n",
    "def friends_count(dict_):\n",
    "    \"\"\"\n",
    "    Pulls out user id from user dictionary\n",
    "    Input: dict, user dictionary\n",
    "    Output: int, friends_count\n",
    "    \"\"\"    \n",
    "    return dict_['friends_count']"
   ]
  },
  {
   "cell_type": "code",
   "execution_count": 36,
   "metadata": {},
   "outputs": [],
   "source": [
    "# create followers count column\n",
    "df['friends_count'] = df.user.apply(friends_count)"
   ]
  },
  {
   "cell_type": "code",
   "execution_count": 37,
   "metadata": {},
   "outputs": [
    {
     "data": {
      "text/plain": [
       "numpy.int64"
      ]
     },
     "execution_count": 37,
     "metadata": {},
     "output_type": "execute_result"
    }
   ],
   "source": [
    "# check data type\n",
    "type(df.friends_count.iloc[0])"
   ]
  },
  {
   "cell_type": "code",
   "execution_count": 38,
   "metadata": {},
   "outputs": [
    {
     "data": {
      "text/plain": [
       "'America '"
      ]
     },
     "execution_count": 38,
     "metadata": {},
     "output_type": "execute_result"
    }
   ],
   "source": [
    "# user location sample\n",
    "df.user.iloc[0]['location']"
   ]
  },
  {
   "cell_type": "code",
   "execution_count": 39,
   "metadata": {},
   "outputs": [],
   "source": [
    "# create function to pull out user profile value from user dictionary\n",
    "def location(dict_):\n",
    "    \"\"\"\n",
    "    Pulls out user id from user dictionary\n",
    "    Input: dict, user dictionary\n",
    "    Output: str, location\n",
    "    \"\"\"    \n",
    "    return dict_['location']"
   ]
  },
  {
   "cell_type": "code",
   "execution_count": 40,
   "metadata": {},
   "outputs": [],
   "source": [
    "# create user locations column\n",
    "df['user_location'] = df.user.apply(location)"
   ]
  },
  {
   "cell_type": "code",
   "execution_count": 41,
   "metadata": {},
   "outputs": [
    {
     "data": {
      "text/plain": [
       "str"
      ]
     },
     "execution_count": 41,
     "metadata": {},
     "output_type": "execute_result"
    }
   ],
   "source": [
    "# check data type\n",
    "type(df.user_location.iloc[0])"
   ]
  },
  {
   "cell_type": "code",
   "execution_count": 42,
   "metadata": {},
   "outputs": [
    {
     "data": {
      "text/plain": [
       "'Sat Feb 27 00:36:23 +0000 2010'"
      ]
     },
     "execution_count": 42,
     "metadata": {},
     "output_type": "execute_result"
    }
   ],
   "source": [
    "# user created sample\n",
    "df.user.iloc[0]['created_at']"
   ]
  },
  {
   "cell_type": "code",
   "execution_count": 43,
   "metadata": {},
   "outputs": [],
   "source": [
    "# create function to pull out user profile value from user dictionary\n",
    "def acc_created(dict_):\n",
    "    \"\"\"\n",
    "    Pulls out user id from user dictionary\n",
    "    Input: dict, user dictionary\n",
    "    Output: str, account created\n",
    "    \"\"\"    \n",
    "    return dict_['created_at']"
   ]
  },
  {
   "cell_type": "code",
   "execution_count": 44,
   "metadata": {},
   "outputs": [],
   "source": [
    "# create user locations column\n",
    "df['acct_created'] = df.user.apply(acc_created)"
   ]
  },
  {
   "cell_type": "code",
   "execution_count": 45,
   "metadata": {},
   "outputs": [
    {
     "data": {
      "text/plain": [
       "str"
      ]
     },
     "execution_count": 45,
     "metadata": {},
     "output_type": "execute_result"
    }
   ],
   "source": [
    "# check data type\n",
    "type(df.acct_created.iloc[0])"
   ]
  },
  {
   "cell_type": "code",
   "execution_count": 46,
   "metadata": {},
   "outputs": [
    {
     "data": {
      "text/plain": [
       "6156"
      ]
     },
     "execution_count": 46,
     "metadata": {},
     "output_type": "execute_result"
    }
   ],
   "source": [
    "# user statuses_count sample\n",
    "df.user.iloc[0]['statuses_count']"
   ]
  },
  {
   "cell_type": "code",
   "execution_count": 47,
   "metadata": {},
   "outputs": [],
   "source": [
    "# create function to pull out user profile value from user dictionary\n",
    "def statuses_count(dict_):\n",
    "    \"\"\"\n",
    "    Pulls out user id from user dictionary\n",
    "    Input: dict, user dictionary\n",
    "    Output: int, statuses_count\n",
    "    \"\"\"    \n",
    "    return dict_['statuses_count']"
   ]
  },
  {
   "cell_type": "code",
   "execution_count": 48,
   "metadata": {},
   "outputs": [],
   "source": [
    "# create user statuses_count column\n",
    "df['statuses_count'] = df.user.apply(statuses_count)"
   ]
  },
  {
   "cell_type": "code",
   "execution_count": 49,
   "metadata": {},
   "outputs": [
    {
     "data": {
      "text/plain": [
       "numpy.int64"
      ]
     },
     "execution_count": 49,
     "metadata": {},
     "output_type": "execute_result"
    }
   ],
   "source": [
    "# check data type\n",
    "type(df.statuses_count.iloc[0])"
   ]
  },
  {
   "cell_type": "code",
   "execution_count": 50,
   "metadata": {},
   "outputs": [
    {
     "data": {
      "text/plain": [
       "False"
      ]
     },
     "execution_count": 50,
     "metadata": {},
     "output_type": "execute_result"
    }
   ],
   "source": [
    "# user following sample\n",
    "df.user.iloc[0]['following']"
   ]
  },
  {
   "cell_type": "code",
   "execution_count": 51,
   "metadata": {},
   "outputs": [],
   "source": [
    "# create function to pull out user profile value from user dictionary\n",
    "def following(dict_):\n",
    "    \"\"\"\n",
    "    Pulls out user id from user dictionary\n",
    "    Input: dict, user dictionary\n",
    "    Output: bool, following\n",
    "    \"\"\"    \n",
    "    return dict_['following']"
   ]
  },
  {
   "cell_type": "code",
   "execution_count": 52,
   "metadata": {},
   "outputs": [],
   "source": [
    "# create user following column\n",
    "df['following'] = df.user.apply(following)"
   ]
  },
  {
   "cell_type": "code",
   "execution_count": 53,
   "metadata": {},
   "outputs": [
    {
     "data": {
      "text/plain": [
       "numpy.bool_"
      ]
     },
     "execution_count": 53,
     "metadata": {},
     "output_type": "execute_result"
    }
   ],
   "source": [
    "# check data type\n",
    "type(df.following.iloc[0])"
   ]
  },
  {
   "cell_type": "code",
   "execution_count": 54,
   "metadata": {},
   "outputs": [
    {
     "data": {
      "text/plain": [
       "False"
      ]
     },
     "execution_count": 54,
     "metadata": {},
     "output_type": "execute_result"
    }
   ],
   "source": [
    "# user following_request_sent sample\n",
    "df.user.iloc[0]['follow_request_sent']"
   ]
  },
  {
   "cell_type": "code",
   "execution_count": 55,
   "metadata": {},
   "outputs": [],
   "source": [
    "# create function to pull out user profile value from user dictionary\n",
    "def following_request(dict_):\n",
    "    \"\"\"\n",
    "    Pulls out user id from user dictionary\n",
    "    Input: dict, user dictionary\n",
    "    Output: bool, following\n",
    "    \"\"\"    \n",
    "    return dict_['follow_request_sent']"
   ]
  },
  {
   "cell_type": "code",
   "execution_count": 56,
   "metadata": {},
   "outputs": [],
   "source": [
    "# create user following column\n",
    "df['following_request'] = df.user.apply(following_request)"
   ]
  },
  {
   "cell_type": "code",
   "execution_count": 57,
   "metadata": {},
   "outputs": [
    {
     "data": {
      "text/plain": [
       "numpy.bool_"
      ]
     },
     "execution_count": 57,
     "metadata": {},
     "output_type": "execute_result"
    }
   ],
   "source": [
    "# check data type\n",
    "type(df.following_request.iloc[0])"
   ]
  },
  {
   "cell_type": "code",
   "execution_count": 58,
   "metadata": {},
   "outputs": [
    {
     "data": {
      "text/plain": [
       "False"
      ]
     },
     "execution_count": 58,
     "metadata": {},
     "output_type": "execute_result"
    }
   ],
   "source": [
    "# user following_request_sent sample\n",
    "df.user.iloc[0]['notifications']"
   ]
  },
  {
   "cell_type": "code",
   "execution_count": 59,
   "metadata": {},
   "outputs": [],
   "source": [
    "# create function to pull out user profile value from user dictionary\n",
    "def notifications(dict_):\n",
    "    \"\"\"\n",
    "    Pulls out user id from user dictionary\n",
    "    Input: dict, user dictionary\n",
    "    Output: bool, notifications\n",
    "    \"\"\"    \n",
    "    return dict_['notifications']"
   ]
  },
  {
   "cell_type": "code",
   "execution_count": 60,
   "metadata": {},
   "outputs": [],
   "source": [
    "# create user following column\n",
    "df['notifications'] = df.user.apply(notifications)"
   ]
  },
  {
   "cell_type": "code",
   "execution_count": 61,
   "metadata": {},
   "outputs": [
    {
     "data": {
      "text/plain": [
       "numpy.bool_"
      ]
     },
     "execution_count": 61,
     "metadata": {},
     "output_type": "execute_result"
    }
   ],
   "source": [
    "# check data type\n",
    "type(df.notifications.iloc[0])"
   ]
  },
  {
   "cell_type": "code",
   "execution_count": 62,
   "metadata": {},
   "outputs": [
    {
     "data": {
      "text/plain": [
       "'Conservative/#MAGA/ #WWG1WGA /MbrNRA/#Trump2020/Pro-Life/Pro-2nd Amend/parler@SharonA53/ NO DMs-/Patriots-will follow all/will unfollow those who do not follow'"
      ]
     },
     "execution_count": 62,
     "metadata": {},
     "output_type": "execute_result"
    }
   ],
   "source": [
    "# user description sample\n",
    "df.user.iloc[0]['description']"
   ]
  },
  {
   "cell_type": "code",
   "execution_count": 63,
   "metadata": {},
   "outputs": [],
   "source": [
    "# create function to pull out user profile value from user dictionary\n",
    "def user_descriptions(dict_):\n",
    "    \"\"\"\n",
    "    Pulls out user id from user dictionary\n",
    "    Input: dict, user dictionary\n",
    "    Output: str, user_descriptions\n",
    "    \"\"\"    \n",
    "    return dict_['description']"
   ]
  },
  {
   "cell_type": "code",
   "execution_count": 64,
   "metadata": {},
   "outputs": [],
   "source": [
    "# create user following column\n",
    "df['user_descriptions'] = df.user.apply(user_descriptions)"
   ]
  },
  {
   "cell_type": "code",
   "execution_count": 65,
   "metadata": {},
   "outputs": [
    {
     "data": {
      "text/plain": [
       "str"
      ]
     },
     "execution_count": 65,
     "metadata": {},
     "output_type": "execute_result"
    }
   ],
   "source": [
    "# check data type\n",
    "type(df.user_descriptions.iloc[0])"
   ]
  },
  {
   "cell_type": "markdown",
   "metadata": {},
   "source": [
    "## Creating A Influencing Score"
   ]
  },
  {
   "cell_type": "code",
   "execution_count": 66,
   "metadata": {},
   "outputs": [
    {
     "name": "stdout",
     "output_type": "stream",
     "text": [
      "<class 'pandas.core.frame.DataFrame'>\n",
      "RangeIndex: 140337 entries, 0 to 140336\n",
      "Data columns (total 23 columns):\n",
      " #   Column              Non-Null Count   Dtype              \n",
      "---  ------              --------------   -----              \n",
      " 0   id_str              140337 non-null  object             \n",
      " 1   full_text           140337 non-null  object             \n",
      " 2   entities            140337 non-null  object             \n",
      " 3   source              140319 non-null  object             \n",
      " 4   user                140337 non-null  object             \n",
      " 5   is_quote_status     140337 non-null  bool               \n",
      " 6   retweet_count       140337 non-null  int64              \n",
      " 7   favorite_count      140337 non-null  int64              \n",
      " 8   possibly_sensitive  32333 non-null   object             \n",
      " 9   lang                140337 non-null  object             \n",
      " 10  retweeted_status    106900 non-null  object             \n",
      " 11  datetime            140337 non-null  datetime64[ns, UTC]\n",
      " 12  text_length         140337 non-null  int64              \n",
      " 13  user_id             140337 non-null  object             \n",
      " 14  followers_count     140337 non-null  int64              \n",
      " 15  friends_count       140337 non-null  int64              \n",
      " 16  user_location       140337 non-null  object             \n",
      " 17  acct_created        140337 non-null  object             \n",
      " 18  statuses_count      140337 non-null  int64              \n",
      " 19  following           140337 non-null  bool               \n",
      " 20  following_request   140337 non-null  bool               \n",
      " 21  notifications       140337 non-null  bool               \n",
      " 22  user_descriptions   140337 non-null  object             \n",
      "dtypes: bool(4), datetime64[ns, UTC](1), int64(6), object(12)\n",
      "memory usage: 20.9+ MB\n"
     ]
    }
   ],
   "source": [
    "df.info()"
   ]
  },
  {
   "cell_type": "markdown",
   "metadata": {},
   "source": [
    "## The int() columns seems interesting, investigate further"
   ]
  },
  {
   "cell_type": "code",
   "execution_count": 67,
   "metadata": {},
   "outputs": [
    {
     "data": {
      "text/plain": [
       "(21028.81549413198, 859.0, 66438.94603761076)"
      ]
     },
     "execution_count": 67,
     "metadata": {},
     "output_type": "execute_result"
    }
   ],
   "source": [
    "# retweet_count stats:\n",
    "df.retweet_count.mean(), df.retweet_count.median(), df.retweet_count.std()"
   ]
  },
  {
   "cell_type": "code",
   "execution_count": 68,
   "metadata": {},
   "outputs": [
    {
     "data": {
      "text/plain": [
       "(4.9153395041934775, 0.0, 661.1712932699155)"
      ]
     },
     "execution_count": 68,
     "metadata": {},
     "output_type": "execute_result"
    }
   ],
   "source": [
    "# favorite_count stats:\n",
    "df.favorite_count.mean(), df.favorite_count.median(), df.favorite_count.std()"
   ]
  },
  {
   "cell_type": "code",
   "execution_count": 69,
   "metadata": {},
   "outputs": [
    {
     "data": {
      "text/plain": [
       "(118.03955478597946, 139.0, 52.76082452811671)"
      ]
     },
     "execution_count": 69,
     "metadata": {},
     "output_type": "execute_result"
    }
   ],
   "source": [
    "# text_length stats:\n",
    "df.text_length.mean(), df.text_length.median(), df.text_length.std()"
   ]
  },
  {
   "cell_type": "code",
   "execution_count": 70,
   "metadata": {},
   "outputs": [
    {
     "data": {
      "text/plain": [
       "(6257.545629449111, 423.0, 349213.32380061835)"
      ]
     },
     "execution_count": 70,
     "metadata": {},
     "output_type": "execute_result"
    }
   ],
   "source": [
    "# followers_count stats:\n",
    "df.followers_count.mean(), df.followers_count.median(), df.followers_count.std()"
   ]
  },
  {
   "cell_type": "code",
   "execution_count": 71,
   "metadata": {},
   "outputs": [
    {
     "data": {
      "text/plain": [
       "(2503.2387253539696, 690.0, 7632.612775724196)"
      ]
     },
     "execution_count": 71,
     "metadata": {},
     "output_type": "execute_result"
    }
   ],
   "source": [
    "# friends_count stats:\n",
    "df.friends_count.mean(), df.friends_count.median(), df.friends_count.std()"
   ]
  },
  {
   "cell_type": "code",
   "execution_count": 72,
   "metadata": {},
   "outputs": [
    {
     "data": {
      "text/plain": [
       "(50793.964207586025, 17076.0, 102684.62866876785)"
      ]
     },
     "execution_count": 72,
     "metadata": {},
     "output_type": "execute_result"
    }
   ],
   "source": [
    "# statuses_count stats:\n",
    "df.statuses_count.mean(), df.statuses_count.median(), df.statuses_count.std()"
   ]
  },
  {
   "cell_type": "markdown",
   "metadata": {},
   "source": [
    "## full_text analysis"
   ]
  },
  {
   "cell_type": "code",
   "execution_count": 73,
   "metadata": {
    "scrolled": true
   },
   "outputs": [
    {
     "data": {
      "text/plain": [
       "'Biden a professional debater??  Hardly!! More like a professional liar! https://t.co/cQuxzexXYt'"
      ]
     },
     "execution_count": 73,
     "metadata": {},
     "output_type": "execute_result"
    }
   ],
   "source": [
    "# is this a negative or positive comment?\n",
    "df.full_text.iloc[0]"
   ]
  },
  {
   "cell_type": "code",
   "execution_count": 74,
   "metadata": {},
   "outputs": [],
   "source": [
    "from nltk.sentiment.vader import SentimentIntensityAnalyzer"
   ]
  },
  {
   "cell_type": "code",
   "execution_count": 75,
   "metadata": {},
   "outputs": [
    {
     "name": "stderr",
     "output_type": "stream",
     "text": [
      "[nltk_data] Downloading package vader_lexicon to\n",
      "[nltk_data]     /home/david/nltk_data...\n",
      "[nltk_data]   Package vader_lexicon is already up-to-date!\n"
     ]
    },
    {
     "data": {
      "text/plain": [
       "True"
      ]
     },
     "execution_count": 75,
     "metadata": {},
     "output_type": "execute_result"
    }
   ],
   "source": [
    "import nltk\n",
    "nltk.download('vader_lexicon')"
   ]
  },
  {
   "cell_type": "code",
   "execution_count": 76,
   "metadata": {},
   "outputs": [],
   "source": [
    "sia = SentimentIntensityAnalyzer()"
   ]
  },
  {
   "cell_type": "code",
   "execution_count": 77,
   "metadata": {},
   "outputs": [],
   "source": [
    "df['sentiment_scores'] = df.full_text.apply(lambda x: sia.polarity_scores(x))"
   ]
  },
  {
   "cell_type": "code",
   "execution_count": 78,
   "metadata": {},
   "outputs": [
    {
     "data": {
      "text/plain": [
       "{'neg': 0.335, 'neu': 0.489, 'pos': 0.176, 'compound': -0.5081}"
      ]
     },
     "execution_count": 78,
     "metadata": {},
     "output_type": "execute_result"
    }
   ],
   "source": [
    "df.sentiment_scores.iloc[0]"
   ]
  },
  {
   "cell_type": "code",
   "execution_count": 79,
   "metadata": {},
   "outputs": [],
   "source": [
    "df['compound_score'] = df.sentiment_scores.apply(lambda x: x['compound'])"
   ]
  },
  {
   "cell_type": "code",
   "execution_count": 80,
   "metadata": {},
   "outputs": [],
   "source": [
    "df['sentiment'] = df.compound_score.apply(lambda x: 1 if x > 0 else (0 if x==0 else -1))"
   ]
  },
  {
   "cell_type": "code",
   "execution_count": 81,
   "metadata": {},
   "outputs": [
    {
     "data": {
      "text/plain": [
       " 1    50528\n",
       "-1    45747\n",
       " 0    44062\n",
       "Name: sentiment, dtype: int64"
      ]
     },
     "execution_count": 81,
     "metadata": {},
     "output_type": "execute_result"
    }
   ],
   "source": [
    "df.sentiment.value_counts()"
   ]
  },
  {
   "cell_type": "markdown",
   "metadata": {},
   "source": [
    "## Biden Trump Mentions"
   ]
  },
  {
   "cell_type": "code",
   "execution_count": 82,
   "metadata": {},
   "outputs": [
    {
     "data": {
      "text/plain": [
       "-1    102438\n",
       " 1     37899\n",
       "Name: Biden_mentions, dtype: int64"
      ]
     },
     "execution_count": 82,
     "metadata": {},
     "output_type": "execute_result"
    }
   ],
   "source": [
    "# find Biden mentions in full_text\n",
    "df['Biden_mentions'] = df.full_text.apply(lambda x: x.lower()).str.find('biden')\n",
    "df['Biden_mentions'] = df.Biden_mentions.apply(lambda x: -1 if x==-1 else 1)\n",
    "df.Biden_mentions.value_counts()"
   ]
  },
  {
   "cell_type": "code",
   "execution_count": 83,
   "metadata": {},
   "outputs": [
    {
     "data": {
      "text/plain": [
       " 1    82711\n",
       "-1    57626\n",
       "Name: Trump_mentions, dtype: int64"
      ]
     },
     "execution_count": 83,
     "metadata": {},
     "output_type": "execute_result"
    }
   ],
   "source": [
    "# find Trump mentions in full_text\n",
    "df['Trump_mentions'] = df.full_text.apply(lambda x: x.lower()).str.find('trump')\n",
    "df['Trump_mentions'] = df.Trump_mentions.apply(lambda x: -1 if x==-1 else 1)\n",
    "df.Trump_mentions.value_counts()"
   ]
  },
  {
   "cell_type": "markdown",
   "metadata": {},
   "source": [
    "### popular hastags"
   ]
  },
  {
   "cell_type": "code",
   "execution_count": 84,
   "metadata": {},
   "outputs": [
    {
     "data": {
      "text/plain": [
       "'Politics reporter covering elections & voting @businessinsider. Bad speller. Extremely New England. RTs/likes=👀not👍🏼 say hi/send tips to gpanetta@insider.com'"
      ]
     },
     "execution_count": 84,
     "metadata": {},
     "output_type": "execute_result"
    }
   ],
   "source": [
    "# user_descriptions hastags\n",
    "df.user_descriptions.iloc[3]"
   ]
  },
  {
   "cell_type": "code",
   "execution_count": 85,
   "metadata": {},
   "outputs": [
    {
     "data": {
      "text/plain": [
       "['Resisters', 'BlueNoMatterWho', 'BlackLivesMatter', 'NoDMs', 'RightMatters']"
      ]
     },
     "execution_count": 85,
     "metadata": {},
     "output_type": "execute_result"
    }
   ],
   "source": [
    "import re\n",
    "sent = df.user_descriptions.iloc[1]\n",
    "re.findall(r\"#(\\w+)\", sent)"
   ]
  },
  {
   "cell_type": "code",
   "execution_count": 86,
   "metadata": {},
   "outputs": [
    {
     "data": {
      "text/plain": [
       "[]"
      ]
     },
     "execution_count": 86,
     "metadata": {},
     "output_type": "execute_result"
    }
   ],
   "source": [
    "sent = df.user_descriptions.iloc[4]\n",
    "re.findall(r\"#(\\w+)\", sent)"
   ]
  },
  {
   "cell_type": "code",
   "execution_count": 87,
   "metadata": {},
   "outputs": [
    {
     "data": {
      "text/plain": [
       "'How can Biden stand a chance against Trump in tonight\\'s Presidential Debate? @wjmcgurn says he needs to stay calm, like how he was against Paul Ryan in 2012: \"The best thing he can do is leave Angry Joe in the basement. I don\\'t think he can out-Trump Trump.\" #VarneyCo #2020Debate https://t.co/DKU4ausBzT'"
      ]
     },
     "execution_count": 87,
     "metadata": {},
     "output_type": "execute_result"
    }
   ],
   "source": [
    "# hastags mentioned in text\n",
    "sent = df.full_text.iloc[2]\n",
    "sent"
   ]
  },
  {
   "cell_type": "code",
   "execution_count": 88,
   "metadata": {},
   "outputs": [
    {
     "data": {
      "text/plain": [
       "['VarneyCo', '2020Debate']"
      ]
     },
     "execution_count": 88,
     "metadata": {},
     "output_type": "execute_result"
    }
   ],
   "source": [
    "re.findall(r\"#(\\w+)\", sent)"
   ]
  },
  {
   "cell_type": "code",
   "execution_count": 89,
   "metadata": {},
   "outputs": [
    {
     "data": {
      "text/plain": [
       "pandas.core.series.Series"
      ]
     },
     "execution_count": 89,
     "metadata": {},
     "output_type": "execute_result"
    }
   ],
   "source": [
    "full_text_hastags = df.full_text.apply(lambda x: re.findall(r\"#(\\w+)\", x))\n",
    "type(full_text_hastags)"
   ]
  },
  {
   "cell_type": "code",
   "execution_count": 90,
   "metadata": {},
   "outputs": [
    {
     "data": {
      "text/plain": [
       "'2020debate'"
      ]
     },
     "execution_count": 90,
     "metadata": {},
     "output_type": "execute_result"
    }
   ],
   "source": [
    "full_text_hastags[2][1].lower()"
   ]
  },
  {
   "cell_type": "code",
   "execution_count": 91,
   "metadata": {},
   "outputs": [],
   "source": [
    "full_text_hastags_dict = {}\n",
    "for x in full_text_hastags:\n",
    "    for y in x:\n",
    "        if y.lower() in full_text_hastags_dict:\n",
    "            full_text_hastags_dict[y.lower()] += 1\n",
    "        else:\n",
    "            full_text_hastags_dict[y.lower()] = 1"
   ]
  },
  {
   "cell_type": "code",
   "execution_count": 92,
   "metadata": {
    "scrolled": true
   },
   "outputs": [
    {
     "data": {
      "text/plain": [
       "{'presidentialdebate': 307,\n",
       " 'debates2020': 2085,\n",
       " 'trumpisanationaldisgrace': 24,\n",
       " 'varneyco': 2,\n",
       " '2020debate': 30,\n",
       " 'truckers4trump': 7,\n",
       " 'maduronuestravozenlaonu': 1,\n",
       " 'trump2020': 493,\n",
       " 'bidensshitstorm': 1,\n",
       " 'debatetuesday': 36,\n",
       " 'presidentialdebate2020': 173,\n",
       " 'byerudy': 13,\n",
       " 'sleepyjoe': 26,\n",
       " 'crookedhillary': 6,\n",
       " 'debate': 156,\n",
       " 'trump': 675,\n",
       " 'trum': 7,\n",
       " 'maga': 428,\n",
       " 'trumptrain2020': 4,\n",
       " 'aag': 4,\n",
       " 'aag2020': 4,\n",
       " 'jornaldarecord': 2,\n",
       " 'jr24h': 2,\n",
       " 'jornaldacultura': 1,\n",
       " 'argentinasupportstrump': 26,\n",
       " 'trumppence2020': 21,\n",
       " 'debate2020': 181,\n",
       " 'biden': 281,\n",
       " 'hawkins': 4,\n",
       " 'jorgensen': 4,\n",
       " 'yacpolls': 4,\n",
       " 'elecciones2020': 6,\n",
       " 'white': 3,\n",
       " 'joebidenkamalaharris2020': 6,\n",
       " 'bidenharrislandslide2020': 21,\n",
       " 'ballotharvesting': 16,\n",
       " 'trumpcrimefamily': 26,\n",
       " 'taxes': 3,\n",
       " 'irs': 3,\n",
       " 'americaortrump': 21,\n",
       " 'liarinchief': 15,\n",
       " 'grifterinchief': 1,\n",
       " 'scotus': 16,\n",
       " 'bidenharristosaveamerica': 26,\n",
       " 'nyt': 4,\n",
       " 'trumpvirus': 77,\n",
       " 'bidenvstrump': 3,\n",
       " 'trumpmeltdown': 163,\n",
       " 'adderall': 1,\n",
       " 'taxreturns': 3,\n",
       " 'covid19': 511,\n",
       " 'keepamericagreat': 28,\n",
       " 'armyfortrump': 19,\n",
       " 'trump2020landslide': 44,\n",
       " 'kidvicious': 5,\n",
       " 'fucktrump': 12,\n",
       " 'senate': 2,\n",
       " 'supremecourtjustice': 1,\n",
       " 'trumptaxreturns': 25,\n",
       " 'trumpisbroke': 11,\n",
       " 'peterson': 1,\n",
       " 'utdebates': 1,\n",
       " 'primerdebate': 3,\n",
       " 'joebiden': 200,\n",
       " 'altmys': 1,\n",
       " 'trumpprojection': 1,\n",
       " 'stoptrumpselectiontheft': 4,\n",
       " 'billbarr': 4,\n",
       " 'redwave2020': 3,\n",
       " 'new': 23,\n",
       " 'empathy': 6,\n",
       " 'whatunitesus': 5,\n",
       " 'bimboeruption': 1,\n",
       " 'freshresists': 1,\n",
       " 'harvest': 1,\n",
       " 'yahuah': 1,\n",
       " 'ridingwithbiden': 1,\n",
       " 'byedon': 3,\n",
       " 'oann': 19,\n",
       " 'nzdusd': 1,\n",
       " 'wakeupamerica': 20,\n",
       " 'mundo': 5,\n",
       " 'internacional': 5,\n",
       " 'eeuu': 28,\n",
       " 'quintopoder': 1,\n",
       " 'windivisible': 2,\n",
       " 'republicans': 11,\n",
       " 'aca': 4,\n",
       " 'retweet': 3,\n",
       " 'pleaseretweet': 1,\n",
       " 'vote': 350,\n",
       " 'votethemallout2020': 2,\n",
       " 'makeamericadecentagain': 1,\n",
       " 'walkaway': 22,\n",
       " 'londonleads': 1,\n",
       " 'rankedballots': 1,\n",
       " 'breaking': 68,\n",
       " 'alternativapopularrevolucionaria': 1,\n",
       " 'psuv': 1,\n",
       " 'gallosdemonagas': 1,\n",
       " 'votapcv': 1,\n",
       " 'trumpprisontreason': 1,\n",
       " 'smartnews': 42,\n",
       " 'biafraexit': 1,\n",
       " 'biafrafreedom': 2,\n",
       " 'checkjoesears': 9,\n",
       " 'basementjoe': 1,\n",
       " 'votebluetoendthisnightmare': 33,\n",
       " 'politics': 13,\n",
       " 'corruption': 10,\n",
       " 'presidentialdebate20': 1,\n",
       " 'twdfamily': 1,\n",
       " 'lauraloomerlandslide': 1,\n",
       " 'eargate': 1,\n",
       " 'whereshunter': 9,\n",
       " 'msnbc': 14,\n",
       " 'p': 11,\n",
       " 'turntexasblue': 18,\n",
       " 'debates': 266,\n",
       " 'chucktoddiseldiablo': 1,\n",
       " 'トランプ大統領': 3,\n",
       " 'kamalapayshertaxes': 1,\n",
       " 'kamalaharrisvp': 3,\n",
       " 'kamalaharris': 10,\n",
       " 'canada': 5,\n",
       " 'gymjordan': 15,\n",
       " 'gymjordanknew': 8,\n",
       " 'dnc': 9,\n",
       " 'checkjoeseyepupils': 1,\n",
       " 'trumpdementia': 1,\n",
       " 'maga2020': 66,\n",
       " 'maga2020landslide': 3,\n",
       " 'envideo': 5,\n",
       " 'fightback': 12,\n",
       " 'twudebate': 1,\n",
       " 'trumplies': 9,\n",
       " 'bidenharris2020': 183,\n",
       " 'presiden': 2,\n",
       " 'cle': 1,\n",
       " 'joetheliar': 1,\n",
       " 'hallelujah': 2,\n",
       " 'bidenharris2020tosaveamerica': 18,\n",
       " 'movetrumpout': 3,\n",
       " 'donaldtrump': 150,\n",
       " 'clevelan': 1,\n",
       " 'wtf': 3,\n",
       " 'vot': 5,\n",
       " 'supernecessary': 2,\n",
       " 'letherspeak': 4,\n",
       " 'letherdebate': 3,\n",
       " 'jojorgensen2020': 2,\n",
       " 'fakedebates': 4,\n",
       " 'fakedebate': 1,\n",
       " 'debatemayhem': 1,\n",
       " 'votegold2020': 2,\n",
       " 'consequences': 1,\n",
       " 'bidennobelpeaceprize': 1,\n",
       " 'cleveland': 7,\n",
       " 'florida': 11,\n",
       " 'shesepuede': 1,\n",
       " 'votaybotaatrump': 1,\n",
       " 'bidendidntwritethis': 1,\n",
       " 'gotrump': 5,\n",
       " 'teamtrump2020': 1,\n",
       " 'truth': 14,\n",
       " 'votehimout': 123,\n",
       " 'bidenharris': 65,\n",
       " 'dumptrump': 22,\n",
       " 'voteblue': 22,\n",
       " 'últimahora': 24,\n",
       " 'afp': 17,\n",
       " 'fuckem2020': 1,\n",
       " 'stopthesteal': 7,\n",
       " '29sept': 1,\n",
       " '2020presidentialdebate': 6,\n",
       " 'regainingthestandard': 1,\n",
       " 'debatechallenge2020': 1,\n",
       " 'fitness': 1,\n",
       " 'health': 4,\n",
       " 'smashteam': 1,\n",
       " 'centrfit': 1,\n",
       " 'biden2020': 53,\n",
       " 'covid_19': 10,\n",
       " 'coronatraining': 1,\n",
       " 'pridefamily': 7,\n",
       " 'pridenews1': 4,\n",
       " 'debatedrinkinggame': 2,\n",
       " 'breakingnews': 16,\n",
       " 'debates202': 4,\n",
       " 'debatequotesfromthefuture': 1,\n",
       " 'gop': 36,\n",
       " 'leadright': 5,\n",
       " 'trump2020victory': 3,\n",
       " 'greatsuccess': 1,\n",
       " 'fakenewsmedia': 25,\n",
       " 'creepyjoebiden': 6,\n",
       " 'trumpliedpeopledied': 16,\n",
       " 'penceknew': 1,\n",
       " 'gopcomplicittraitors': 10,\n",
       " 'foxknew': 1,\n",
       " 'cdcknew': 1,\n",
       " 'fdaknew': 1,\n",
       " 'taxfraudtrump': 4,\n",
       " 'penceisamurderer': 1,\n",
       " 'backtobluepa': 2,\n",
       " 'bitcoin': 9,\n",
       " 'justsayin': 2,\n",
       " 'trumpisaloser': 34,\n",
       " 'trumptaxcheat': 6,\n",
       " 'trumpisnot': 1,\n",
       " '2020nojoke': 4,\n",
       " 'bidenharris20': 1,\n",
       " 'joepay': 1,\n",
       " 'elpaís': 1,\n",
       " 'chriswallace': 143,\n",
       " 'performanceenhancer': 1,\n",
       " 'trumpisafraud': 7,\n",
       " 'cashforballots': 13,\n",
       " 'trumpfamilytaxfraud': 1,\n",
       " 'ufc': 1,\n",
       " 'trumpliesmatter': 2,\n",
       " 'de': 16,\n",
       " 'mueller': 8,\n",
       " 'speakerpelosi': 1,\n",
       " 'cults': 1,\n",
       " 'psychiatry': 1,\n",
       " 'psychopaths': 1,\n",
       " 'malignantnarcissist': 2,\n",
       " 'mentalhealth': 1,\n",
       " 'experts': 1,\n",
       " 'silenced': 1,\n",
       " 'trumpsmentalunhealth': 1,\n",
       " 'removetrumpnow': 1,\n",
       " 'rsbn': 1,\n",
       " 'cripthevote': 2,\n",
       " 'stopfakenewspolls': 1,\n",
       " 'foxfakenews': 2,\n",
       " 'stopfoxfakenews': 1,\n",
       " 'amyconeybarrett': 12,\n",
       " 'tuesdaydebate': 2,\n",
       " 'orangeidiot': 2,\n",
       " 'haha': 1,\n",
       " 'bingo': 1,\n",
       " 'trumptaxes': 12,\n",
       " 'election2020': 96,\n",
       " 'الكويت': 1,\n",
       " 'صباح_الأحمد_الجابر_': 1,\n",
       " 'healthcare': 4,\n",
       " 'factcheckthis': 2,\n",
       " 'advertising': 1,\n",
       " 'marketing': 2,\n",
       " 'socialmedia': 2,\n",
       " 'influencermarketing': 1,\n",
       " 'gojoe': 4,\n",
       " 'studentstweetpolitics': 1,\n",
       " 'uspresidentialdebate': 7,\n",
       " 'brilliant': 1,\n",
       " 'turnip2020': 1,\n",
       " 'bidoon2002': 1,\n",
       " 'ilovemynation': 1,\n",
       " 'debatenight': 29,\n",
       " 'debates2': 6,\n",
       " 'bs': 1,\n",
       " 'nomoreyears': 1,\n",
       " 'deb': 17,\n",
       " 'keepyappin': 1,\n",
       " 'argentinasuppor': 1,\n",
       " 'd': 7,\n",
       " 'chinesewuhanvirus': 1,\n",
       " 'demonrats': 2,\n",
       " 'basementbiden': 1,\n",
       " 'quidproquojoe': 3,\n",
       " 'hunterchina': 1,\n",
       " 'moscowhunter': 3,\n",
       " 'voteredtosaveamerica2020': 23,\n",
       " 'votered2020removeeverydemocrat': 5,\n",
       " 'trump2020nowmorethanever': 26,\n",
       " 'shutupman': 47,\n",
       " 'sulsvote4pres': 1,\n",
       " 'retweeet': 1,\n",
       " 'retweeetplease': 1,\n",
       " 'prescriptiondrugs': 1,\n",
       " 'pedodon': 1,\n",
       " 'willyoushutupman': 15,\n",
       " 'tds': 2,\n",
       " 'shutuptrump': 2,\n",
       " 'didtrump': 1,\n",
       " 'trumpisanidiot': 2,\n",
       " 'uneducatedtrump': 1,\n",
       " 'trumpisaliar': 14,\n",
       " 'vv': 1,\n",
       " 'teamjoe': 5,\n",
       " 'scrantonvsparkave': 1,\n",
       " 'presidenttrump': 60,\n",
       " 'votebluetosaveamerica': 34,\n",
       " 'presidementia': 11,\n",
       " 'byedon2020': 4,\n",
       " 'stfudonald': 1,\n",
       " 'iykyk': 1,\n",
       " 'hidinbiden': 4,\n",
       " 'burnaboy': 1,\n",
       " 'snapchat': 1,\n",
       " 'wizkid': 1,\n",
       " 'smilechallenge': 1,\n",
       " 'votejoe': 3,\n",
       " 'idiottrump': 1,\n",
       " 'deba': 12,\n",
       " 'voteforscience': 1,\n",
       " 'berniemanifesto': 1,\n",
       " 'elecci': 1,\n",
       " 'hamsa': 2,\n",
       " 'jewishgifts': 1,\n",
       " 'ejwtt': 1,\n",
       " 'rwchst': 1,\n",
       " 'latinogreeksforbidenharris': 1,\n",
       " 'allinforohio': 1,\n",
       " 'aftvotes': 1,\n",
       " 'nytimes': 4,\n",
       " 'election': 18,\n",
       " 'debateover': 7,\n",
       " 'freshtweets': 1,\n",
       " 'debates20': 12,\n",
       " 'clown': 17,\n",
       " 'trumpisunwell': 11,\n",
       " 'presidentialde': 14,\n",
       " 'joebiden2020': 5,\n",
       " 'rip': 1,\n",
       " 'ovdb': 1,\n",
       " 'demcast': 7,\n",
       " 'bethechange4usa': 1,\n",
       " 'onev1': 6,\n",
       " 'mlbplayoffs': 1,\n",
       " 'bronxbombers': 1,\n",
       " 'beijingbiden': 6,\n",
       " 'justice': 2,\n",
       " 'exonerateflynn': 1,\n",
       " 'defundthepolice': 2,\n",
       " 'wallace': 6,\n",
       " 'hatethemboth': 1,\n",
       " 'ag': 2,\n",
       " 'mcvotes2020': 1,\n",
       " 'leftunity': 1,\n",
       " 'thisisamerica': 1,\n",
       " 'live': 5,\n",
       " 'fuckthenarrative': 1,\n",
       " 'frump': 1,\n",
       " 'fakenews': 32,\n",
       " 'auntietweetsthedebates': 1,\n",
       " 'trumplied200kdied': 6,\n",
       " 'presidentialdebate2': 2,\n",
       " 'thatisall': 1,\n",
       " 'mrpresident': 3,\n",
       " 'ncugopo': 1,\n",
       " 'hunterbiden': 19,\n",
       " 'swamp': 1,\n",
       " 'b': 5,\n",
       " 'bidenwonthedebate': 197,\n",
       " 'trumplandslide2020': 10,\n",
       " 'thisclown': 1,\n",
       " 'presidentialdebates2020': 20,\n",
       " '2020debates': 2,\n",
       " 'chriswallacefail': 1,\n",
       " 'factcheck': 9,\n",
       " 'budenwonthedebate': 1,\n",
       " 'dumptrump2020': 20,\n",
       " 'blacklivesmatter': 84,\n",
       " 'iapolitics': 1,\n",
       " 'votebidenharristoendthisnightmare': 10,\n",
       " 'presidentialdeb': 1,\n",
       " 'trumpisaracist': 127,\n",
       " 'votebidenharris2020': 41,\n",
       " 'stupidbastard': 1,\n",
       " 'rememberinnovember': 9,\n",
       " 'debatecnn': 2,\n",
       " 'nationalcoffeeday': 1,\n",
       " 'trumpbiden2020': 1,\n",
       " 'pakistan': 2,\n",
       " 'usa': 55,\n",
       " 'voteearly': 32,\n",
       " 'healthequity': 1,\n",
       " 'trumpvsbiden2020': 3,\n",
       " 'bidencalm': 4,\n",
       " 'antifa': 37,\n",
       " 'bidrn': 1,\n",
       " 'voteblue2020': 22,\n",
       " 'factsmatter': 7,\n",
       " 'riggedelection': 4,\n",
       " 'electionfraud': 3,\n",
       " 'democratballotharvestin': 1,\n",
       " 'cringe': 1,\n",
       " 'unitedshades': 1,\n",
       " 'vinnie2020': 1,\n",
       " 'eagles': 2,\n",
       " 'crowderdeba': 1,\n",
       " 'scandalfreeadministration': 1,\n",
       " 'catsoutofthebag': 1,\n",
       " 'lockobamaup': 1,\n",
       " 'votetrump20': 1,\n",
       " 'worstpresidentinhistory': 6,\n",
       " 'votetrumpout': 18,\n",
       " 'mypresident': 2,\n",
       " 'presidentialelection2020': 1,\n",
       " 'bidenwondebates': 1,\n",
       " 'freeloaderinchief': 1,\n",
       " 'bullyinchief': 2,\n",
       " 'russianbountiesonourtroops': 6,\n",
       " 'nomoredebates': 6,\n",
       " 'abusive': 1,\n",
       " 'factchecking': 3,\n",
       " 'trumpfailed': 2,\n",
       " 'crazypres': 1,\n",
       " 'bidenwon': 12,\n",
       " 'chriswallaceworstmoderator': 1,\n",
       " 'firechriswallace': 14,\n",
       " 'staceyabrams': 1,\n",
       " '45': 10,\n",
       " 'presi': 19,\n",
       " 'votethisclownout': 1,\n",
       " 'proudboysstandingby': 1,\n",
       " 'willyoushutup': 2,\n",
       " 'notkarensstickers': 2,\n",
       " 'prayerwarriors': 1,\n",
       " 'crystalenthusiasts': 1,\n",
       " 'positivevibethrowers': 1,\n",
       " 'votebidenharrist': 1,\n",
       " 'bidenpedofilo': 1,\n",
       " 'nothingcanstopwhatiscoming': 3,\n",
       " 'cia': 3,\n",
       " 'fbi': 4,\n",
       " 'hillary': 4,\n",
       " 'obama': 26,\n",
       " 'americ': 1,\n",
       " 'trump2020landslidevictory': 28,\n",
       " 'joebi': 13,\n",
       " 'hanity': 1,\n",
       " 'foxnews': 51,\n",
       " 'postcardstovoters': 1,\n",
       " 'potus': 51,\n",
       " 'faucithefraud': 1,\n",
       " 'greatamericancomeback': 1,\n",
       " 'lockfauciup': 1,\n",
       " 'faucigenocide': 1,\n",
       " 'whitesupremacyisajoke': 1,\n",
       " 'cdnpoli': 6,\n",
       " 'abpoli': 1,\n",
       " 'uspoli': 4,\n",
       " 'trumptrainwreck': 5,\n",
       " 'bullytrump': 1,\n",
       " 'govote': 1,\n",
       " 'whowillbeawitness': 1,\n",
       " 'epicfail': 1,\n",
       " 'shitshow': 5,\n",
       " 'favorite': 1,\n",
       " 'trumpcult': 1,\n",
       " 'trumpertantrum': 1,\n",
       " 'trumpnotthemanwiththeplan': 1,\n",
       " 'boguspotus': 1,\n",
       " 'dribblindon': 1,\n",
       " 'tremblintrump': 1,\n",
       " 'bidenforthewin': 1,\n",
       " 'bidenforallamerica': 1,\n",
       " 'whitesupremacist': 13,\n",
       " 'vpdebate': 1,\n",
       " 'dsdems': 1,\n",
       " 'trumpknew': 13,\n",
       " 'trumpunhinged': 1,\n",
       " 'trumpchaos': 8,\n",
       " 'harris': 3,\n",
       " 'liberalismisamentaldisorder': 8,\n",
       " 'socialismkills': 3,\n",
       " 'voterfraudisreal': 5,\n",
       " 'gavinnewsom': 1,\n",
       " '1619project': 1,\n",
       " 'morevoicesbetterchoices': 2,\n",
       " 'makeamericagreatagain': 22,\n",
       " 'muchlove': 1,\n",
       " 'trumplied200kamericansdied': 5,\n",
       " 'russiahoax': 6,\n",
       " 'electionday': 3,\n",
       " 'elections': 7,\n",
       " 'poll': 7,\n",
       " 'polls': 2,\n",
       " 'realdonaldtrump': 7,\n",
       " 'trumpwaspathetic': 1,\n",
       " 'unidadpatriotaanteelbloqueo': 1,\n",
       " 'unhinged': 2,\n",
       " 'unfit': 2,\n",
       " 'trumpisatraitor': 19,\n",
       " 'goodtoknow': 13,\n",
       " 'tx06': 2,\n",
       " 'txpolitics': 1,\n",
       " 'fallonmon': 2,\n",
       " 'sadgovteacher': 1,\n",
       " 'joedormilon': 1,\n",
       " 'greennewdeal': 27,\n",
       " 'putinspuppy': 6,\n",
       " 'journalismisdead': 2,\n",
       " 'bidenisdone': 1,\n",
       " 'chrisw': 1,\n",
       " 'antitrumpadvocate': 1,\n",
       " 'unpresidential': 1,\n",
       " 'stfutrump': 2,\n",
       " 'firewray': 2,\n",
       " 'firewraynow': 3,\n",
       " '8216': 1,\n",
       " '8217': 3,\n",
       " 'joewonthedebate': 3,\n",
       " 'pennsylvaniavoters': 1,\n",
       " 'brokeasstrump': 2,\n",
       " 'debat': 7,\n",
       " 'trumpislosing': 14,\n",
       " 'uspol': 2,\n",
       " 'uspolitics': 3,\n",
       " 'bi': 3,\n",
       " 'retrofpuc': 1,\n",
       " 'hazardpay': 1,\n",
       " 'airlinebail': 1,\n",
       " 'cpc': 2,\n",
       " 'resista': 1,\n",
       " 'bbcrealitycheck': 1,\n",
       " 'enjoytheshow': 1,\n",
       " 'metoo': 6,\n",
       " 'dueprocess': 1,\n",
       " 'joepayshistaxes': 3,\n",
       " 'trumpdestroysdemocracy': 3,\n",
       " 'romneygardnerladygallspinelessliars': 3,\n",
       " 'trumpmurdered200kamericans': 1,\n",
       " 'thegopisdead': 3,\n",
       " 'presidentbiden': 3,\n",
       " 'vicepresidentharris': 2,\n",
       " 'votebiden': 6,\n",
       " 'fdt': 1,\n",
       " 'danbongino': 5,\n",
       " 'stablegenius': 6,\n",
       " 'riggeddebate': 2,\n",
       " 'trumpversesbidenwallaceandthemedia': 1,\n",
       " 'chriswallace2020': 1,\n",
       " 'hidenbiden': 9,\n",
       " 'hace4años': 5,\n",
       " 'shitshowdonnie': 1,\n",
       " 'pedojoebiden': 3,\n",
       " 'obamabidengate': 4,\n",
       " 'wakeuppeople': 2,\n",
       " 'gitmo': 4,\n",
       " 'bidentherapist': 4,\n",
       " 'heelsupharris': 2,\n",
       " 'ther': 3,\n",
       " 'hammeredintenminutes': 1,\n",
       " 'america': 18,\n",
       " 'democrats': 42,\n",
       " 'trumpbidendebate': 10,\n",
       " 'trumpisalaughingstock': 22,\n",
       " 'obamagate': 17,\n",
       " 'trumpliesamericansdie': 11,\n",
       " 'latinos': 7,\n",
       " 'bobwoodward': 1,\n",
       " 'spygate': 14,\n",
       " 'maddow': 3,\n",
       " 'maddowmoderator': 1,\n",
       " 'dontbanterrencekwilliams': 1,\n",
       " 'maketuckerapresidentialdebatemoderator': 1,\n",
       " 'debatebingo': 1,\n",
       " '750dollardon': 1,\n",
       " 'blm': 41,\n",
       " 'democracyforall': 1,\n",
       " 'antifaterrorists': 6,\n",
       " 'votetrump2020tos': 1,\n",
       " 'idenouncewhitesupremists': 1,\n",
       " 'president': 4,\n",
       " 'comeyrule': 2,\n",
       " 'ตอบเฉพาะคนเม': 1,\n",
       " 'เซฟโซนของต': 1,\n",
       " 'thegentlemenlive': 1,\n",
       " 'imethค': 1,\n",
       " 'crookedjoebiden': 2,\n",
       " 'bidencrimefamily': 7,\n",
       " 'bidenriots': 9,\n",
       " 'chiefsniffer': 1,\n",
       " 'bidenisracist': 1,\n",
       " 'quidprojoe': 3,\n",
       " 'lyingdogfacedponysoldier': 1,\n",
       " 'plagerist': 1,\n",
       " 'owned': 1,\n",
       " 'kag': 55,\n",
       " 'platinumplan': 9,\n",
       " 'c': 24,\n",
       " 'debatabletakes': 19,\n",
       " 'notmypresident': 9,\n",
       " 'magats': 3,\n",
       " 'aditya': 1,\n",
       " 'आत': 3,\n",
       " 'justiceformanishavalmiki': 2,\n",
       " 'whereissmritiirani': 1,\n",
       " 'shameonyogi': 1,\n",
       " 'hathras': 1,\n",
       " 'justiceformanisha': 1,\n",
       " 'yogiadityanath': 1,\n",
       " 'hathrashorror': 1,\n",
       " 'justiceforhathrasvictim': 1,\n",
       " 'wednesdaymorning': 3,\n",
       " 'manishavalmiki': 1,\n",
       " 'ह': 1,\n",
       " 'poutine': 1,\n",
       " 'donaldtrum': 4,\n",
       " 'jobsreport': 5,\n",
       " 'mts': 1,\n",
       " 'free': 2,\n",
       " 'rides': 1,\n",
       " 'november3rd': 3,\n",
       " 'pollingplaces': 1,\n",
       " 'leftistsalwaysproject': 1,\n",
       " 'auspol': 5,\n",
       " 'msm': 16,\n",
       " 'ccpchina': 3,\n",
       " 'chinajoe': 6,\n",
       " 'qanon': 14,\n",
       " 'wwg1wga': 14,\n",
       " 'thegreatawakening': 7,\n",
       " 'digitalsoldiers': 3,\n",
       " 'frazzledrip': 1,\n",
       " 'redpill': 5,\n",
       " 'freedom': 1,\n",
       " 'q': 2,\n",
       " 'trumptrain': 10,\n",
       " 'qarmy': 1,\n",
       " 'worldwide': 1,\n",
       " 'republican': 21,\n",
       " 'democrat': 10,\n",
       " '2': 9,\n",
       " 'bodylanguage': 3,\n",
       " 'fakeheadlinebot': 3,\n",
       " 'learntocode': 3,\n",
       " 'makeatwitterbot': 3,\n",
       " 'javascript': 2,\n",
       " 'parody': 1,\n",
       " 'daddyissues': 1,\n",
       " 'votehimout2020': 20,\n",
       " 'bidenwondebate': 6,\n",
       " '29sep': 3,\n",
       " 'backtheblue': 9,\n",
       " 'fuck2020': 1,\n",
       " 'fuckwhitesupremacists': 1,\n",
       " 'hathrashorrorshocksindia': 1,\n",
       " 'btsonfallon_d2': 2,\n",
       " 'johncena': 2,\n",
       " 'hathrascase': 1,\n",
       " 'news': 17,\n",
       " 'trekthevote': 1,\n",
       " 'trektuesday': 1,\n",
       " 'joefornursinghome2020': 1,\n",
       " 'presidentialdeba': 3,\n",
       " '新中国联邦': 1,\n",
       " 'china': 23,\n",
       " 'tarareade': 1,\n",
       " 'world': 3,\n",
       " 'mastersofprojection': 1,\n",
       " 'presidential': 6,\n",
       " 'berniesanders': 1,\n",
       " 'racistinchief': 11,\n",
       " 'gopcorruptionovercountry': 13,\n",
       " 'trumpisanationalsecuritythreat': 6,\n",
       " 'wecaughtthemall': 1,\n",
       " 'byeeric': 2,\n",
       " 'covid': 52,\n",
       " 'pennsylvania': 10,\n",
       " 'wisconsin': 11,\n",
       " 'ohio': 11,\n",
       " 'trumphateswhitepeople': 1,\n",
       " 'standdownandstandby': 6,\n",
       " 's386': 3,\n",
       " 'standwithscott': 1,\n",
       " 's386blockedflprotected': 1,\n",
       " 'nos386noharassment': 1,\n",
       " 'texas': 13,\n",
       " 'traitortrump': 18,\n",
       " 'confederatetrump': 1,\n",
       " 'nazitrump': 1,\n",
       " 'ezgimola': 1,\n",
       " 'maga20': 1,\n",
       " 'colombiac': 1,\n",
       " 'trumpisala': 1,\n",
       " 'checkpoint': 1,\n",
       " 'dlozlami': 1,\n",
       " 'teamh': 6,\n",
       " 'tshirtdesign': 1,\n",
       " 'tshirt': 2,\n",
       " 'graphicdesigner': 1,\n",
       " 'graphicdesign': 2,\n",
       " 'proudboys': 62,\n",
       " 'whitesupremacy': 26,\n",
       " 'helenreddy': 1,\n",
       " 'danabash': 2,\n",
       " 'presidentofthe': 1,\n",
       " 'blmantifaterroriststhugs': 3,\n",
       " 'truthmatters': 6,\n",
       " 'tr': 10,\n",
       " 'earpiece': 2,\n",
       " 'earpiecegate': 1,\n",
       " 'saveourchildren': 4,\n",
       " 'wieszwiecej': 1,\n",
       " 'granvictoria': 1,\n",
       " 'lawandorder': 7,\n",
       " 'presid': 2,\n",
       " 'presidentialdebat': 1,\n",
       " 'takeaways': 1,\n",
       " 'voteforamerica': 3,\n",
       " 'vote2020': 5,\n",
       " 'projection': 2,\n",
       " 'trumpisnotwell': 7,\n",
       " 'trumpvirusdeathtoll200k': 2,\n",
       " 'imvotingforbiden': 1,\n",
       " 'trumphatesourveterans': 1,\n",
       " 'election2020https': 1,\n",
       " 'wednesdaywisdom': 9,\n",
       " 'wednesdaythoughts': 5,\n",
       " 'totche': 2,\n",
       " 'spainsupportstrump': 2,\n",
       " 'gmb': 2,\n",
       " 'decision2020': 4,\n",
       " 'joebideniscorrupt': 2,\n",
       " 'notusthem': 1,\n",
       " 'covid19india': 2,\n",
       " 'listeningdevice': 1,\n",
       " 'cheat': 3,\n",
       " 'trump2020landsli': 1,\n",
       " 'trumpcrimefamilymustgo': 1,\n",
       " 'agbarrmustresignnow': 1,\n",
       " 'republicansaredestroyingamerica': 4,\n",
       " 'editorial': 2,\n",
       " 'donthecon': 10,\n",
       " 'greenne': 1,\n",
       " 'optoribogenetics': 1,\n",
       " 'rickbeijingscott': 1,\n",
       " 'interrupting': 2,\n",
       " 'rage': 1,\n",
       " 'americans': 11,\n",
       " 'rbg': 7,\n",
       " 'johnlewis': 1,\n",
       " 'qanons': 11,\n",
       " 'congress': 4,\n",
       " 'trumphatesourmilitary': 2,\n",
       " 'climatearsonist': 1,\n",
       " 'fakeoutrage': 2,\n",
       " 'foolishness': 1,\n",
       " 'painfultowatch': 1,\n",
       " 'ترامپ': 1,\n",
       " 'hongkong': 4,\n",
       " 'debatehk': 4,\n",
       " 'liar': 6,\n",
       " 'orangedicktaterwanna': 1,\n",
       " 'whitesupremacists': 19,\n",
       " 'débat': 4,\n",
       " 'jrobgov': 1,\n",
       " 'lyingclown': 1,\n",
       " 'trumpisabusive': 3,\n",
       " 'trumpisanabuser': 3,\n",
       " 'wiregate': 1,\n",
       " 'vota': 1,\n",
       " 'fakemedia': 2,\n",
       " 'makeyourvote': 1,\n",
       " 'r2p': 3,\n",
       " 'dailyexpress': 1,\n",
       " 'queen': 2,\n",
       " 'england': 3,\n",
       " 'ue': 3,\n",
       " 'uk': 6,\n",
       " 'macron': 5,\n",
       " 'people': 3,\n",
       " 'tabloid': 2,\n",
       " 'coronavirus': 121,\n",
       " 'sunak': 2,\n",
       " 'borisjohnson': 4,\n",
       " 'princewilliam': 2,\n",
       " 'middleton': 1,\n",
       " 'epstein': 3,\n",
       " 'princeandrew': 2,\n",
       " 'maxwell': 2,\n",
       " 'princeharry': 2,\n",
       " 'kanyewest': 1,\n",
       " 'pm': 2,\n",
       " 'simoncowell': 1,\n",
       " 'dianarigg': 2,\n",
       " 'trumpriots': 2,\n",
       " 'trumpcrimefamilyforprison': 6,\n",
       " 'deepstatecabal': 1,\n",
       " 'illegitimatepresident': 1,\n",
       " 'howdymodi': 1,\n",
       " 'zemmour': 2,\n",
       " 'fuckingbitch': 1,\n",
       " 'stopfascismnow': 1,\n",
       " 'votetrump2020tosaveameric': 1,\n",
       " 'demcastmi': 1,\n",
       " 'earpiecebiden': 1,\n",
       " 'democratstheenemywithin': 13,\n",
       " 'sleepyslowjoe': 2,\n",
       " 'crazybernie': 2,\n",
       " 'trumpkilledmymother': 1,\n",
       " 'ditchmitch': 2,\n",
       " 'moscowmitch': 6,\n",
       " 'byelindsey': 2,\n",
       " 'trumppenceoutnow': 1,\n",
       " 'trumpisacuntpassiton': 1,\n",
       " 'joewired': 36,\n",
       " 'voteready': 7,\n",
       " 'charliehebdo': 1,\n",
       " 'teachbánaithe': 1,\n",
       " 'abolishtheelectoralcollege': 1,\n",
       " 'americasgreatestmistake': 7,\n",
       " 'cpd': 1,\n",
       " 'debatepresidencial': 2,\n",
       " 'casewesternreserveuniversity': 1,\n",
       " 'ppaca': 1,\n",
       " 'obamacare': 2,\n",
       " 'barackobama': 3,\n",
       " 'ruthbaderginsburg': 2,\n",
       " 'noticias': 5,\n",
       " 'godiswatching': 1,\n",
       " 'proudboysstandby': 6,\n",
       " 'khaligraph': 2,\n",
       " 'ruto': 2,\n",
       " 'tinakaggia': 3,\n",
       " 'kibera': 2,\n",
       " 'mombasaroad': 2,\n",
       " 'feminism': 2,\n",
       " 'trumpbidendebate2020': 1,\n",
       " 'topic': 1,\n",
       " 'trumpwondebate': 5,\n",
       " 'chriswallaceisajoke': 9,\n",
       " 'racisttrump': 15,\n",
       " 'schoolsreop': 4,\n",
       " 'putinspuppet': 9,\n",
       " 'hoax': 18,\n",
       " 'goodjob': 1,\n",
       " 'logo': 3,\n",
       " 'businesscard': 1,\n",
       " 'branding': 1,\n",
       " 'web': 1,\n",
       " 'instagram': 1,\n",
       " 'facebook': 7,\n",
       " 'twitter': 3,\n",
       " 'banners': 1,\n",
       " 'business': 2,\n",
       " 'company': 1,\n",
       " 'realestate': 1,\n",
       " 'fashion': 2,\n",
       " 'food': 1,\n",
       " 'uselection2020': 3,\n",
       " 'democraticsocialist': 1,\n",
       " 'ترامب': 9,\n",
       " 'notfallingforthatnonsense': 1,\n",
       " 'maga2020landslidevictory': 6,\n",
       " 'keepamer': 1,\n",
       " 'voteforbidenharris': 1,\n",
       " 'usa2020': 3,\n",
       " 'rassegnastampa': 1,\n",
       " 'maizebaronofsugoi': 1,\n",
       " 'schoolsreopening': 1,\n",
       " 'mwashumbenashugaboy': 1,\n",
       " 'medicareforall': 4,\n",
       " 'joemo': 1,\n",
       " 'criminalgang': 1,\n",
       " 'xijinping': 1,\n",
       " 'rt': 5,\n",
       " 'foxandfriends': 8,\n",
       " 'freerealitywinner': 2,\n",
       " 'trumpmeltdownlive': 1,\n",
       " 'godhelpus': 1,\n",
       " 'americapraynow': 1,\n",
       " 'weareblessedshelost': 1,\n",
       " 'democrates': 2,\n",
       " 'bigyikes': 1,\n",
       " 'leadersdebate': 1,\n",
       " 'badthingshappeninphiladelphia': 1,\n",
       " 'defendourdemocracy': 1,\n",
       " 'saveusps': 1,\n",
       " 'savetheunitedstatespostalservice': 1,\n",
       " 'savetheusps': 1,\n",
       " 'pony': 1,\n",
       " 'unitedstatespostalservice': 1,\n",
       " 'uses': 1,\n",
       " 'brianschatz': 1,\n",
       " 'tulsigabbard': 1,\n",
       " 'maziehirono': 1,\n",
       " 'usmail': 1,\n",
       " 'us': 11,\n",
       " 'economy': 2,\n",
       " 'trumpisunfit': 3,\n",
       " 'cnn': 28,\n",
       " 'bidenruledtrump': 1,\n",
       " 'portland': 3,\n",
       " 'savethechildren': 15,\n",
       " 'pknt': 1,\n",
       " 'inperson': 2,\n",
       " 'showupfordemocracy': 2,\n",
       " 'votejoebiden2020': 3,\n",
       " 'trumppedoyears': 1,\n",
       " 'demsarede': 1,\n",
       " 'russianoligarch': 1,\n",
       " 'raceforthe': 1,\n",
       " 'latinosfortrump': 10,\n",
       " 'bidenlies': 5,\n",
       " 'trumpbidenrtve': 1,\n",
       " 'ukraine': 7,\n",
       " 'trending': 4,\n",
       " 'trendingnews': 2,\n",
       " 'trump2020tosaveamerica': 22,\n",
       " 'zeroilfolle': 1,\n",
       " 'skybaseball': 1,\n",
       " 'antifaisjustanidea': 3,\n",
       " 's': 3,\n",
       " 'nazigermany': 1,\n",
       " 'trumpspupils': 3,\n",
       " 'weknowjoe': 1,\n",
       " 'biasedwallace': 1,\n",
       " 'biased': 2,\n",
       " 'investigation': 1,\n",
       " 'americafirst': 16,\n",
       " 'getwoke': 1,\n",
       " 'truthbetold': 1,\n",
       " 'truthoverlies': 1,\n",
       " 'blacks': 1,\n",
       " 'btsweek': 5,\n",
       " 'blackpink': 6,\n",
       " 'trumpproudboys': 2,\n",
       " 'bbtvi': 1,\n",
       " 'jamaica': 1,\n",
       " 'nigeria': 5,\n",
       " 'nyc': 2,\n",
       " 'newyork': 3,\n",
       " 'miami': 3,\n",
       " 'atlanta': 5,\n",
       " 'sanfrancisco': 1,\n",
       " 'defundpolice': 1,\n",
       " 'lawenforcement': 1,\n",
       " 'pizza': 1,\n",
       " 'pineapple': 1,\n",
       " 'pineappleonpizza': 1,\n",
       " 'meme': 1,\n",
       " 'funnymeme': 1,\n",
       " 'lol': 1,\n",
       " 'faktenfinder': 1,\n",
       " 'uswahl2020': 2,\n",
       " 'faktencheck': 1,\n",
       " 'c4news': 3,\n",
       " 'g30spki': 1,\n",
       " 'hukumberat': 1,\n",
       " 'curistart': 1,\n",
       " 'mass': 1,\n",
       " 'eskopifrappe': 1,\n",
       " 'suho': 1,\n",
       " 'herragolftwittler': 1,\n",
       " 'racismmustfall': 1,\n",
       " 'punktrump': 1,\n",
       " 'trumpracist': 6,\n",
       " 'terzake': 1,\n",
       " 'sacramento': 1,\n",
       " 'lügenpresse': 1,\n",
       " 'jakpost': 1,\n",
       " 'votebidenharristosaveamerica': 18,\n",
       " 'liestream': 1,\n",
       " 'bindenwon': 1,\n",
       " 'presendentialdebate2020': 1,\n",
       " 'murdoch': 1,\n",
       " 'racism': 7,\n",
       " 'socialismo': 1,\n",
       " 'بايدن': 1,\n",
       " 'شاهد_سكاي': 1,\n",
       " 'ccp': 9,\n",
       " 'บ': 1,\n",
       " 'bidenliesagain': 2,\n",
       " 'drugaddiction': 1,\n",
       " 'drugwarrior': 1,\n",
       " 'vp': 1,\n",
       " 'uselections': 3,\n",
       " 'shitshowpresident': 1,\n",
       " 'duel': 1,\n",
       " 'démocrate': 1,\n",
       " 'standbackstandby': 1,\n",
       " 'kag2020': 17,\n",
       " 'unfittobepr': 3,\n",
       " 'stayathome': 1,\n",
       " 'healthyathome': 1,\n",
       " 'nantes': 1,\n",
       " 'nice': 1,\n",
       " 'lille': 1,\n",
       " 'paris': 1,\n",
       " 'toulouse': 1,\n",
       " 'lyon': 2,\n",
       " 'marseille': 1,\n",
       " 'terrassa': 1,\n",
       " 'barcelona': 1,\n",
       " 'madrid': 1,\n",
       " 'zaragoza': 1,\n",
       " 'seville': 1,\n",
       " 'valencia': 1,\n",
       " 'stuttgart': 1,\n",
       " 'koln': 1,\n",
       " 'hannover': 1,\n",
       " 'munchen': 1,\n",
       " 'hamburg': 1,\n",
       " ...}"
      ]
     },
     "execution_count": 92,
     "metadata": {},
     "output_type": "execute_result"
    }
   ],
   "source": [
    "full_text_hastags_dict"
   ]
  },
  {
   "cell_type": "code",
   "execution_count": 93,
   "metadata": {},
   "outputs": [
    {
     "data": {
      "text/plain": [
       "[('debates2020', 2085),\n",
       " ('trump', 675),\n",
       " ('covid19', 511),\n",
       " ('trump2020', 493),\n",
       " ('trumphascovid', 470),\n",
       " ('maga', 428),\n",
       " ('vote', 350),\n",
       " ('presidentialdebate', 307),\n",
       " ('biden', 281),\n",
       " ('debates', 266),\n",
       " ('joebiden', 200),\n",
       " ('bidenwonthedebate', 197),\n",
       " ('bidenharris2020', 183),\n",
       " ('debate2020', 181),\n",
       " ('presidentialdebate2020', 173),\n",
       " ('trumpmeltdown', 163),\n",
       " ('debate', 156),\n",
       " ('donaldtrump', 150),\n",
       " ('chriswallace', 143),\n",
       " ('trumpisaracist', 127),\n",
       " ('votehimout', 123),\n",
       " ('coronavirus', 121),\n",
       " ('election2020', 96),\n",
       " ('proudboytrump', 92),\n",
       " ('worsttrumpever', 89),\n",
       " ('blacklivesmatter', 84),\n",
       " ('bountygate', 81),\n",
       " ('trumpvirus', 77),\n",
       " ('trumpcovid', 74),\n",
       " ('breaking', 68),\n",
       " ('maga2020', 66),\n",
       " ('bidenharris', 65),\n",
       " ('proudboys', 62),\n",
       " ('melaniatapes', 61),\n",
       " ('presidenttrump', 60),\n",
       " ('endtrumpshate', 58),\n",
       " ('usa', 55),\n",
       " ('kag', 55),\n",
       " ('biden2020', 53),\n",
       " ('covid', 52),\n",
       " ('foxnews', 51),\n",
       " ('potus', 51),\n",
       " ('kkk', 51),\n",
       " ('shutupman', 47),\n",
       " ('trump2020landslide', 44),\n",
       " ('smartnews', 42),\n",
       " ('democrats', 42),\n",
       " ('votebidenharris2020', 41),\n",
       " ('blm', 41),\n",
       " ('1', 39),\n",
       " ('followthemoney', 38),\n",
       " ('antifa', 37),\n",
       " ('andrewcuomo', 37),\n",
       " ('debatetuesday', 36),\n",
       " ('gop', 36),\n",
       " ('joewired', 36),\n",
       " ('voterfraud', 36),\n",
       " ('wearamask', 36),\n",
       " ('trumpisaloser', 34),\n",
       " ('votebluetosaveamerica', 34),\n",
       " ('votebluetoendthisnightmare', 33),\n",
       " ('elections2020', 33),\n",
       " ('fakenews', 32),\n",
       " ('voteearly', 32),\n",
       " ('votersuppression', 32),\n",
       " ('2020debate', 30),\n",
       " ('debatenight', 29),\n",
       " ('keepamericagreat', 28),\n",
       " ('eeuu', 28),\n",
       " ('trump2020landslidevictory', 28),\n",
       " ('cnn', 28),\n",
       " ('greennewdeal', 27),\n",
       " ('sleepyjoe', 26),\n",
       " ('argentinasupportstrump', 26),\n",
       " ('trumpcrimefamily', 26),\n",
       " ('bidenharristosaveamerica', 26),\n",
       " ('trump2020nowmorethanever', 26),\n",
       " ('obama', 26),\n",
       " ('whitesupremacy', 26),\n",
       " ('trumptaxreturns', 25),\n",
       " ('fakenewsmedia', 25),\n",
       " ('itiswhatitis', 25),\n",
       " ('trumpisanationaldisgrace', 24),\n",
       " ('últimahora', 24),\n",
       " ('c', 24),\n",
       " ('melaniatrump', 24),\n",
       " ('new', 23),\n",
       " ('voteredtosaveamerica2020', 23),\n",
       " ('china', 23),\n",
       " ('melania', 23),\n",
       " ('prayfortrump', 23),\n",
       " ('snlpremiere', 23),\n",
       " ('hopehicks', 23),\n",
       " ('walkaway', 22),\n",
       " ('dumptrump', 22),\n",
       " ('voteblue', 22),\n",
       " ('voteblue2020', 22),\n",
       " ('makeamericagreatagain', 22),\n",
       " ('trumpisalaughingstock', 22),\n",
       " ('trump2020tosaveamerica', 22),\n",
       " ('minnesota', 22),\n",
       " ('votered', 22),\n",
       " ('racist', 22),\n",
       " ('karma', 22),\n",
       " ('trumppence2020', 21),\n",
       " ('bidenharrislandslide2020', 21),\n",
       " ('americaortrump', 21),\n",
       " ('republican', 21),\n",
       " ('wakeupamerica', 20),\n",
       " ('presidentialdebates2020', 20),\n",
       " ('dumptrump2020', 20),\n",
       " ('votehimout2020', 20),\n",
       " ('armyfortrump', 19),\n",
       " ('oann', 19),\n",
       " ('hunterbiden', 19),\n",
       " ('presi', 19),\n",
       " ('trumpisatraitor', 19),\n",
       " ('debatabletakes', 19),\n",
       " ('whitesupremacists', 19),\n",
       " ('4moreyears', 19),\n",
       " ('lindseyforbiden', 19),\n",
       " ('turntexasblue', 18),\n",
       " ('bidenharris2020tosaveamerica', 18),\n",
       " ('election', 18),\n",
       " ('votetrumpout', 18),\n",
       " ('america', 18),\n",
       " ('traitortrump', 18),\n",
       " ('hoax', 18),\n",
       " ('votebidenharristosaveamerica', 18),\n",
       " ('bideniswinning', 18),\n",
       " ('afp', 17),\n",
       " ('deb', 17),\n",
       " ('clown', 17),\n",
       " ('obamagate', 17),\n",
       " ('news', 17),\n",
       " ('kag2020', 17),\n",
       " ('voteredtosaveamerica', 17),\n",
       " ('votetrump2020tosaveamerica', 17),\n",
       " ('bebest', 17),\n",
       " ('covidcaughttrump', 17),\n",
       " ('ballotharvesting', 16),\n",
       " ('scotus', 16),\n",
       " ('breakingnews', 16),\n",
       " ('trumpliedpeopledied', 16),\n",
       " ('de', 16),\n",
       " ('msm', 16),\n",
       " ('americafirst', 16),\n",
       " ('winning', 16),\n",
       " ('kylerittenhouse', 16),\n",
       " ('votelibertarian', 16),\n",
       " ('whereistheriver', 16),\n",
       " ('liarinchief', 15),\n",
       " ('gymjordan', 15),\n",
       " ('willyoushutupman', 15),\n",
       " ('racisttrump', 15),\n",
       " ('savethechildren', 15),\n",
       " ('covidー19', 15),\n",
       " ('northcarolina', 15),\n",
       " ('trumprally', 15),\n",
       " ('msnbc', 14),\n",
       " ('truth', 14),\n",
       " ('trumpisaliar', 14),\n",
       " ('presidentialde', 14),\n",
       " ('firechriswallace', 14),\n",
       " ('trumpislosing', 14),\n",
       " ('spygate', 14),\n",
       " ('qanon', 14),\n",
       " ('wwg1wga', 14),\n",
       " ('republicansforbiden', 14),\n",
       " ('themoreyouknow', 14),\n",
       " ('durham', 14),\n",
       " ('wearadamnmask', 14),\n",
       " ('byerudy', 13),\n",
       " ('politics', 13),\n",
       " ('cashforballots', 13),\n",
       " ('joebi', 13),\n",
       " ('whitesupremacist', 13),\n",
       " ('trumpknew', 13),\n",
       " ('goodtoknow', 13),\n",
       " ('gopcorruptionovercountry', 13),\n",
       " ('texas', 13),\n",
       " ('democratstheenemywithin', 13),\n",
       " ('morningjoe', 13),\n",
       " ('resist', 13),\n",
       " ('2020election', 13),\n",
       " ('t', 13),\n",
       " ('corona', 13),\n",
       " ('bidensfocusedonus', 13),\n",
       " ('fucktrump', 12),\n",
       " ('fightback', 12),\n",
       " ('amyconeybarrett', 12),\n",
       " ('trumptaxes', 12),\n",
       " ('deba', 12),\n",
       " ('debates20', 12),\n",
       " ('bidenwon', 12),\n",
       " ('walkawayfromdemocrats', 12),\n",
       " ('purplepower', 12),\n",
       " ('godwins', 12),\n",
       " ('blackvoicesfortrump', 12),\n",
       " ('voteinperson', 12),\n",
       " ('mcu', 12),\n",
       " ('trumpthesnake', 12),\n",
       " ('m', 12),\n",
       " ('whitmerdeathtoll', 12),\n",
       " ('trumpisbroke', 11),\n",
       " ('republicans', 11),\n",
       " ('p', 11),\n",
       " ('florida', 11),\n",
       " ('presidementia', 11),\n",
       " ('trumpisunwell', 11),\n",
       " ('trumpliesamericansdie', 11),\n",
       " ('racistinchief', 11),\n",
       " ('wisconsin', 11),\n",
       " ('ohio', 11),\n",
       " ('americans', 11),\n",
       " ('qanons', 11),\n",
       " ('us', 11),\n",
       " ('draintheswamp', 11),\n",
       " ('wallacefail', 11),\n",
       " ('bidenharris2020landslide', 11),\n",
       " ('youandmeboth', 11),\n",
       " ('trumpliedamericansdied', 11),\n",
       " ('restartmiga', 11),\n",
       " ('heroesact', 11),\n",
       " ('trumphascorona', 11),\n",
       " ('corruption', 10),\n",
       " ('kamalaharris', 10),\n",
       " ('covid_19', 10),\n",
       " ('gopcomplicittraitors', 10),\n",
       " ('trumplandslide2020', 10),\n",
       " ('votebidenharristoendthisnightmare', 10),\n",
       " ('45', 10),\n",
       " ('trumpbidendebate', 10),\n",
       " ('trumptrain', 10),\n",
       " ('democrat', 10),\n",
       " ('pennsylvania', 10),\n",
       " ('tr', 10),\n",
       " ('donthecon', 10),\n",
       " ('latinosfortrump', 10),\n",
       " ('democratsaredestroyingamerica', 10),\n",
       " ('reliefnow', 10),\n",
       " ('extendpsp', 10),\n",
       " ('votebluedownballot', 10),\n",
       " ('putinspiglet', 10),\n",
       " ('saveour', 10),\n",
       " ('huge', 10),\n",
       " ('bidenisaliar', 10),\n",
       " ('trumpbangeuroterrorists', 10),\n",
       " ('checkjoesears', 9),\n",
       " ('whereshunter', 9),\n",
       " ('dnc', 9),\n",
       " ('trumplies', 9),\n",
       " ('bitcoin', 9),\n",
       " ('factcheck', 9),\n",
       " ('rememberinnovember', 9),\n",
       " ('hidenbiden', 9),\n",
       " ('bidenriots', 9),\n",
       " ('platinumplan', 9),\n",
       " ('notmypresident', 9),\n",
       " ('2', 9),\n",
       " ('backtheblue', 9),\n",
       " ('wednesdaywisdom', 9),\n",
       " ('chriswallaceisajoke', 9),\n",
       " ('putinspuppet', 9),\n",
       " ('ترامب', 9),\n",
       " ('ccp', 9),\n",
       " ('ccot', 9),\n",
       " ('putin', 9),\n",
       " ('nevertrump', 9),\n",
       " ('chinavirus', 9),\n",
       " ('fourmoreyears', 9),\n",
       " ('whitehouse', 9),\n",
       " ('lockhimup', 9),\n",
       " ('american', 9),\n",
       " ('bidenwired', 9),\n",
       " ('lockupivanka', 9),\n",
       " ('democratsarecorrupt', 9),\n",
       " ('thefive', 9),\n",
       " ('duluth', 9),\n",
       " ('wethepeople', 9),\n",
       " ('dementiajoe', 9),\n",
       " ('restartleader', 9),\n",
       " ('nbafinals', 9),\n",
       " ('benghazi', 9),\n",
       " ('gymjordanknew', 8),\n",
       " ('mueller', 8),\n",
       " ('trumpchaos', 8),\n",
       " ('liberalismisamentaldisorder', 8),\n",
       " ('foxandfriends', 8),\n",
       " ('miga', 8),\n",
       " ('telemundo', 8),\n",
       " ('iowa', 8),\n",
       " ('pr', 8),\n",
       " ('2020trumplandslide', 8),\n",
       " ('1stdebate', 8),\n",
       " ('russia', 8),\n",
       " ('bluewave2020', 8),\n",
       " ('ettd', 8),\n",
       " ('losertrump', 8),\n",
       " ('democracy', 8),\n",
       " ('lakeshow', 8),\n",
       " ('ccpvirus', 8),\n",
       " ('proud', 8),\n",
       " ('hydroxychloroquine', 8),\n",
       " ('2oct', 8),\n",
       " ('truckers4trump', 7),\n",
       " ('trum', 7),\n",
       " ('cleveland', 7),\n",
       " ('stopthesteal', 7),\n",
       " ('pridefamily', 7),\n",
       " ('trumpisafraud', 7),\n",
       " ('uspresidentialdebate', 7),\n",
       " ('d', 7),\n",
       " ('debateover', 7),\n",
       " ('demcast', 7),\n",
       " ('factsmatter', 7),\n",
       " ('elections', 7),\n",
       " ('poll', 7),\n",
       " ('realdonaldtrump', 7),\n",
       " ('debat', 7),\n",
       " ('latinos', 7),\n",
       " ('bidencrimefamily', 7),\n",
       " ('thegreatawakening', 7),\n",
       " ('lawandorder', 7),\n",
       " ('trumpisnotwell', 7),\n",
       " ('rbg', 7),\n",
       " ('voteready', 7),\n",
       " ('americasgreatestmistake', 7),\n",
       " ('facebook', 7),\n",
       " ('ukraine', 7),\n",
       " ('racism', 7),\n",
       " ('michigan', 7),\n",
       " ('iran', 7),\n",
       " ('bide', 7),\n",
       " ('azerbaijan', 7),\n",
       " ('たつのこ', 7),\n",
       " ('loser', 7),\n",
       " ('lyingbiden', 7),\n",
       " ('fakepresident', 7),\n",
       " ('trumpisawhitesupremacist', 7),\n",
       " ('bluewave', 7),\n",
       " ('patriot', 7),\n",
       " ('delaware', 7),\n",
       " ('opiniaonoar', 7),\n",
       " ('deepstate', 7),\n",
       " ('trumpisarapist', 7),\n",
       " ('comey', 7),\n",
       " ('pandemic', 7),\n",
       " ('putinspuppetgoneadderall', 7),\n",
       " ('goptrumpstainwillneverleave', 7),\n",
       " ('randomthoughts', 7),\n",
       " ('gotv', 7),\n",
       " ('obstructionofjustice', 7),\n",
       " ('me', 7),\n",
       " ('melaniahateschristmas', 7),\n",
       " ('flotus', 7),\n",
       " ('domesticvio', 7),\n",
       " ('crookedhillary', 6),\n",
       " ('elecciones2020', 6),\n",
       " ('joebidenkamalaharris2020', 6),\n",
       " ('empathy', 6),\n",
       " ('2020presidentialdebate', 6),\n",
       " ('creepyjoebiden', 6),\n",
       " ('trumptaxcheat', 6),\n",
       " ('debates2', 6),\n",
       " ('onev1', 6),\n",
       " ('beijingbiden', 6),\n",
       " ('wallace', 6),\n",
       " ('trumplied200kdied', 6),\n",
       " ('worstpresidentinhistory', 6),\n",
       " ('russianbountiesonourtroops', 6),\n",
       " ('nomoredebates', 6),\n",
       " ('cdnpoli', 6),\n",
       " ('russiahoax', 6),\n",
       " ('putinspuppy', 6),\n",
       " ('metoo', 6),\n",
       " ('votebiden', 6),\n",
       " ('stablegenius', 6),\n",
       " ('antifaterrorists', 6),\n",
       " ('chinajoe', 6),\n",
       " ('bidenwondebate', 6),\n",
       " ('presidential', 6),\n",
       " ('trumpisanationalsecuritythreat', 6),\n",
       " ('standdownandstandby', 6),\n",
       " ('teamh', 6),\n",
       " ('truthmatters', 6),\n",
       " ('liar', 6),\n",
       " ('uk', 6),\n",
       " ('trumpcrimefamilyforprison', 6),\n",
       " ('moscowmitch', 6),\n",
       " ('proudboysstandby', 6),\n",
       " ('maga2020landslidevictory', 6),\n",
       " ('blackpink', 6),\n",
       " ('trumpracist', 6),\n",
       " ('acb', 6),\n",
       " ('blmisaterroristorganization', 6),\n",
       " ('womenfortrump', 6),\n",
       " ('votebymail', 6),\n",
       " ('apfactcheck', 6),\n",
       " ('sleepyjoebiden', 6),\n",
       " ('bidencoalition', 6),\n",
       " ('trumpcoupplot', 6),\n",
       " ('3', 6),\n",
       " ('trumplieseverytimehespeaks', 6),\n",
       " ('proudboy', 6),\n",
       " ('deadlinewh', 6),\n",
       " ('floridafortrump', 6),\n",
       " ('tru', 6),\n",
       " ('erictrump', 6),\n",
       " ('cuba', 6),\n",
       " ('thereidout', 6),\n",
       " ('hannity', 6),\n",
       " ('gopbetrayedamerica', 6),\n",
       " ('trumptaxfraud', 6),\n",
       " ('imanvellani', 6),\n",
       " ('covidiots', 6),\n",
       " ('artsakh', 6),\n",
       " ('icymi', 6),\n",
       " ('trumplandslidevictory2020', 6),\n",
       " ('tbt', 6),\n",
       " ('fullmoon', 6),\n",
       " ('walterreed', 6),\n",
       " ('trumph', 6),\n",
       " ('ท', 6),\n",
       " ('4moreears', 6),\n",
       " ('fridaymorning', 6),\n",
       " ('ultimahora', 6),\n",
       " ('fridayfeeling', 6),\n",
       " ('fridayvibes', 6),\n",
       " ('magastrong', 6),\n",
       " ('kidvicious', 5),\n",
       " ('whatunitesus', 5),\n",
       " ('mundo', 5),\n",
       " ('internacional', 5),\n",
       " ('canada', 5),\n",
       " ('envideo', 5),\n",
       " ('vot', 5),\n",
       " ('gotrump', 5),\n",
       " ('leadright', 5),\n",
       " ('votered2020removeeverydemocrat', 5),\n",
       " ('teamjoe', 5),\n",
       " ('joebiden2020', 5),\n",
       " ('live', 5),\n",
       " ('b', 5),\n",
       " ('trumptrainwreck', 5),\n",
       " ('shitshow', 5),\n",
       " ('voterfraudisreal', 5),\n",
       " ('trumplied200kamericansdied', 5),\n",
       " ('danbongino', 5),\n",
       " ('hace4años', 5),\n",
       " ('jobsreport', 5),\n",
       " ('auspol', 5),\n",
       " ('redpill', 5),\n",
       " ('vote2020', 5),\n",
       " ('wednesdaythoughts', 5),\n",
       " ('macron', 5),\n",
       " ('noticias', 5),\n",
       " ('trumpwondebate', 5),\n",
       " ('rt', 5),\n",
       " ('bidenlies', 5),\n",
       " ('btsweek', 5),\n",
       " ('nigeria', 5),\n",
       " ('atlanta', 5),\n",
       " ('fact', 5),\n",
       " ('arizona', 5),\n",
       " ('freecoco', 5),\n",
       " ('みかじ絵', 5),\n",
       " ('桐生ココ', 5),\n",
       " ('桐生ココへのペナルティ撤回せよ', 5),\n",
       " ('amongus', 5),\n",
       " ('executiveorder', 5),\n",
       " ('2020', 5),\n",
       " ('lyinbiden', 5),\n",
       " ('preexistingconditions', 5),\n",
       " ('wiredjoe', 5),\n",
       " ('cult45', 5),\n",
       " ('turnnyred', 5),\n",
       " ('worstpresidentever', 5),\n",
       " ('lindseyfor', 5),\n",
       " ('demvoice1', 5),\n",
       " ('terrorist', 5),\n",
       " ('crypto', 5),\n",
       " ('assange', 5),\n",
       " ('pence', 5),\n",
       " ('bestpresidentever', 5),\n",
       " ('msmarvel', 5),\n",
       " ('fakenewsmediaclowns', 5),\n",
       " ('covidiot', 5),\n",
       " ('tedcruz', 5),\n",
       " ('bestpresidentever45', 5),\n",
       " ('trumplostthedebate', 5),\n",
       " ('trumpis', 5),\n",
       " ('1a', 5),\n",
       " ('military', 5),\n",
       " ('blexit', 5),\n",
       " ('qanon2020', 5),\n",
       " ('kyle', 5),\n",
       " ('mnrally', 5),\n",
       " ('christian', 5),\n",
       " ('resign', 5),\n",
       " ('trumpdementiasyndrome', 5),\n",
       " ('truckersfortrump', 5),\n",
       " ('republicanparty', 5),\n",
       " ('robertbyrd', 5),\n",
       " ('liberals', 5),\n",
       " ('artsakhstrong', 5),\n",
       " ('steunsimmons', 5),\n",
       " ('socialists', 5),\n",
       " ('october1st', 5),\n",
       " ('thursdaythoughts', 5),\n",
       " ('cdc', 5),\n",
       " ('sondakika', 5),\n",
       " ('creepyuncle', 5),\n",
       " ('imvotingfor', 5),\n",
       " ('trumppatriots', 5),\n",
       " ('johnroberts', 5),\n",
       " ('crossfirehurricane', 5),\n",
       " ('quarantine', 5),\n",
       " ('trumphascov', 5),\n",
       " ('trumphascovid19', 5),\n",
       " ('godblessamerica', 5),\n",
       " ('weloveyoutrump', 5),\n",
       " ('teamjustice', 5),\n",
       " ('steady', 5),\n",
       " ('95minutesintrumpsamerica', 5),\n",
       " ('trumptrain2020', 4),\n",
       " ('aag', 4),\n",
       " ('aag2020', 4),\n",
       " ('hawkins', 4),\n",
       " ('jorgensen', 4),\n",
       " ('yacpolls', 4),\n",
       " ('nyt', 4),\n",
       " ('stoptrumpselectiontheft', 4),\n",
       " ('billbarr', 4),\n",
       " ('aca', 4),\n",
       " ('letherspeak', 4),\n",
       " ('fakedebates', 4),\n",
       " ('health', 4),\n",
       " ('pridenews1', 4),\n",
       " ('debates202', 4),\n",
       " ('taxfraudtrump', 4),\n",
       " ('2020nojoke', 4),\n",
       " ('healthcare', 4),\n",
       " ('gojoe', 4),\n",
       " ('byedon2020', 4),\n",
       " ('hidinbiden', 4),\n",
       " ('nytimes', 4),\n",
       " ('bidencalm', 4),\n",
       " ('riggedelection', 4),\n",
       " ('fbi', 4),\n",
       " ('hillary', 4),\n",
       " ('uspoli', 4),\n",
       " ('obamabidengate', 4),\n",
       " ('gitmo', 4),\n",
       " ('bidentherapist', 4),\n",
       " ('president', 4),\n",
       " ('donaldtrum', 4),\n",
       " ('saveourchildren', 4),\n",
       " ('decision2020', 4),\n",
       " ('republicansaredestroyingamerica', 4),\n",
       " ('congress', 4),\n",
       " ('hongkong', 4),\n",
       " ('debatehk', 4),\n",
       " ('débat', 4),\n",
       " ('borisjohnson', 4),\n",
       " ('schoolsreop', 4),\n",
       " ('medicareforall', 4),\n",
       " ('trending', 4),\n",
       " ('f', 4),\n",
       " ('eurusd', 4),\n",
       " ('restart_opposition', 4),\n",
       " ('beatthecheat', 4),\n",
       " ('biafra', 4),\n",
       " ('blacksfortrump', 4),\n",
       " ('biafrans', 4),\n",
       " ('trmp', 4),\n",
       " ('trump2', 4),\n",
       " ('lockherup', 4),\n",
       " ('loveisnottourism', 4),\n",
       " ('india', 4),\n",
       " ('asacoco', 4),\n",
       " ('たつのこより会長に愛を込めて', 4),\n",
       " ('votelikeyourlifedependsonit', 4),\n",
       " ('firstpresidentialdebate', 4),\n",
       " ('joementia', 4),\n",
       " ('chriswallacethehack', 4),\n",
       " ('buildbackbetter', 4),\n",
       " ('moderator', 4),\n",
       " ('spittingimage', 4),\n",
       " ('trumplost', 4),\n",
       " ('whitesupremacistinchief', 4),\n",
       " ('fakenewschriswallacesavedjoe', 4),\n",
       " ('boycottchriswallace', 4),\n",
       " ('aviation', 4),\n",
       " ('nobelpeaceprize', 4),\n",
       " ('europe', 4),\n",
       " ('saveourdemocracy', 4),\n",
       " ('flipthesenateblue', 4),\n",
       " ('lies', 4),\n",
       " ('donaldjtrump', 4),\n",
       " ('standdownstandby', 4),\n",
       " ('southcarolina', 4),\n",
       " ('treason', 4),\n",
       " ('mailinballots', 4),\n",
       " ('bernie', 4),\n",
       " ('traitor', 4),\n",
       " ('fascism', 4),\n",
       " ('trumpisnotabillionaire', 4),\n",
       " ('scsen', 4),\n",
       " ('facts', 4),\n",
       " ('kiryucoco', 4),\n",
       " ('turkey', 4),\n",
       " ('voteinperson2020', 4),\n",
       " ('badthingshappeninphilly', 4),\n",
       " ('usdebate', 4),\n",
       " ('jamescomey', 4),\n",
       " ('u', 4),\n",
       " ('pu', 4),\n",
       " ('r', 4),\n",
       " ('superspreader', 4),\n",
       " ('wiredbiden', 4),\n",
       " ('votered2020', 4),\n",
       " ('lalate', 4),\n",
       " ('woke', 4),\n",
       " ('bidenisaracist', 4),\n",
       " ('resisters', 4),\n",
       " ('creepyjoe', 4),\n",
       " ('cnnsotu', 4),\n",
       " ('clinton', 4),\n",
       " ('gtcblue', 4),\n",
       " ('americafi', 4),\n",
       " ('trumpsamerica', 4),\n",
       " ('antifajoe', 4),\n",
       " ('countryoverparty', 4),\n",
       " ('keepameri', 4),\n",
       " ('filltheseat', 4),\n",
       " ('entérate', 4),\n",
       " ('billgates', 4),\n",
       " ('hunter', 4),\n",
       " ('com', 4),\n",
       " ('godblesspresidenttrump', 4),\n",
       " ('israel', 4),\n",
       " ('turnitallblue', 4),\n",
       " ('digitalsoldier', 4),\n",
       " ('idiotinchief', 4),\n",
       " ('mailinvoting', 4),\n",
       " ('ournhs', 4),\n",
       " ('covid__19', 4),\n",
       " ('armenia', 4),\n",
       " ('neverbiden', 4),\n",
       " ('thursdaymorning', 4),\n",
       " ('theresistance', 4),\n",
       " ('hope', 4),\n",
       " ('abortion', 4),\n",
       " ('love', 4),\n",
       " ('ronaldreagan', 4),\n",
       " ('trumpcrimefamily_lockthemallup', 4),\n",
       " ('we', 4),\n",
       " ('trumpisamassmurderer', 4),\n",
       " ('trumpvirusdeathtoll210k', 4),\n",
       " ('kda', 4),\n",
       " ('thebad', 4),\n",
       " ('veteransagainsttrump', 4),\n",
       " ('dictatortrump', 4),\n",
       " ('pray', 4),\n",
       " ('adamschiff', 4),\n",
       " ('morons', 4),\n",
       " ('follo', 4),\n",
       " ('checkmate', 4),\n",
       " ('teenvote2020', 4),\n",
       " ('thebestisyettocome', 4),\n",
       " ('lincolnvoter', 4),\n",
       " ('hollyweird', 4),\n",
       " ('democratsareracist', 4),\n",
       " ('texasvotersuppression', 4),\n",
       " ('mikepence', 4),\n",
       " ('thealbum', 4),\n",
       " ('rona', 4),\n",
       " ('bidensf', 4),\n",
       " ('melaniatrumptapes', 4),\n",
       " ('bebestmyass', 4),\n",
       " ('g1', 4),\n",
       " ('hayirlicumalar', 4),\n",
       " ('trumptestspositive', 4),\n",
       " ('octobersurprise', 4),\n",
       " ('fridaymotivation', 4),\n",
       " ('karmafortrump', 4),\n",
       " ('dalitlivesmatter', 4),\n",
       " ('firstlady', 4),\n",
       " ('welovetrump', 4),\n",
       " ('sistemapetroinmobiliario', 4),\n",
       " ('white', 3),\n",
       " ('taxes', 3),\n",
       " ('irs', 3),\n",
       " ('bidenvstrump', 3),\n",
       " ('taxreturns', 3),\n",
       " ('primerdebate', 3),\n",
       " ('redwave2020', 3),\n",
       " ('byedon', 3),\n",
       " ('retweet', 3),\n",
       " ('トランプ大統領', 3),\n",
       " ('kamalaharrisvp', 3),\n",
       " ('maga2020landslide', 3),\n",
       " ('movetrumpout', 3),\n",
       " ('wtf', 3),\n",
       " ('letherdebate', 3),\n",
       " ('trump2020victory', 3),\n",
       " ('quidproquojoe', 3),\n",
       " ('moscowhunter', 3),\n",
       " ('votejoe', 3),\n",
       " ('mrpresident', 3),\n",
       " ('trumpvsbiden2020', 3),\n",
       " ('electionfraud', 3),\n",
       " ('factchecking', 3),\n",
       " ('nothingcanstopwhatiscoming', 3),\n",
       " ('cia', 3),\n",
       " ('harris', 3),\n",
       " ('socialismkills', 3),\n",
       " ('electionday', 3),\n",
       " ('firewraynow', 3),\n",
       " ('8217', 3),\n",
       " ('joewonthedebate', 3),\n",
       " ('uspolitics', 3),\n",
       " ('bi', 3),\n",
       " ('joepayshistaxes', 3),\n",
       " ('trumpdestroysdemocracy', 3),\n",
       " ('romneygardnerladygallspinelessliars', 3),\n",
       " ('thegopisdead', 3),\n",
       " ('presidentbiden', 3),\n",
       " ('pedojoebiden', 3),\n",
       " ('ther', 3),\n",
       " ('maddow', 3),\n",
       " ('quidprojoe', 3),\n",
       " ('magats', 3),\n",
       " ('आत', 3),\n",
       " ('wednesdaymorning', 3),\n",
       " ('november3rd', 3),\n",
       " ('ccpchina', 3),\n",
       " ('digitalsoldiers', 3),\n",
       " ('bodylanguage', 3),\n",
       " ('fakeheadlinebot', 3),\n",
       " ('learntocode', 3),\n",
       " ('makeatwitterbot', 3),\n",
       " ('29sep', 3),\n",
       " ('presidentialdeba', 3),\n",
       " ('world', 3),\n",
       " ('s386', 3),\n",
       " ('blmantifaterroriststhugs', 3),\n",
       " ('voteforamerica', 3),\n",
       " ('cheat', 3),\n",
       " ('trumpisabusive', 3),\n",
       " ('trumpisanabuser', 3),\n",
       " ('r2p', 3),\n",
       " ('england', 3),\n",
       " ('ue', 3),\n",
       " ('people', 3),\n",
       " ('epstein', 3),\n",
       " ('barackobama', 3),\n",
       " ('tinakaggia', 3),\n",
       " ('logo', 3),\n",
       " ('twitter', 3),\n",
       " ('uselection2020', 3),\n",
       " ('usa2020', 3),\n",
       " ('trumpisunfit', 3),\n",
       " ('portland', 3),\n",
       " ('votejoebiden2020', 3),\n",
       " ('antifaisjustanidea', 3),\n",
       " ('s', 3),\n",
       " ('trumpspupils', 3),\n",
       " ('newyork', 3),\n",
       " ('miami', 3),\n",
       " ('c4news', 3),\n",
       " ('uselections', 3),\n",
       " ('unfittobepr', 3),\n",
       " ('nagornokarabakh', 3),\n",
       " ('joe', 3),\n",
       " ('meltdown', 3),\n",
       " ('bfl', 3),\n",
       " ('bidnmobtrmpjob', 3),\n",
       " ('borat', 3),\n",
       " ('notmeus', 3),\n",
       " ('standbackandstandby', 3),\n",
       " ('bidensuc', 3),\n",
       " ('maine', 3),\n",
       " ('nevada', 3),\n",
       " ('pittsburgh', 3),\n",
       " ('bolsonaro', 3),\n",
       " ('voters', 3),\n",
       " ('hate', 3),\n",
       " ('桐生会', 3),\n",
       " ('savecoco', 3),\n",
       " ('proudboysusa', 3),\n",
       " ('deplorables', 3),\n",
       " ('prolifevoicesfortrump', 3),\n",
       " ('veterans', 3),\n",
       " ('trumpobiden', 3),\n",
       " ('thebigapplewillvotefortrump', 3),\n",
       " ('votebluenomatterwho', 3),\n",
       " ('conservative', 3),\n",
       " ('boycottfoxnewssunday', 3),\n",
       " ('frontline', 3),\n",
       " ('pres', 3),\n",
       " ('trumpwon', 3),\n",
       " ('urgente', 3),\n",
       " ('drainthedeepstateswamp', 3),\n",
       " ('inshallah', 3),\n",
       " ('debate20', 3),\n",
       " ('yourvotematters', 3),\n",
       " ('joebidenistheswamp', 3),\n",
       " ('liberal', 3),\n",
       " ('dumbdonald', 3),\n",
       " ('obamagateisreal', 3),\n",
       " ('onlyfans', 3),\n",
       " ('joewon', 3),\n",
       " ('btc', 3),\n",
       " ('votehi', 3),\n",
       " ('tcot', 3),\n",
       " ('chicago', 3),\n",
       " ('conservatives', 3),\n",
       " ('jamalkhashoggi', 3),\n",
       " ('amazon', 3),\n",
       " ('fauci', 3),\n",
       " ('obamagate_treason', 3),\n",
       " ('lindseygrahamislosing', 3),\n",
       " ('democracyoverfascism', 3),\n",
       " ('design', 3),\n",
       " ('karabakh', 3),\n",
       " ('stopazerbaijaniaggression', 3),\n",
       " ('bluetsunami2020', 3),\n",
       " ('traitorssupporttraitortrump', 3),\n",
       " ('alllivesmatter', 3),\n",
       " ('hololive', 3),\n",
       " ('ホロライブ', 3),\n",
       " ('flynn', 3),\n",
       " ('bidenisapedo', 3),\n",
       " ('30sep', 3),\n",
       " ('opportunist', 3),\n",
       " ('votedemsout', 3),\n",
       " ('failedpresident', 3),\n",
       " ('bradparscale', 3),\n",
       " ('katieporter', 3),\n",
       " ('trumphasnoplan', 3),\n",
       " ('trumpresignnow', 3),\n",
       " ('hillaryclinton', 3),\n",
       " ('trumphateso', 3),\n",
       " ('venezuela', 3),\n",
       " ('trumpwonthedebate', 3),\n",
       " ('fox', 3),\n",
       " ('nhpolitics', 3),\n",
       " ('votebluetosaveourdemocracy', 3),\n",
       " ('cspanpoll', 3),\n",
       " ('schoolchoice', 3),\n",
       " ('ditchmitch2020', 3),\n",
       " ('unitednotdivided', 3),\n",
       " ('trumpforprison', 3),\n",
       " ('kag2020landslidevictory', 3),\n",
       " ('fillthatseat', 3),\n",
       " ('wiredup', 3),\n",
       " ('nudist', 3),\n",
       " ('publichealth', 3),\n",
       " ('kylerittenhouseisinnocent', 3),\n",
       " ('criticalracetheory', 3),\n",
       " ('jesus', 3),\n",
       " ('trump2020l', 3),\n",
       " ('pennsylvan', 3),\n",
       " ('1351', 3),\n",
       " ('outofcontrol', 3),\n",
       " ('fiverr', 3),\n",
       " ('amyklobuchar', 3),\n",
       " ('amyklobuhar', 3),\n",
       " ('nomoreofthat', 3),\n",
       " ('getoutthevote', 3),\n",
       " ('courtpacking', 3),\n",
       " ('acbforscotus', 3),\n",
       " ('liars', 3),\n",
       " ('weaponizedprojection', 3),\n",
       " ('mitchmcconnell', 3),\n",
       " ('ad', 3),\n",
       " ('getyabootytot', 3),\n",
       " ('trumpisafraidofovaries', 3),\n",
       " ('faken', 3),\n",
       " ('hypocritecomplicitcow', 3),\n",
       " ('2a', 3),\n",
       " ('lundin', 3),\n",
       " ('25thamendment', 3),\n",
       " ('chavismoresistenciaylealtad', 3),\n",
       " ('chavismore', 3),\n",
       " ('trumpflu', 3),\n",
       " ('joebidenisaracist', 3),\n",
       " ('god', 3),\n",
       " ('trumpde', 3),\n",
       " ('thursdaymotivation', 3),\n",
       " ('jobs', 3),\n",
       " ('azerbaijaniaggression', 3),\n",
       " ('patriots', 3),\n",
       " ('trumpfailedamerica', 3),\n",
       " ('badahbing', 3),\n",
       " ('badahboom', 3),\n",
       " ('voting', 3),\n",
       " ('enoughisenough', 3),\n",
       " ('wtpblue', 3),\n",
       " ('putthatinyourpipe', 3),\n",
       " ('whereishunter', 3),\n",
       " ('joementum', 3),\n",
       " ('keep', 3),\n",
       " ('deepstatethugs', 3),\n",
       " ('ginahaspel', 3),\n",
       " ('trumppressconference', 3),\n",
       " ('tennesseestyle', 3),\n",
       " ('wwg1gwa', 3),\n",
       " ('tedcruzhasnoballs', 3),\n",
       " ('trumpviruscatastrophe', 3),\n",
       " ('climatechange', 3),\n",
       " ('enemyofthepeople', 3),\n",
       " ('masks', 3),\n",
       " ('cleanitup', 3),\n",
       " ('rnc', 3),\n",
       " ('army', 3),\n",
       " ('ralphreed', 3),\n",
       " ('faithandfreedo', 3),\n",
       " ('notsmart', 3),\n",
       " ('patriotsunited4donaldtrump', 3),\n",
       " ('pelosimustgo', 3),\n",
       " ('trumplandslide', 3),\n",
       " ('usps', 3),\n",
       " ('greatawakening', 3),\n",
       " ('hito3millones200mil', 3),\n",
       " ('utpol', 3),\n",
       " ('firesusan', 3),\n",
       " ('marxists', 3),\n",
       " ('misinformation', 3),\n",
       " ('darktolight', 3),\n",
       " ('25thamendmentnow', 3),\n",
       " ('a', 3),\n",
       " ('refusefascism', 3),\n",
       " ('eua', 3),\n",
       " ('lorilightfoot', 3),\n",
       " ('kickoutthewhsquatter', 3),\n",
       " ('patriotsunited', 3),\n",
       " ('democ', 3),\n",
       " ('v', 3),\n",
       " ('trumpvirusdeathtoll211k', 3),\n",
       " ('ampfest20', 3),\n",
       " ('lovesickgirls', 3),\n",
       " ('hickshasthehoax', 3),\n",
       " ('waronchristmas', 3),\n",
       " ('epitwitter', 3),\n",
       " ('lookoverthere', 3),\n",
       " ('elb', 3),\n",
       " ('update', 3),\n",
       " ('simpsons', 3),\n",
       " ('schadenfreude', 3),\n",
       " ('fridaythoughts', 3),\n",
       " ('azt', 3),\n",
       " ('pro', 3),\n",
       " ('protests', 3),\n",
       " ('wearamasksavealife', 3),\n",
       " ('hypocrite', 3),\n",
       " ('كورونا', 3),\n",
       " ('thoughtsandprayers', 3),\n",
       " ('estadosunidos', 3),\n",
       " ('cooperativaencasa', 3),\n",
       " ('stephanierhule', 3),\n",
       " ('flashbackfriday', 3),\n",
       " ('pandemia', 3),\n",
       " ('licra', 3),\n",
       " ('prayforthepresident', 3),\n",
       " ('leftists', 3),\n",
       " ('varneyco', 2),\n",
       " ('jornaldarecord', 2),\n",
       " ('jr24h', 2),\n",
       " ('senate', 2),\n",
       " ('windivisible', 2),\n",
       " ('votethemallout2020', 2),\n",
       " ('biafrafreedom', 2),\n",
       " ('presiden', 2),\n",
       " ('hallelujah', 2),\n",
       " ('supernecessary', 2),\n",
       " ('jojorgensen2020', 2),\n",
       " ('votegold2020', 2),\n",
       " ('debatedrinkinggame', 2),\n",
       " ('backtobluepa', 2),\n",
       " ('justsayin', 2),\n",
       " ('trumpliesmatter', 2),\n",
       " ('malignantnarcissist', 2),\n",
       " ('cripthevote', 2),\n",
       " ('foxfakenews', 2),\n",
       " ('tuesdaydebate', 2),\n",
       " ('orangeidiot', 2),\n",
       " ('factcheckthis', 2),\n",
       " ('marketing', 2),\n",
       " ('socialmedia', 2),\n",
       " ('demonrats', 2),\n",
       " ('tds', 2),\n",
       " ('shutuptrump', 2),\n",
       " ('trumpisanidiot', 2),\n",
       " ('hamsa', 2),\n",
       " ('justice', 2),\n",
       " ('defundthepolice', 2),\n",
       " ('ag', 2),\n",
       " ...]"
      ]
     },
     "execution_count": 93,
     "metadata": {},
     "output_type": "execute_result"
    }
   ],
   "source": [
    "full_text_hastags_dict_sorted = sorted(full_text_hastags_dict.items()\n",
    "                                       , key=lambda kv: kv[1]\n",
    "                                       , reverse=True\n",
    "                                      )\n",
    "full_text_hastags_dict_sorted"
   ]
  },
  {
   "cell_type": "code",
   "execution_count": 94,
   "metadata": {
    "scrolled": true
   },
   "outputs": [
    {
     "data": {
      "text/plain": [
       "[('debates2020', 2085),\n",
       " ('trump', 675),\n",
       " ('covid19', 511),\n",
       " ('trump2020', 493),\n",
       " ('trumphascovid', 470),\n",
       " ('maga', 428),\n",
       " ('vote', 350),\n",
       " ('presidentialdebate', 307),\n",
       " ('biden', 281),\n",
       " ('debates', 266),\n",
       " ('joebiden', 200),\n",
       " ('bidenwonthedebate', 197),\n",
       " ('bidenharris2020', 183),\n",
       " ('debate2020', 181),\n",
       " ('presidentialdebate2020', 173),\n",
       " ('trumpmeltdown', 163),\n",
       " ('debate', 156),\n",
       " ('donaldtrump', 150),\n",
       " ('chriswallace', 143),\n",
       " ('trumpisaracist', 127)]"
      ]
     },
     "execution_count": 94,
     "metadata": {},
     "output_type": "execute_result"
    }
   ],
   "source": [
    "full_text_hastags_dict_sorted[:20]"
   ]
  },
  {
   "cell_type": "code",
   "execution_count": null,
   "metadata": {},
   "outputs": [],
   "source": []
  }
 ],
 "metadata": {
  "kernelspec": {
   "display_name": "Python 3",
   "language": "python",
   "name": "python3"
  },
  "language_info": {
   "codemirror_mode": {
    "name": "ipython",
    "version": 3
   },
   "file_extension": ".py",
   "mimetype": "text/x-python",
   "name": "python",
   "nbconvert_exporter": "python",
   "pygments_lexer": "ipython3",
   "version": "3.8.5"
  }
 },
 "nbformat": 4,
 "nbformat_minor": 4
}
