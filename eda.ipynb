{
 "cells": [
  {
   "cell_type": "code",
   "execution_count": 1,
   "metadata": {},
   "outputs": [],
   "source": [
    "import json\n",
    "import pandas as pd\n",
    "import matplotlib.pyplot as plt\n",
    "plt.style.use('fivethirtyeight')"
   ]
  },
  {
   "cell_type": "markdown",
   "metadata": {},
   "source": [
    "## Create Shortened DataFrame"
   ]
  },
  {
   "cell_type": "code",
   "execution_count": 2,
   "metadata": {},
   "outputs": [
    {
     "name": "stdout",
     "output_type": "stream",
     "text": [
      "Used Columns Are Present: True\n"
     ]
    }
   ],
   "source": [
    "# Load Data...\n",
    "data = [json.loads(line) for line in open(\"./data/data.jsonl\", 'r', encoding='utf-8')]\n",
    "df = pd.DataFrame(data)\n",
    "\n",
    "\n",
    "### Create Summary DataFrame for Reference\n",
    "# Create list for columns used, 1 for used feature, 0 for not used feature\n",
    "use = [1      # created_at\n",
    "       , 0    # id\n",
    "       , 1    # id_str\n",
    "       , 1    # full_text\n",
    "       , 0    # truncated\n",
    "       , 1    # display_text_range\n",
    "       , 1    # entities\n",
    "       , 1    # source\n",
    "       , 0    # in_reply_to_status_id\n",
    "       , 0    # in_reply_to_status_id_str\n",
    "       , 0    # in_reply_to_user_id\n",
    "       , 0    # in_reply_to_user_id_str\n",
    "       , 0    # in_reply_to_screen_name\n",
    "       , 1    # user\n",
    "       , 0    # geo \n",
    "       , 0    # coordinates\n",
    "       , 0    # place (maybe)\n",
    "       , 0    # contributors\n",
    "       , 1    # is_quote_status\n",
    "       , 0    # quoted_status_id \n",
    "       , 0    # quoted_status_id_str \n",
    "       , 0    # quoted_status_permalink\n",
    "       , 0    # quoted_status (maybe)\n",
    "       , 1    # retweet_count \n",
    "       , 1    # favorite_count\n",
    "       , 0    # favorited\n",
    "       , 0    # retweeted\n",
    "       , 1    # possibly_sensitive \n",
    "       , 1    # lang\n",
    "       , 1    # retweeted_status\n",
    "       , 0    # extended_entities (maybe)\n",
    "       , 0    # withheld_in_countries\n",
    "       ]\n",
    "\n",
    "# Create a dictionary with summary information\n",
    "dict_ = {'feature': list(df.columns)\n",
    "         , 'nulls': df.isna().sum().values\n",
    "         , 'non_nulls': df.notnull().sum().values\n",
    "         , 'use': use\n",
    "        }\n",
    "summary_df = pd.DataFrame(dict_)\n",
    "\n",
    "\n",
    "### Shorten Columns\n",
    "# create a list of dropped column names\n",
    "drop_col = list(summary_df.feature[summary_df.use !=1])\n",
    "\n",
    "# create a df_short dataframe with only the columns we need\n",
    "df = df.drop(columns = drop_col)\n",
    "\n",
    "# create a list of kept column names\n",
    "use_col = list(summary_df.feature[summary_df.use==1])\n",
    "\n",
    "# verify used columns are present\n",
    "print(f'Used Columns Are Present: {use_col == list(df.columns)}')\n",
    "\n",
    "# create datetime column\n",
    "df['datetime'] = pd.to_datetime(df.created_at)\n",
    "\n",
    "# drop created_at\n",
    "df.drop('created_at'\n",
    "        , axis=1\n",
    "        , inplace=True\n",
    "       )"
   ]
  },
  {
   "cell_type": "code",
   "execution_count": 3,
   "metadata": {},
   "outputs": [
    {
     "data": {
      "text/html": [
       "<div>\n",
       "<style scoped>\n",
       "    .dataframe tbody tr th:only-of-type {\n",
       "        vertical-align: middle;\n",
       "    }\n",
       "\n",
       "    .dataframe tbody tr th {\n",
       "        vertical-align: top;\n",
       "    }\n",
       "\n",
       "    .dataframe thead th {\n",
       "        text-align: right;\n",
       "    }\n",
       "</style>\n",
       "<table border=\"1\" class=\"dataframe\">\n",
       "  <thead>\n",
       "    <tr style=\"text-align: right;\">\n",
       "      <th></th>\n",
       "      <th>id_str</th>\n",
       "      <th>full_text</th>\n",
       "      <th>display_text_range</th>\n",
       "      <th>entities</th>\n",
       "      <th>source</th>\n",
       "      <th>user</th>\n",
       "      <th>is_quote_status</th>\n",
       "      <th>retweet_count</th>\n",
       "      <th>favorite_count</th>\n",
       "      <th>possibly_sensitive</th>\n",
       "      <th>lang</th>\n",
       "      <th>retweeted_status</th>\n",
       "      <th>datetime</th>\n",
       "    </tr>\n",
       "  </thead>\n",
       "  <tbody>\n",
       "    <tr>\n",
       "      <th>0</th>\n",
       "      <td>1311093385688735744</td>\n",
       "      <td>Biden a professional debater??  Hardly!! More ...</td>\n",
       "      <td>[0, 71]</td>\n",
       "      <td>{'hashtags': [], 'symbols': [], 'user_mentions...</td>\n",
       "      <td>&lt;a href=\"https://mobile.twitter.com\" rel=\"nofo...</td>\n",
       "      <td>{'id': 117904481, 'id_str': '117904481', 'name...</td>\n",
       "      <td>True</td>\n",
       "      <td>0</td>\n",
       "      <td>0</td>\n",
       "      <td>False</td>\n",
       "      <td>en</td>\n",
       "      <td>NaN</td>\n",
       "      <td>2020-09-29 23:59:56+00:00</td>\n",
       "    </tr>\n",
       "    <tr>\n",
       "      <th>1</th>\n",
       "      <td>1311093394400333824</td>\n",
       "      <td>RT @DarDar458: #PresidentialDebate #Debates202...</td>\n",
       "      <td>[0, 73]</td>\n",
       "      <td>{'hashtags': [{'text': 'PresidentialDebate', '...</td>\n",
       "      <td>&lt;a href=\"http://twitter.com/download/iphone\" r...</td>\n",
       "      <td>{'id': 30140760, 'id_str': '30140760', 'name':...</td>\n",
       "      <td>True</td>\n",
       "      <td>1</td>\n",
       "      <td>0</td>\n",
       "      <td>NaN</td>\n",
       "      <td>und</td>\n",
       "      <td>{'created_at': 'Tue Sep 29 23:55:42 +0000 2020...</td>\n",
       "      <td>2020-09-29 23:59:58+00:00</td>\n",
       "    </tr>\n",
       "    <tr>\n",
       "      <th>2</th>\n",
       "      <td>1311093401652277252</td>\n",
       "      <td>How can Biden stand a chance against Trump in ...</td>\n",
       "      <td>[0, 280]</td>\n",
       "      <td>{'hashtags': [{'text': 'VarneyCo', 'indices': ...</td>\n",
       "      <td>&lt;a href=\"https://studio.twitter.com\" rel=\"nofo...</td>\n",
       "      <td>{'id': 281610530, 'id_str': '281610530', 'name...</td>\n",
       "      <td>False</td>\n",
       "      <td>25</td>\n",
       "      <td>100</td>\n",
       "      <td>False</td>\n",
       "      <td>en</td>\n",
       "      <td>NaN</td>\n",
       "      <td>2020-09-30 00:00:00+00:00</td>\n",
       "    </tr>\n",
       "    <tr>\n",
       "      <th>3</th>\n",
       "      <td>1311093410737070086</td>\n",
       "      <td>RT @abbydphillip: Very reminiscent of pre-2018...</td>\n",
       "      <td>[0, 108]</td>\n",
       "      <td>{'hashtags': [], 'symbols': [], 'user_mentions...</td>\n",
       "      <td>&lt;a href=\"http://twitter.com/download/iphone\" r...</td>\n",
       "      <td>{'id': 88223320, 'id_str': '88223320', 'name':...</td>\n",
       "      <td>True</td>\n",
       "      <td>351</td>\n",
       "      <td>0</td>\n",
       "      <td>NaN</td>\n",
       "      <td>en</td>\n",
       "      <td>{'created_at': 'Tue Sep 29 23:00:28 +0000 2020...</td>\n",
       "      <td>2020-09-30 00:00:02+00:00</td>\n",
       "    </tr>\n",
       "    <tr>\n",
       "      <th>4</th>\n",
       "      <td>1311093419100561408</td>\n",
       "      <td>RT @RudyGiuliani: Why was Corrupt Biden’s son ...</td>\n",
       "      <td>[0, 110]</td>\n",
       "      <td>{'hashtags': [], 'symbols': [], 'user_mentions...</td>\n",
       "      <td>&lt;a href=\"http://twitter.com/download/iphone\" r...</td>\n",
       "      <td>{'id': 44295160, 'id_str': '44295160', 'name':...</td>\n",
       "      <td>False</td>\n",
       "      <td>15672</td>\n",
       "      <td>0</td>\n",
       "      <td>NaN</td>\n",
       "      <td>en</td>\n",
       "      <td>{'created_at': 'Tue Sep 29 19:07:59 +0000 2020...</td>\n",
       "      <td>2020-09-30 00:00:04+00:00</td>\n",
       "    </tr>\n",
       "  </tbody>\n",
       "</table>\n",
       "</div>"
      ],
      "text/plain": [
       "                id_str                                          full_text  \\\n",
       "0  1311093385688735744  Biden a professional debater??  Hardly!! More ...   \n",
       "1  1311093394400333824  RT @DarDar458: #PresidentialDebate #Debates202...   \n",
       "2  1311093401652277252  How can Biden stand a chance against Trump in ...   \n",
       "3  1311093410737070086  RT @abbydphillip: Very reminiscent of pre-2018...   \n",
       "4  1311093419100561408  RT @RudyGiuliani: Why was Corrupt Biden’s son ...   \n",
       "\n",
       "  display_text_range                                           entities  \\\n",
       "0            [0, 71]  {'hashtags': [], 'symbols': [], 'user_mentions...   \n",
       "1            [0, 73]  {'hashtags': [{'text': 'PresidentialDebate', '...   \n",
       "2           [0, 280]  {'hashtags': [{'text': 'VarneyCo', 'indices': ...   \n",
       "3           [0, 108]  {'hashtags': [], 'symbols': [], 'user_mentions...   \n",
       "4           [0, 110]  {'hashtags': [], 'symbols': [], 'user_mentions...   \n",
       "\n",
       "                                              source  \\\n",
       "0  <a href=\"https://mobile.twitter.com\" rel=\"nofo...   \n",
       "1  <a href=\"http://twitter.com/download/iphone\" r...   \n",
       "2  <a href=\"https://studio.twitter.com\" rel=\"nofo...   \n",
       "3  <a href=\"http://twitter.com/download/iphone\" r...   \n",
       "4  <a href=\"http://twitter.com/download/iphone\" r...   \n",
       "\n",
       "                                                user  is_quote_status  \\\n",
       "0  {'id': 117904481, 'id_str': '117904481', 'name...             True   \n",
       "1  {'id': 30140760, 'id_str': '30140760', 'name':...             True   \n",
       "2  {'id': 281610530, 'id_str': '281610530', 'name...            False   \n",
       "3  {'id': 88223320, 'id_str': '88223320', 'name':...             True   \n",
       "4  {'id': 44295160, 'id_str': '44295160', 'name':...            False   \n",
       "\n",
       "   retweet_count  favorite_count possibly_sensitive lang  \\\n",
       "0              0               0              False   en   \n",
       "1              1               0                NaN  und   \n",
       "2             25             100              False   en   \n",
       "3            351               0                NaN   en   \n",
       "4          15672               0                NaN   en   \n",
       "\n",
       "                                    retweeted_status                  datetime  \n",
       "0                                                NaN 2020-09-29 23:59:56+00:00  \n",
       "1  {'created_at': 'Tue Sep 29 23:55:42 +0000 2020... 2020-09-29 23:59:58+00:00  \n",
       "2                                                NaN 2020-09-30 00:00:00+00:00  \n",
       "3  {'created_at': 'Tue Sep 29 23:00:28 +0000 2020... 2020-09-30 00:00:02+00:00  \n",
       "4  {'created_at': 'Tue Sep 29 19:07:59 +0000 2020... 2020-09-30 00:00:04+00:00  "
      ]
     },
     "execution_count": 3,
     "metadata": {},
     "output_type": "execute_result"
    }
   ],
   "source": [
    "df.head()"
   ]
  },
  {
   "cell_type": "code",
   "execution_count": 4,
   "metadata": {},
   "outputs": [
    {
     "data": {
      "text/plain": [
       "Index(['id_str', 'full_text', 'display_text_range', 'entities', 'source',\n",
       "       'user', 'is_quote_status', 'retweet_count', 'favorite_count',\n",
       "       'possibly_sensitive', 'lang', 'retweeted_status', 'datetime'],\n",
       "      dtype='object')"
      ]
     },
     "execution_count": 4,
     "metadata": {},
     "output_type": "execute_result"
    }
   ],
   "source": [
    "df.columns"
   ]
  },
  {
   "cell_type": "code",
   "execution_count": 5,
   "metadata": {},
   "outputs": [
    {
     "name": "stdout",
     "output_type": "stream",
     "text": [
      "<class 'pandas.core.frame.DataFrame'>\n",
      "RangeIndex: 140337 entries, 0 to 140336\n",
      "Data columns (total 13 columns):\n",
      " #   Column              Non-Null Count   Dtype              \n",
      "---  ------              --------------   -----              \n",
      " 0   id_str              140337 non-null  object             \n",
      " 1   full_text           140337 non-null  object             \n",
      " 2   display_text_range  140337 non-null  object             \n",
      " 3   entities            140337 non-null  object             \n",
      " 4   source              140337 non-null  object             \n",
      " 5   user                140337 non-null  object             \n",
      " 6   is_quote_status     140337 non-null  bool               \n",
      " 7   retweet_count       140337 non-null  int64              \n",
      " 8   favorite_count      140337 non-null  int64              \n",
      " 9   possibly_sensitive  32333 non-null   object             \n",
      " 10  lang                140337 non-null  object             \n",
      " 11  retweeted_status    106900 non-null  object             \n",
      " 12  datetime            140337 non-null  datetime64[ns, UTC]\n",
      "dtypes: bool(1), datetime64[ns, UTC](1), int64(2), object(9)\n",
      "memory usage: 13.0+ MB\n"
     ]
    }
   ],
   "source": [
    "df.info()"
   ]
  },
  {
   "cell_type": "markdown",
   "metadata": {},
   "source": [
    "## Min and Max Dates"
   ]
  },
  {
   "cell_type": "code",
   "execution_count": 6,
   "metadata": {},
   "outputs": [
    {
     "name": "stdout",
     "output_type": "stream",
     "text": [
      "Earliest date: 2020-09-29 23:59:56+00:00\n",
      "Latest date: 2020-10-02 23:59:54+00:00\n"
     ]
    }
   ],
   "source": [
    "print(f'Earliest date: {df.datetime.min()}')\n",
    "print(f'Latest date: {df.datetime.max()}')"
   ]
  },
  {
   "cell_type": "markdown",
   "metadata": {},
   "source": [
    "## Create columns with numbers"
   ]
  },
  {
   "cell_type": "markdown",
   "metadata": {},
   "source": [
    "## id_str column review"
   ]
  },
  {
   "cell_type": "code",
   "execution_count": 7,
   "metadata": {},
   "outputs": [
    {
     "data": {
      "text/plain": [
       "140337"
      ]
     },
     "execution_count": 7,
     "metadata": {},
     "output_type": "execute_result"
    }
   ],
   "source": [
    "# there are 140,337 tweet id's (I think)\n",
    "df.id_str.nunique()"
   ]
  },
  {
   "cell_type": "markdown",
   "metadata": {},
   "source": [
    "### display_text_range column to int()"
   ]
  },
  {
   "cell_type": "code",
   "execution_count": 8,
   "metadata": {},
   "outputs": [
    {
     "data": {
      "text/plain": [
       "list"
      ]
     },
     "execution_count": 8,
     "metadata": {},
     "output_type": "execute_result"
    }
   ],
   "source": [
    "type(df.display_text_range.iloc[0])"
   ]
  },
  {
   "cell_type": "code",
   "execution_count": 9,
   "metadata": {},
   "outputs": [
    {
     "data": {
      "text/plain": [
       "71"
      ]
     },
     "execution_count": 9,
     "metadata": {},
     "output_type": "execute_result"
    }
   ],
   "source": [
    "df.display_text_range.iloc[0][-1]"
   ]
  },
  {
   "cell_type": "code",
   "execution_count": 10,
   "metadata": {},
   "outputs": [],
   "source": [
    "def text_length(lst):\n",
    "    \"\"\"\n",
    "    Parses the end of list [0, 15] returns 15\n",
    "    \n",
    "    Input: lst, column entry as from display_text_range\n",
    "    Output: int, length of tweet\n",
    "    \"\"\"\n",
    "    return lst[-1]"
   ]
  },
  {
   "cell_type": "code",
   "execution_count": 11,
   "metadata": {
    "scrolled": true
   },
   "outputs": [],
   "source": [
    "df['text_length'] = df.display_text_range.apply(text_length)"
   ]
  },
  {
   "cell_type": "code",
   "execution_count": 12,
   "metadata": {},
   "outputs": [],
   "source": [
    "# Drop display_text_range\n",
    "df.drop('display_text_range'\n",
    "        , axis = 1\n",
    "        , inplace = True\n",
    "       )"
   ]
  },
  {
   "cell_type": "code",
   "execution_count": 13,
   "metadata": {},
   "outputs": [
    {
     "name": "stdout",
     "output_type": "stream",
     "text": [
      "<class 'pandas.core.frame.DataFrame'>\n",
      "RangeIndex: 140337 entries, 0 to 140336\n",
      "Data columns (total 13 columns):\n",
      " #   Column              Non-Null Count   Dtype              \n",
      "---  ------              --------------   -----              \n",
      " 0   id_str              140337 non-null  object             \n",
      " 1   full_text           140337 non-null  object             \n",
      " 2   entities            140337 non-null  object             \n",
      " 3   source              140337 non-null  object             \n",
      " 4   user                140337 non-null  object             \n",
      " 5   is_quote_status     140337 non-null  bool               \n",
      " 6   retweet_count       140337 non-null  int64              \n",
      " 7   favorite_count      140337 non-null  int64              \n",
      " 8   possibly_sensitive  32333 non-null   object             \n",
      " 9   lang                140337 non-null  object             \n",
      " 10  retweeted_status    106900 non-null  object             \n",
      " 11  datetime            140337 non-null  datetime64[ns, UTC]\n",
      " 12  text_length         140337 non-null  int64              \n",
      "dtypes: bool(1), datetime64[ns, UTC](1), int64(3), object(8)\n",
      "memory usage: 13.0+ MB\n"
     ]
    }
   ],
   "source": [
    "df.info()"
   ]
  },
  {
   "cell_type": "markdown",
   "metadata": {},
   "source": [
    "### entities column (come back to this wtih Julia and Mathias)"
   ]
  },
  {
   "cell_type": "code",
   "execution_count": 14,
   "metadata": {},
   "outputs": [
    {
     "data": {
      "text/plain": [
       "{'hashtags': [],\n",
       " 'symbols': [],\n",
       " 'user_mentions': [],\n",
       " 'urls': [{'url': 'https://t.co/cQuxzexXYt',\n",
       "   'expanded_url': 'https://twitter.com/IngrahamAngle/status/1311081374510710784',\n",
       "   'display_url': 'twitter.com/IngrahamAngle/…',\n",
       "   'indices': [72, 95]}]}"
      ]
     },
     "execution_count": 14,
     "metadata": {},
     "output_type": "execute_result"
    }
   ],
   "source": [
    "df.entities.iloc[0]"
   ]
  },
  {
   "cell_type": "code",
   "execution_count": 15,
   "metadata": {},
   "outputs": [
    {
     "data": {
      "text/plain": [
       "{'hashtags': [{'text': 'PresidentialDebate', 'indices': [15, 34]},\n",
       "  {'text': 'Debates2020', 'indices': [35, 47]},\n",
       "  {'text': 'TrumpIsANationalDisgrace', 'indices': [48, 73]}],\n",
       " 'symbols': [],\n",
       " 'user_mentions': [{'screen_name': 'DarDar458',\n",
       "   'name': 'DarDar45 🌊 🆘',\n",
       "   'id': 1084234892840484864,\n",
       "   'id_str': '1084234892840484864',\n",
       "   'indices': [3, 13]}],\n",
       " 'urls': []}"
      ]
     },
     "execution_count": 15,
     "metadata": {},
     "output_type": "execute_result"
    }
   ],
   "source": [
    "df.entities.iloc[1]"
   ]
  },
  {
   "cell_type": "code",
   "execution_count": 16,
   "metadata": {},
   "outputs": [
    {
     "data": {
      "text/plain": [
       "{'hashtags': [],\n",
       " 'symbols': [],\n",
       " 'user_mentions': [{'screen_name': 'HizbkKhan',\n",
       "   'name': 'Hizbullah Khan',\n",
       "   'id': 1015029427284127745,\n",
       "   'id_str': '1015029427284127745',\n",
       "   'indices': [3, 13]}],\n",
       " 'urls': [],\n",
       " 'media': [{'id': 1310731423184191493,\n",
       "   'id_str': '1310731423184191493',\n",
       "   'indices': [93, 116],\n",
       "   'media_url': 'http://pbs.twimg.com/ext_tw_video_thumb/1310731423184191493/pu/img/kXb4Oq2Wb0p8on5F.jpg',\n",
       "   'media_url_https': 'https://pbs.twimg.com/ext_tw_video_thumb/1310731423184191493/pu/img/kXb4Oq2Wb0p8on5F.jpg',\n",
       "   'url': 'https://t.co/XnGBT6jpLl',\n",
       "   'display_url': 'pic.twitter.com/XnGBT6jpLl',\n",
       "   'expanded_url': 'https://twitter.com/HizbkKhan/status/1310731479748669440/video/1',\n",
       "   'type': 'photo',\n",
       "   'sizes': {'thumb': {'w': 150, 'h': 150, 'resize': 'crop'},\n",
       "    'medium': {'w': 628, 'h': 360, 'resize': 'fit'},\n",
       "    'large': {'w': 628, 'h': 360, 'resize': 'fit'},\n",
       "    'small': {'w': 628, 'h': 360, 'resize': 'fit'}},\n",
       "   'source_status_id': 1310731479748669440,\n",
       "   'source_status_id_str': '1310731479748669440',\n",
       "   'source_user_id': 1015029427284127745,\n",
       "   'source_user_id_str': '1015029427284127745'}]}"
      ]
     },
     "execution_count": 16,
     "metadata": {},
     "output_type": "execute_result"
    }
   ],
   "source": [
    "df.entities.iloc[100]"
   ]
  },
  {
   "cell_type": "markdown",
   "metadata": {},
   "source": [
    "### source column"
   ]
  },
  {
   "cell_type": "code",
   "execution_count": 17,
   "metadata": {},
   "outputs": [
    {
     "data": {
      "text/plain": [
       "'<a href=\"https://mobile.twitter.com\" rel=\"nofollow\">Twitter Web App</a>'"
      ]
     },
     "execution_count": 17,
     "metadata": {},
     "output_type": "execute_result"
    }
   ],
   "source": [
    "df.source.iloc[0]"
   ]
  },
  {
   "cell_type": "code",
   "execution_count": 18,
   "metadata": {},
   "outputs": [],
   "source": [
    "# write a function to prase between <a></a>\n",
    "\n",
    "from bs4 import BeautifulSoup\n",
    "\n",
    "def btw_a(txt):\n",
    "    \"\"\"\n",
    "    Returns text between the <a></a>\n",
    "    Input: txt\n",
    "    Output: txt\n",
    "    \"\"\"\n",
    "    soup = BeautifulSoup(txt)\n",
    "    for x in soup.find_all('a'):\n",
    "        return x.get_text()    "
   ]
  },
  {
   "cell_type": "code",
   "execution_count": 19,
   "metadata": {},
   "outputs": [
    {
     "data": {
      "text/plain": [
       "'Twitter Web App'"
      ]
     },
     "execution_count": 19,
     "metadata": {},
     "output_type": "execute_result"
    }
   ],
   "source": [
    "# test the function btw_a\n",
    "txt = '<a href=\"https://mobile.twitter.com\" rel=\"nofollow\">Twitter Web App</a>'\n",
    "btw_a(txt)"
   ]
  },
  {
   "cell_type": "code",
   "execution_count": 20,
   "metadata": {},
   "outputs": [],
   "source": [
    "# apply it to source column\n",
    "df.source = df.source.apply(btw_a)"
   ]
  },
  {
   "cell_type": "code",
   "execution_count": 21,
   "metadata": {},
   "outputs": [
    {
     "data": {
      "text/plain": [
       "0         Twitter Web App\n",
       "1      Twitter for iPhone\n",
       "2    Twitter Media Studio\n",
       "3      Twitter for iPhone\n",
       "4      Twitter for iPhone\n",
       "Name: source, dtype: object"
      ]
     },
     "execution_count": 21,
     "metadata": {},
     "output_type": "execute_result"
    }
   ],
   "source": [
    "# check work\n",
    "df.source.head()"
   ]
  },
  {
   "cell_type": "code",
   "execution_count": 22,
   "metadata": {},
   "outputs": [
    {
     "data": {
      "text/plain": [
       "Twitter for iPhone         62080\n",
       "Twitter for Android        38641\n",
       "Twitter Web App            29655\n",
       "Twitter for iPad            8046\n",
       "TweetDeck                    459\n",
       "                           ...  \n",
       "buzybuzz3                      1\n",
       "De-duped Economist             1\n",
       "Clicky Sound                   1\n",
       "CoSchedule                     1\n",
       "Guanduania Humanitarian        1\n",
       "Name: source, Length: 310, dtype: int64"
      ]
     },
     "execution_count": 22,
     "metadata": {},
     "output_type": "execute_result"
    }
   ],
   "source": [
    "# find the unique values\n",
    "df.source.value_counts()"
   ]
  },
  {
   "cell_type": "code",
   "execution_count": 23,
   "metadata": {},
   "outputs": [
    {
     "data": {
      "text/plain": [
       "310"
      ]
     },
     "execution_count": 23,
     "metadata": {},
     "output_type": "execute_result"
    }
   ],
   "source": [
    "len(df.source.value_counts())"
   ]
  },
  {
   "cell_type": "code",
   "execution_count": 24,
   "metadata": {},
   "outputs": [
    {
     "data": {
      "text/plain": [
       "Index(['Twitter for iPhone', 'Twitter for Android', 'Twitter Web App',\n",
       "       'Twitter for iPad', 'TweetDeck', 'Tweetbot for iΟS', 'WordPress.com',\n",
       "       'dlvr.it', 'IFTTT', 'Twitter for Mac',\n",
       "       ...\n",
       "       'Financial Performance Rater', 'KXChg', 'PublikaMD', 'SocialGest',\n",
       "       'Alerta Digital', 'buzybuzz3', 'De-duped Economist', 'Clicky Sound',\n",
       "       'CoSchedule', 'Guanduania Humanitarian'],\n",
       "      dtype='object', length=310)"
      ]
     },
     "execution_count": 24,
     "metadata": {},
     "output_type": "execute_result"
    }
   ],
   "source": [
    "source_lst = df.source.value_counts().index\n",
    "source_lst"
   ]
  },
  {
   "cell_type": "markdown",
   "metadata": {},
   "source": [
    "### user column"
   ]
  },
  {
   "cell_type": "code",
   "execution_count": 25,
   "metadata": {},
   "outputs": [
    {
     "data": {
      "text/plain": [
       "{'id': 117904481,\n",
       " 'id_str': '117904481',\n",
       " 'name': 'SharonS',\n",
       " 'screen_name': 'sfshores53',\n",
       " 'location': 'America ',\n",
       " 'description': 'Conservative/#MAGA/ #WWG1WGA /MbrNRA/#Trump2020/Pro-Life/Pro-2nd Amend/parler@SharonA53/ NO DMs-/Patriots-will follow all/will unfollow those who do not follow',\n",
       " 'url': None,\n",
       " 'entities': {'description': {'urls': []}},\n",
       " 'protected': False,\n",
       " 'followers_count': 4065,\n",
       " 'friends_count': 4998,\n",
       " 'listed_count': 16,\n",
       " 'created_at': 'Sat Feb 27 00:36:23 +0000 2010',\n",
       " 'favourites_count': 3659,\n",
       " 'utc_offset': None,\n",
       " 'time_zone': None,\n",
       " 'geo_enabled': True,\n",
       " 'verified': False,\n",
       " 'statuses_count': 6156,\n",
       " 'lang': None,\n",
       " 'contributors_enabled': False,\n",
       " 'is_translator': False,\n",
       " 'is_translation_enabled': False,\n",
       " 'profile_background_color': '0099B9',\n",
       " 'profile_background_image_url': 'http://abs.twimg.com/images/themes/theme4/bg.gif',\n",
       " 'profile_background_image_url_https': 'https://abs.twimg.com/images/themes/theme4/bg.gif',\n",
       " 'profile_background_tile': False,\n",
       " 'profile_image_url': 'http://pbs.twimg.com/profile_images/1285573452330610690/ZqF7b43V_normal.jpg',\n",
       " 'profile_image_url_https': 'https://pbs.twimg.com/profile_images/1285573452330610690/ZqF7b43V_normal.jpg',\n",
       " 'profile_banner_url': 'https://pbs.twimg.com/profile_banners/117904481/1595345887',\n",
       " 'profile_image_extensions_alt_text': None,\n",
       " 'profile_banner_extensions_alt_text': None,\n",
       " 'profile_link_color': '003DB8',\n",
       " 'profile_sidebar_border_color': '5ED4DC',\n",
       " 'profile_sidebar_fill_color': '95E8EC',\n",
       " 'profile_text_color': '3C3940',\n",
       " 'profile_use_background_image': True,\n",
       " 'has_extended_profile': False,\n",
       " 'default_profile': False,\n",
       " 'default_profile_image': False,\n",
       " 'following': False,\n",
       " 'follow_request_sent': False,\n",
       " 'notifications': False,\n",
       " 'translator_type': 'none'}"
      ]
     },
     "execution_count": 25,
     "metadata": {},
     "output_type": "execute_result"
    }
   ],
   "source": [
    "df.user.iloc[0]"
   ]
  },
  {
   "cell_type": "code",
   "execution_count": 26,
   "metadata": {},
   "outputs": [
    {
     "data": {
      "text/plain": [
       "dict"
      ]
     },
     "execution_count": 26,
     "metadata": {},
     "output_type": "execute_result"
    }
   ],
   "source": [
    "type(df.user.iloc[0])"
   ]
  },
  {
   "cell_type": "code",
   "execution_count": 27,
   "metadata": {},
   "outputs": [],
   "source": [
    "# create function to pull out user profile value from user dictionary\n",
    "def user_id(dict_):\n",
    "    \"\"\"\n",
    "    Pulls out user id from user dictionary\n",
    "    Input: dict, user dictionary\n",
    "    Output: str, user_id\n",
    "    \"\"\"    \n",
    "    return dict_['id_str']"
   ]
  },
  {
   "cell_type": "code",
   "execution_count": 28,
   "metadata": {},
   "outputs": [],
   "source": [
    "# create user id column\n",
    "df['user_id'] = df.user.apply(user_id)"
   ]
  },
  {
   "cell_type": "code",
   "execution_count": 29,
   "metadata": {},
   "outputs": [
    {
     "data": {
      "text/plain": [
       "121040"
      ]
     },
     "execution_count": 29,
     "metadata": {},
     "output_type": "execute_result"
    }
   ],
   "source": [
    "# there are 121,040 unique user id's\n",
    "df.user_id.nunique()"
   ]
  },
  {
   "cell_type": "code",
   "execution_count": 30,
   "metadata": {},
   "outputs": [
    {
     "data": {
      "text/plain": [
       "4065"
      ]
     },
     "execution_count": 30,
     "metadata": {},
     "output_type": "execute_result"
    }
   ],
   "source": [
    "# user follower_count sample\n",
    "df.user.iloc[0]['followers_count']"
   ]
  },
  {
   "cell_type": "code",
   "execution_count": 31,
   "metadata": {},
   "outputs": [],
   "source": [
    "# create function to pull out user profile value from user dictionary\n",
    "def followers_count(dict_):\n",
    "    \"\"\"\n",
    "    Pulls out user id from user dictionary\n",
    "    Input: dict, user dictionary\n",
    "    Output: int, followers_count\n",
    "    \"\"\"    \n",
    "    return dict_['followers_count']"
   ]
  },
  {
   "cell_type": "code",
   "execution_count": 32,
   "metadata": {},
   "outputs": [],
   "source": [
    "# create followers count column\n",
    "df['followers_count'] = df.user.apply(followers_count)"
   ]
  },
  {
   "cell_type": "code",
   "execution_count": 33,
   "metadata": {},
   "outputs": [
    {
     "data": {
      "text/plain": [
       "numpy.int64"
      ]
     },
     "execution_count": 33,
     "metadata": {},
     "output_type": "execute_result"
    }
   ],
   "source": [
    "# check data type\n",
    "type(df.followers_count.iloc[0])"
   ]
  },
  {
   "cell_type": "code",
   "execution_count": 34,
   "metadata": {},
   "outputs": [
    {
     "data": {
      "text/plain": [
       "4998"
      ]
     },
     "execution_count": 34,
     "metadata": {},
     "output_type": "execute_result"
    }
   ],
   "source": [
    "# user friends__count sample\n",
    "df.user.iloc[0]['friends_count']"
   ]
  },
  {
   "cell_type": "code",
   "execution_count": 35,
   "metadata": {},
   "outputs": [],
   "source": [
    "# create function to pull out user profile value from user dictionary\n",
    "def friends_count(dict_):\n",
    "    \"\"\"\n",
    "    Pulls out user id from user dictionary\n",
    "    Input: dict, user dictionary\n",
    "    Output: int, friends_count\n",
    "    \"\"\"    \n",
    "    return dict_['friends_count']"
   ]
  },
  {
   "cell_type": "code",
   "execution_count": 36,
   "metadata": {},
   "outputs": [],
   "source": [
    "# create followers count column\n",
    "df['friends_count'] = df.user.apply(friends_count)"
   ]
  },
  {
   "cell_type": "code",
   "execution_count": 37,
   "metadata": {},
   "outputs": [
    {
     "data": {
      "text/plain": [
       "numpy.int64"
      ]
     },
     "execution_count": 37,
     "metadata": {},
     "output_type": "execute_result"
    }
   ],
   "source": [
    "# check data type\n",
    "type(df.friends_count.iloc[0])"
   ]
  },
  {
   "cell_type": "code",
   "execution_count": 38,
   "metadata": {},
   "outputs": [
    {
     "data": {
      "text/plain": [
       "'America '"
      ]
     },
     "execution_count": 38,
     "metadata": {},
     "output_type": "execute_result"
    }
   ],
   "source": [
    "# user location sample\n",
    "df.user.iloc[0]['location']"
   ]
  },
  {
   "cell_type": "code",
   "execution_count": 39,
   "metadata": {},
   "outputs": [],
   "source": [
    "# create function to pull out user profile value from user dictionary\n",
    "def location(dict_):\n",
    "    \"\"\"\n",
    "    Pulls out user id from user dictionary\n",
    "    Input: dict, user dictionary\n",
    "    Output: str, location\n",
    "    \"\"\"    \n",
    "    return dict_['location']"
   ]
  },
  {
   "cell_type": "code",
   "execution_count": 40,
   "metadata": {},
   "outputs": [],
   "source": [
    "# create user locations column\n",
    "df['user_location'] = df.user.apply(location)"
   ]
  },
  {
   "cell_type": "code",
   "execution_count": 41,
   "metadata": {},
   "outputs": [
    {
     "data": {
      "text/plain": [
       "str"
      ]
     },
     "execution_count": 41,
     "metadata": {},
     "output_type": "execute_result"
    }
   ],
   "source": [
    "# check data type\n",
    "type(df.user_location.iloc[0])"
   ]
  },
  {
   "cell_type": "code",
   "execution_count": 42,
   "metadata": {},
   "outputs": [
    {
     "data": {
      "text/plain": [
       "'Sat Feb 27 00:36:23 +0000 2010'"
      ]
     },
     "execution_count": 42,
     "metadata": {},
     "output_type": "execute_result"
    }
   ],
   "source": [
    "# user created sample\n",
    "df.user.iloc[0]['created_at']"
   ]
  },
  {
   "cell_type": "code",
   "execution_count": 43,
   "metadata": {},
   "outputs": [],
   "source": [
    "# create function to pull out user profile value from user dictionary\n",
    "def acc_created(dict_):\n",
    "    \"\"\"\n",
    "    Pulls out user id from user dictionary\n",
    "    Input: dict, user dictionary\n",
    "    Output: str, account created\n",
    "    \"\"\"    \n",
    "    return dict_['created_at']"
   ]
  },
  {
   "cell_type": "code",
   "execution_count": 44,
   "metadata": {},
   "outputs": [],
   "source": [
    "# create user locations column\n",
    "df['acct_created'] = df.user.apply(acc_created)"
   ]
  },
  {
   "cell_type": "code",
   "execution_count": 45,
   "metadata": {},
   "outputs": [
    {
     "data": {
      "text/plain": [
       "str"
      ]
     },
     "execution_count": 45,
     "metadata": {},
     "output_type": "execute_result"
    }
   ],
   "source": [
    "# check data type\n",
    "type(df.acct_created.iloc[0])"
   ]
  },
  {
   "cell_type": "code",
   "execution_count": 46,
   "metadata": {},
   "outputs": [
    {
     "data": {
      "text/plain": [
       "6156"
      ]
     },
     "execution_count": 46,
     "metadata": {},
     "output_type": "execute_result"
    }
   ],
   "source": [
    "# user statuses_count sample\n",
    "df.user.iloc[0]['statuses_count']"
   ]
  },
  {
   "cell_type": "code",
   "execution_count": 47,
   "metadata": {},
   "outputs": [],
   "source": [
    "# create function to pull out user profile value from user dictionary\n",
    "def statuses_count(dict_):\n",
    "    \"\"\"\n",
    "    Pulls out user id from user dictionary\n",
    "    Input: dict, user dictionary\n",
    "    Output: int, statuses_count\n",
    "    \"\"\"    \n",
    "    return dict_['statuses_count']"
   ]
  },
  {
   "cell_type": "code",
   "execution_count": 48,
   "metadata": {},
   "outputs": [],
   "source": [
    "# create user statuses_count column\n",
    "df['statuses_count'] = df.user.apply(statuses_count)"
   ]
  },
  {
   "cell_type": "code",
   "execution_count": 49,
   "metadata": {},
   "outputs": [
    {
     "data": {
      "text/plain": [
       "numpy.int64"
      ]
     },
     "execution_count": 49,
     "metadata": {},
     "output_type": "execute_result"
    }
   ],
   "source": [
    "# check data type\n",
    "type(df.statuses_count.iloc[0])"
   ]
  },
  {
   "cell_type": "code",
   "execution_count": 50,
   "metadata": {},
   "outputs": [
    {
     "data": {
      "text/plain": [
       "False"
      ]
     },
     "execution_count": 50,
     "metadata": {},
     "output_type": "execute_result"
    }
   ],
   "source": [
    "# user following sample\n",
    "df.user.iloc[0]['following']"
   ]
  },
  {
   "cell_type": "code",
   "execution_count": 51,
   "metadata": {},
   "outputs": [],
   "source": [
    "# create function to pull out user profile value from user dictionary\n",
    "def following(dict_):\n",
    "    \"\"\"\n",
    "    Pulls out user id from user dictionary\n",
    "    Input: dict, user dictionary\n",
    "    Output: bool, following\n",
    "    \"\"\"    \n",
    "    return dict_['following']"
   ]
  },
  {
   "cell_type": "code",
   "execution_count": 52,
   "metadata": {},
   "outputs": [],
   "source": [
    "# create user following column\n",
    "df['following'] = df.user.apply(following)"
   ]
  },
  {
   "cell_type": "code",
   "execution_count": 53,
   "metadata": {},
   "outputs": [
    {
     "data": {
      "text/plain": [
       "numpy.bool_"
      ]
     },
     "execution_count": 53,
     "metadata": {},
     "output_type": "execute_result"
    }
   ],
   "source": [
    "# check data type\n",
    "type(df.following.iloc[0])"
   ]
  },
  {
   "cell_type": "code",
   "execution_count": 54,
   "metadata": {},
   "outputs": [
    {
     "data": {
      "text/plain": [
       "False"
      ]
     },
     "execution_count": 54,
     "metadata": {},
     "output_type": "execute_result"
    }
   ],
   "source": [
    "# user following_request_sent sample\n",
    "df.user.iloc[0]['follow_request_sent']"
   ]
  },
  {
   "cell_type": "code",
   "execution_count": 55,
   "metadata": {},
   "outputs": [],
   "source": [
    "# create function to pull out user profile value from user dictionary\n",
    "def following_request(dict_):\n",
    "    \"\"\"\n",
    "    Pulls out user id from user dictionary\n",
    "    Input: dict, user dictionary\n",
    "    Output: bool, following\n",
    "    \"\"\"    \n",
    "    return dict_['follow_request_sent']"
   ]
  },
  {
   "cell_type": "code",
   "execution_count": 56,
   "metadata": {},
   "outputs": [],
   "source": [
    "# create user following column\n",
    "df['following_request'] = df.user.apply(following_request)"
   ]
  },
  {
   "cell_type": "code",
   "execution_count": 57,
   "metadata": {},
   "outputs": [
    {
     "data": {
      "text/plain": [
       "numpy.bool_"
      ]
     },
     "execution_count": 57,
     "metadata": {},
     "output_type": "execute_result"
    }
   ],
   "source": [
    "# check data type\n",
    "type(df.following_request.iloc[0])"
   ]
  },
  {
   "cell_type": "code",
   "execution_count": 58,
   "metadata": {},
   "outputs": [
    {
     "data": {
      "text/plain": [
       "False"
      ]
     },
     "execution_count": 58,
     "metadata": {},
     "output_type": "execute_result"
    }
   ],
   "source": [
    "# user following_request_sent sample\n",
    "df.user.iloc[0]['notifications']"
   ]
  },
  {
   "cell_type": "code",
   "execution_count": 59,
   "metadata": {},
   "outputs": [],
   "source": [
    "# create function to pull out user profile value from user dictionary\n",
    "def notifications(dict_):\n",
    "    \"\"\"\n",
    "    Pulls out user id from user dictionary\n",
    "    Input: dict, user dictionary\n",
    "    Output: bool, notifications\n",
    "    \"\"\"    \n",
    "    return dict_['notifications']"
   ]
  },
  {
   "cell_type": "code",
   "execution_count": 60,
   "metadata": {},
   "outputs": [],
   "source": [
    "# create user following column\n",
    "df['notifications'] = df.user.apply(notifications)"
   ]
  },
  {
   "cell_type": "code",
   "execution_count": 61,
   "metadata": {},
   "outputs": [
    {
     "data": {
      "text/plain": [
       "numpy.bool_"
      ]
     },
     "execution_count": 61,
     "metadata": {},
     "output_type": "execute_result"
    }
   ],
   "source": [
    "# check data type\n",
    "type(df.notifications.iloc[0])"
   ]
  },
  {
   "cell_type": "code",
   "execution_count": 62,
   "metadata": {},
   "outputs": [
    {
     "data": {
      "text/plain": [
       "'Conservative/#MAGA/ #WWG1WGA /MbrNRA/#Trump2020/Pro-Life/Pro-2nd Amend/parler@SharonA53/ NO DMs-/Patriots-will follow all/will unfollow those who do not follow'"
      ]
     },
     "execution_count": 62,
     "metadata": {},
     "output_type": "execute_result"
    }
   ],
   "source": [
    "# user description sample\n",
    "df.user.iloc[0]['description']"
   ]
  },
  {
   "cell_type": "code",
   "execution_count": 63,
   "metadata": {},
   "outputs": [],
   "source": [
    "# create function to pull out user profile value from user dictionary\n",
    "def user_descriptions(dict_):\n",
    "    \"\"\"\n",
    "    Pulls out user id from user dictionary\n",
    "    Input: dict, user dictionary\n",
    "    Output: str, user_descriptions\n",
    "    \"\"\"    \n",
    "    return dict_['description']"
   ]
  },
  {
   "cell_type": "code",
   "execution_count": 64,
   "metadata": {},
   "outputs": [],
   "source": [
    "# create user following column\n",
    "df['user_descriptions'] = df.user.apply(user_descriptions)"
   ]
  },
  {
   "cell_type": "code",
   "execution_count": 65,
   "metadata": {},
   "outputs": [
    {
     "data": {
      "text/plain": [
       "str"
      ]
     },
     "execution_count": 65,
     "metadata": {},
     "output_type": "execute_result"
    }
   ],
   "source": [
    "# check data type\n",
    "type(df.user_descriptions.iloc[0])"
   ]
  },
  {
   "cell_type": "markdown",
   "metadata": {},
   "source": [
    "## Creating A Influencing Score"
   ]
  },
  {
   "cell_type": "code",
   "execution_count": 66,
   "metadata": {},
   "outputs": [
    {
     "name": "stdout",
     "output_type": "stream",
     "text": [
      "<class 'pandas.core.frame.DataFrame'>\n",
      "RangeIndex: 140337 entries, 0 to 140336\n",
      "Data columns (total 23 columns):\n",
      " #   Column              Non-Null Count   Dtype              \n",
      "---  ------              --------------   -----              \n",
      " 0   id_str              140337 non-null  object             \n",
      " 1   full_text           140337 non-null  object             \n",
      " 2   entities            140337 non-null  object             \n",
      " 3   source              140319 non-null  object             \n",
      " 4   user                140337 non-null  object             \n",
      " 5   is_quote_status     140337 non-null  bool               \n",
      " 6   retweet_count       140337 non-null  int64              \n",
      " 7   favorite_count      140337 non-null  int64              \n",
      " 8   possibly_sensitive  32333 non-null   object             \n",
      " 9   lang                140337 non-null  object             \n",
      " 10  retweeted_status    106900 non-null  object             \n",
      " 11  datetime            140337 non-null  datetime64[ns, UTC]\n",
      " 12  text_length         140337 non-null  int64              \n",
      " 13  user_id             140337 non-null  object             \n",
      " 14  followers_count     140337 non-null  int64              \n",
      " 15  friends_count       140337 non-null  int64              \n",
      " 16  user_location       140337 non-null  object             \n",
      " 17  acct_created        140337 non-null  object             \n",
      " 18  statuses_count      140337 non-null  int64              \n",
      " 19  following           140337 non-null  bool               \n",
      " 20  following_request   140337 non-null  bool               \n",
      " 21  notifications       140337 non-null  bool               \n",
      " 22  user_descriptions   140337 non-null  object             \n",
      "dtypes: bool(4), datetime64[ns, UTC](1), int64(6), object(12)\n",
      "memory usage: 20.9+ MB\n"
     ]
    }
   ],
   "source": [
    "df.info()"
   ]
  },
  {
   "cell_type": "markdown",
   "metadata": {},
   "source": [
    "## The int() columns seems interesting, investigate further"
   ]
  },
  {
   "cell_type": "code",
   "execution_count": 67,
   "metadata": {},
   "outputs": [
    {
     "data": {
      "text/plain": [
       "(21028.81549413198, 859.0, 66438.94603761076)"
      ]
     },
     "execution_count": 67,
     "metadata": {},
     "output_type": "execute_result"
    }
   ],
   "source": [
    "# retweet_count stats:\n",
    "df.retweet_count.mean(), df.retweet_count.median(), df.retweet_count.std()"
   ]
  },
  {
   "cell_type": "code",
   "execution_count": 68,
   "metadata": {},
   "outputs": [
    {
     "data": {
      "text/plain": [
       "(4.9153395041934775, 0.0, 661.1712932699155)"
      ]
     },
     "execution_count": 68,
     "metadata": {},
     "output_type": "execute_result"
    }
   ],
   "source": [
    "# favorite_count stats:\n",
    "df.favorite_count.mean(), df.favorite_count.median(), df.favorite_count.std()"
   ]
  },
  {
   "cell_type": "code",
   "execution_count": 69,
   "metadata": {},
   "outputs": [
    {
     "data": {
      "text/plain": [
       "(118.03955478597946, 139.0, 52.76082452811671)"
      ]
     },
     "execution_count": 69,
     "metadata": {},
     "output_type": "execute_result"
    }
   ],
   "source": [
    "# text_length stats:\n",
    "df.text_length.mean(), df.text_length.median(), df.text_length.std()"
   ]
  },
  {
   "cell_type": "code",
   "execution_count": 70,
   "metadata": {},
   "outputs": [
    {
     "data": {
      "text/plain": [
       "(6257.545629449111, 423.0, 349213.32380061835)"
      ]
     },
     "execution_count": 70,
     "metadata": {},
     "output_type": "execute_result"
    }
   ],
   "source": [
    "# followers_count stats:\n",
    "df.followers_count.mean(), df.followers_count.median(), df.followers_count.std()"
   ]
  },
  {
   "cell_type": "code",
   "execution_count": 72,
   "metadata": {},
   "outputs": [
    {
     "data": {
      "text/plain": [
       "(2503.2387253539696, 690.0, 7632.612775724196)"
      ]
     },
     "execution_count": 72,
     "metadata": {},
     "output_type": "execute_result"
    }
   ],
   "source": [
    "# friends_count stats:\n",
    "df.friends_count.mean(), df.friends_count.median(), df.friends_count.std()"
   ]
  },
  {
   "cell_type": "code",
   "execution_count": null,
   "metadata": {},
   "outputs": [],
   "source": []
  },
  {
   "cell_type": "code",
   "execution_count": null,
   "metadata": {},
   "outputs": [],
   "source": []
  },
  {
   "cell_type": "code",
   "execution_count": null,
   "metadata": {},
   "outputs": [],
   "source": []
  },
  {
   "cell_type": "code",
   "execution_count": null,
   "metadata": {},
   "outputs": [],
   "source": []
  }
 ],
 "metadata": {
  "kernelspec": {
   "display_name": "Python 3",
   "language": "python",
   "name": "python3"
  },
  "language_info": {
   "codemirror_mode": {
    "name": "ipython",
    "version": 3
   },
   "file_extension": ".py",
   "mimetype": "text/x-python",
   "name": "python",
   "nbconvert_exporter": "python",
   "pygments_lexer": "ipython3",
   "version": "3.8.5"
  }
 },
 "nbformat": 4,
 "nbformat_minor": 4
}
